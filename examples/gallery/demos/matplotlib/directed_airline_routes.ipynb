{
 "cells": [
  {
   "cell_type": "markdown",
   "metadata": {},
   "source": [
    "Most examples work across multiple plotting backends, this example is also available for:\n",
    "\n",
    "* [Bokeh Directed Airline Routes](../bokeh/directed_airline_routes.ipynb)"
   ]
  },
  {
   "cell_type": "code",
   "execution_count": null,
   "metadata": {},
   "outputs": [],
   "source": [
    "import networkx as nx\n",
    "from bokeh.sampledata.airport_routes import airports, routes\n",
    "\n",
    "import holoviews as hv\n",
    "from holoviews import opts\n",
    "from holoviews.element.graphs import layout_nodes\n",
    "\n",
    "hv.extension('matplotlib')\n",
    "\n",
    "hv.output(fig='svg')"
   ]
  },
  {
   "cell_type": "markdown",
   "metadata": {},
   "source": [
    "## Declare data"
   ]
  },
  {
   "cell_type": "code",
   "execution_count": null,
   "metadata": {},
   "outputs": [],
   "source": [
    "# Create dataset indexed by AirportID and with additional value dimension\n",
    "airports = hv.Dataset(airports, ['AirportID'], ['Name', 'IATA', 'City'])\n",
    "\n",
    "label = 'Alaska Airline Routes'\n",
    "\n",
    "# Select just Alaska Airline routes\n",
    "as_graph = hv.Graph((routes[routes.Airline=='AS'], airports), ['SourceID', \"DestinationID\"], 'Airline', label=label)\n",
    "\n",
    "as_graph = layout_nodes(as_graph, layout=nx.layout.fruchterman_reingold_layout)\n",
    "labels = hv.Labels(as_graph.nodes, ['x', 'y'], ['IATA', 'City'], label=label)"
   ]
  },
  {
   "cell_type": "markdown",
   "metadata": {},
   "source": [
    "## Plot"
   ]
  },
  {
   "cell_type": "code",
   "execution_count": null,
   "metadata": {},
   "outputs": [],
   "source": [
    "(as_graph * labels).opts(\n",
    "    opts.Graph(directed=True, fig_size=300, node_size=8, bgcolor='gray',\n",
    "               edge_color='white', edge_linewidth=1, arrowhead_length=0.01,\n",
    "               node_color='white', xaxis=None, yaxis=None),\n",
    "    opts.Labels(xoffset=-0.04, yoffset=0.03, show_legend=False))"
   ]
  }
 ],
 "metadata": {
  "language_info": {
   "name": "python",
   "pygments_lexer": "ipython3"
  }
 },
 "nbformat": 4,
 "nbformat_minor": 2
}
