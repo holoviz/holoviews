{
 "cells": [
  {
   "cell_type": "markdown",
   "metadata": {},
   "source": [
    "URL: http://matplotlib.org/examples/pylab_examples/quiver_demo.html\n",
    "\n",
    "Most examples work across multiple plotting backends, this example is also available for:\n",
    "\n",
    "* [Bokeh - quiver_demo](../bokeh/quiver_demo.ipynb)"
   ]
  },
  {
   "cell_type": "code",
   "execution_count": null,
   "metadata": {},
   "outputs": [],
   "source": [
    "import numpy as np\n",
    "import holoviews as hv\n",
    "from holoviews import opts\n",
    "\n",
    "hv.extension('matplotlib')"
   ]
  },
  {
   "cell_type": "markdown",
   "metadata": {},
   "source": [
    "### Define data"
   ]
  },
  {
   "cell_type": "code",
   "execution_count": null,
   "metadata": {},
   "outputs": [],
   "source": [
    "xs, ys = np.arange(0, 2 * np.pi, .2), np.arange(0, 2 * np.pi, .2)\n",
    "X, Y = np.meshgrid(xs, ys)\n",
    "U = np.cos(X)\n",
    "V = np.sin(Y)"
   ]
  },
  {
   "cell_type": "markdown",
   "metadata": {},
   "source": [
    "## Matplotlib"
   ]
  },
  {
   "cell_type": "code",
   "execution_count": null,
   "metadata": {},
   "outputs": [],
   "source": [
    "mag = np.sqrt(U**2 + V**2)\n",
    "angle = (np.pi/2.) - np.arctan2(U/mag, V/mag)\n",
    "vf = hv.VectorField((X.flat, Y.flat, angle.flat, mag.flat),\n",
    "                     label='Arrows scale with plot width, not view')\n",
    "\n",
    "vf_opts = opts.VectorField(aspect=1.5, fig_size=200, padding=0.1)\n",
    "\n",
    "vf.opts(vf_opts)"
   ]
  },
  {
   "cell_type": "code",
   "execution_count": null,
   "metadata": {},
   "outputs": [],
   "source": [
    "vf_mid = hv.VectorField((xs[::3], ys[::3], angle[::3, ::3], mag[::3, ::3]))\n",
    "points = hv.Points((X[::3, ::3].flat, Y[::3, ::3].flat))     \n",
    "\n",
    "(vf_mid * scatter).opts(\n",
    "    opts.Points(color='red'), vf_opts\n",
    ").relabel(\"pivot='mid'; every third arrow; units='inches'\")"
   ]
  },
  {
   "cell_type": "code",
   "execution_count": null,
   "metadata": {},
   "outputs": [],
   "source": [
    "vf_tip = hv.VectorField((xs, ys, angle, mag))\n",
    "points = hv.Points((X.flat, Y.flat))\n",
    "\n",
    "(vf_tip * points).opts(\n",
    "    opts.Points(color='black', s=5),\n",
    "    opts.VectorField(color='Magnitude', pivot='tip', magnitude='Magnitude',\n",
    "                     **vf_opts.kwargs)\n",
    ").relabel(\"pivot='tip'; scales with x view\")"
   ]
  }
 ],
 "metadata": {
  "language_info": {
   "name": "python",
   "pygments_lexer": "ipython3"
  }
 },
 "nbformat": 4,
 "nbformat_minor": 2
}
