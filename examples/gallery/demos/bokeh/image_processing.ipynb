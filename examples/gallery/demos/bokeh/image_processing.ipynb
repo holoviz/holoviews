{
 "cells": [
  {
   "cell_type": "markdown",
   "metadata": {},
   "source": [
    "URL: http://www.scipy-lectures.org/advanced/image_processing\n",
    "\n",
    "Most examples work across multiple plotting backends, this example is also available for:\n",
    "\n",
    "* [Matplotlib - image_processing](../matplotlib/image_processing.ipynb)"
   ]
  },
  {
   "cell_type": "code",
   "execution_count": null,
   "metadata": {},
   "outputs": [],
   "source": [
    "import numpy as np\n",
    "from scipy import misc, ndimage\n",
    "import holoviews as hv\n",
    "hv.extension('bokeh')"
   ]
  },
  {
   "cell_type": "markdown",
   "metadata": {},
   "source": [
    "## Declaring data"
   ]
  },
  {
   "cell_type": "code",
   "execution_count": null,
   "metadata": {
    "collapsed": true
   },
   "outputs": [],
   "source": [
    "sigmas = np.linspace(0,20,21)\n",
    "face = misc.face(gray=True)\n",
    "original = hv.Image(face, group='Original') \n"
   ]
  },
  {
   "cell_type": "markdown",
   "metadata": {},
   "source": [
    "## Plot"
   ]
  },
  {
   "cell_type": "code",
   "execution_count": null,
   "metadata": {},
   "outputs": [],
   "source": [
    "%%opts Image  [xaxis='bare', yaxis='bare'] (cmap='gray')\n",
    "kdims=['sigma']\n",
    "blurred = hv.HoloMap([(s, hv.Image(ndimage.gaussian_filter(face, sigma=s), group='Blurred')) for s in sigmas], kdims=kdims)\n",
    "difference = hv.HoloMap([(s, hv.Image(ndimage.gaussian_filter(face, sigma=s)-face, group='Difference')) for s in sigmas], kdims=kdims)\n",
    "original + blurred + difference"
   ]
  }
 ],
 "metadata": {
  "kernelspec": {
   "display_name": "Python 3",
   "language": "python",
   "name": "python3"
  },
  "language_info": {
   "codemirror_mode": {
    "name": "ipython",
    "version": 3
   },
   "file_extension": ".py",
   "mimetype": "text/x-python",
   "name": "python",
   "nbconvert_exporter": "python",
   "pygments_lexer": "ipython3",
   "version": "3.5.3"
  }
 },
 "nbformat": 4,
 "nbformat_minor": 2
}
