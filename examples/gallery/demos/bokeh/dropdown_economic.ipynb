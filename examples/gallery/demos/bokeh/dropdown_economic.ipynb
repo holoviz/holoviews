{
 "cells": [
  {
   "cell_type": "markdown",
   "metadata": {},
   "source": [
    "Most examples work across multiple plotting backends, this example is also available for:\n",
    "\n",
    "* [Matplotlib - dropdown_economic](../matplotlib/dropdown_economic.ipynb)"
   ]
  },
  {
   "cell_type": "code",
   "execution_count": null,
   "metadata": {},
   "outputs": [],
   "source": [
    "import numpy as np\n",
    "import pandas as pd\n",
    "import holoviews as hv\n",
    "hv.extension('bokeh')"
   ]
  },
  {
   "cell_type": "markdown",
   "metadata": {},
   "source": [
    "## Declaring data"
   ]
  },
  {
   "cell_type": "code",
   "execution_count": null,
   "metadata": {},
   "outputs": [],
   "source": [
    "macro_df = pd.read_csv('http://assets.holoviews.org/macro.csv', '\\t')\n",
    "key_dimensions   = [('year', 'Year'), ('country', 'Country')]\n",
    "value_dimensions = [('unem', 'Unemployment'), ('capmob', 'Capital Mobility'),\n",
    "                    ('gdp', 'GDP Growth'), ('trade', 'Trade')]\n",
    "macro = hv.Table(macro_df, kdims=key_dimensions, vdims=value_dimensions)"
   ]
  },
  {
   "cell_type": "markdown",
   "metadata": {},
   "source": [
    "## Plot"
   ]
  },
  {
   "cell_type": "markdown",
   "metadata": {},
   "source": [
    "**Note:** The ``Arrow`` element is not current supported by the Bokeh plotting extension. This version uses ``VLines`` and ``Text`` instead of ``Arrow`` and will be updated to match matplotlib's approach in the next version of HoloViews."
   ]
  },
  {
   "cell_type": "code",
   "execution_count": null,
   "metadata": {},
   "outputs": [],
   "source": [
    "%%opts Overlay [width=700 height=400 show_frame=False]\n",
    "%%opts Curve (color='k') Scatter [color_index=2 size_index=2 scaling_factor=1.4] (cmap='Blues' line_color='k')\n",
    "%%opts VLine (color='k' line_width=1)\n",
    "%%opts Text (text_font_size='13px')\n",
    "gdp_curves = macro.to.curve('Year', 'GDP Growth')\n",
    "gdp_unem_scatter = macro.to.scatter('Year', ['GDP Growth', 'Unemployment'])\n",
    "vlines = hv.VLine(1973)* hv.VLine(1975) * hv.VLine(1979) * hv.VLine(1981.9)\n",
    "text = (hv.Text(1971.7,9, 'Oil Crisis') * hv.Text(1976.4, 9, 'Stagflation') \n",
    "        * hv.Text(1977.3, 7, 'Energy Crisis') * hv.Text(1985, 9, 'Early Eighties Recession'))\n",
    "gdp_curves * gdp_unem_scatter * vlines * text"
   ]
  }
 ],
 "metadata": {
  "language_info": {
   "name": "python",
   "pygments_lexer": "ipython3"
  }
 },
 "nbformat": 4,
 "nbformat_minor": 2
}
