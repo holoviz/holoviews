{
 "cells": [
  {
   "cell_type": "code",
   "execution_count": null,
   "metadata": {},
   "outputs": [],
   "source": [
    "import numpy as np\n",
    "import pandas as pd\n",
    "\n",
    "import holoviews as hv\n",
    "hv.extension(\"bokeh\")"
   ]
  },
  {
   "cell_type": "markdown",
   "metadata": {},
   "source": [
    "## Declaring data\n",
    "\n",
    "For presentation purposes, the dummy data contains time series data with frequency patterns which nicely shows the benefit of radial heatmaps to detect periodicities.\n",
    "\n",
    "Generate hourly values for 31 days with 7 days a week. A segement represents an hour whereas an annular represents an entire day. "
   ]
  },
  {
   "cell_type": "code",
   "execution_count": null,
   "metadata": {},
   "outputs": [],
   "source": [
    "days = 31\n",
    "hours = 24\n",
    "\n",
    "size = days*hours\n",
    "\n",
    "def generate_hourly_periodic_data(x):\n",
    "    periodic_weekly = np.sin(x*2*np.pi / (24*7))\n",
    "    periodic_daily = np.sin(x*2*np.pi / 24)\n",
    "    noise = np.random.random(size=x.size)\n",
    "    \n",
    "    return periodic_weekly + periodic_daily + noise\n",
    "\n",
    "x = np.linspace(0, size, size)\n",
    "y = generate_hourly_periodic_data(x)\n",
    "\n",
    "date_index = pd.date_range(start=\"2017-10-01\", freq=\"h\", periods=size)\n",
    "kdim_segment = date_index.strftime(\"%H:%M\")\n",
    "kdim_annular = date_index.strftime(\"%A %d\")\n",
    "\n",
    "df = pd.DataFrame({\"values\": y, \"hour\": kdim_segment, \"day\": kdim_annular}, index=date_index)\n",
    "df.head()"
   ]
  },
  {
   "cell_type": "code",
   "execution_count": null,
   "metadata": {},
   "outputs": [],
   "source": [
    "%%opts RadialHeatMap [width=900 height=900 tools=[\"hover\"] show_nth_label=4 padding_outer=0.05 padding_inner=0.1 separate_nth_segment=4]\n",
    "\n",
    "import holoviews as hv\n",
    "hv.extension(\"bokeh\")\n",
    "\n",
    "hv.RadialHeatMap(df, kdims=[\"hour\", \"day\"])"
   ]
  }
 ],
 "metadata": {
  "kernelspec": {
   "display_name": "holoviews_dev",
   "language": "python",
   "name": "holoviews_dev"
  },
  "language_info": {
   "codemirror_mode": {
    "name": "ipython",
    "version": 3
   },
   "file_extension": ".py",
   "mimetype": "text/x-python",
   "name": "python",
   "nbconvert_exporter": "python",
   "pygments_lexer": "ipython3",
   "version": "3.5.4"
  }
 },
 "nbformat": 4,
 "nbformat_minor": 2
}
