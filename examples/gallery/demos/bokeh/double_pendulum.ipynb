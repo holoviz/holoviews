{
 "cells": [
  {
   "cell_type": "markdown",
   "metadata": {},
   "source": [
    "This example was adapted from Jake Vanderplas' blog post: http://jakevdp.github.io/blog/2012/08/18/matplotlib-animation-tutorial/\n",
    "\n",
    "Most examples work across multiple plotting backends equivalent, this example is also available for:\n",
    "\n",
    "* [matplotlib - double_pendulum](../matplotlib/double_pendulum.ipynb)"
   ]
  },
  {
   "cell_type": "code",
   "execution_count": null,
   "metadata": {},
   "outputs": [],
   "source": [
    "from numpy import sin, cos\n",
    "import numpy as np\n",
    "import holoviews as hv\n",
    "import scipy.integrate as integrate\n",
    "\n",
    "hv.extension('bokeh')"
   ]
  },
  {
   "cell_type": "markdown",
   "metadata": {},
   "source": [
    "## Declaring data"
   ]
  },
  {
   "cell_type": "code",
   "execution_count": null,
   "metadata": {},
   "outputs": [],
   "source": [
    "class DoublePendulum:\n",
    "    \"\"\"Double Pendulum Class\n",
    "\n",
    "    init_state is [theta1, omega1, theta2, omega2] in degrees,\n",
    "    where theta1, omega1 is the angular position and velocity of the first\n",
    "    pendulum arm, and theta2, omega2 is that of the second pendulum arm\n",
    "    \"\"\"\n",
    "    def __init__(self,\n",
    "                 init_state = [120, 0, -20, 0],\n",
    "                 L1=1.0,  # length of pendulum 1 in m\n",
    "                 L2=1.0,  # length of pendulum 2 in m\n",
    "                 M1=1.0,  # mass of pendulum 1 in kg\n",
    "                 M2=1.0,  # mass of pendulum 2 in kg\n",
    "                 G=9.8,  # acceleration due to gravity, in m/s^2\n",
    "                 origin=(0, 0)): \n",
    "        self.init_state = np.asarray(init_state, dtype='float')\n",
    "        self.params = (L1, L2, M1, M2, G)\n",
    "        self.origin = origin\n",
    "        self.time_elapsed = 0\n",
    "\n",
    "        self.state = self.init_state * np.pi / 180.\n",
    "    \n",
    "    def position(self):\n",
    "        \"\"\"compute the current x,y positions of the pendulum arms\"\"\"\n",
    "        (L1, L2, M1, M2, G) = self.params\n",
    "\n",
    "        x = np.cumsum([self.origin[0],\n",
    "                       L1 * sin(self.state[0]),\n",
    "                       L2 * sin(self.state[2])])\n",
    "        y = np.cumsum([self.origin[1],\n",
    "                       -L1 * cos(self.state[0]),\n",
    "                       -L2 * cos(self.state[2])])\n",
    "        return (x, y)\n",
    "\n",
    "    def energy(self):\n",
    "        \"\"\"compute the energy of the current state\"\"\"\n",
    "        (L1, L2, M1, M2, G) = self.params\n",
    "\n",
    "        x = np.cumsum([L1 * sin(self.state[0]),\n",
    "                       L2 * sin(self.state[2])])\n",
    "        y = np.cumsum([-L1 * cos(self.state[0]),\n",
    "                       -L2 * cos(self.state[2])])\n",
    "        vx = np.cumsum([L1 * self.state[1] * cos(self.state[0]),\n",
    "                        L2 * self.state[3] * cos(self.state[2])])\n",
    "        vy = np.cumsum([L1 * self.state[1] * sin(self.state[0]),\n",
    "                        L2 * self.state[3] * sin(self.state[2])])\n",
    "\n",
    "        U = G * (M1 * y[0] + M2 * y[1])\n",
    "        K = 0.5 * (M1 * np.dot(vx, vx) + M2 * np.dot(vy, vy))\n",
    "\n",
    "        return U + K\n",
    "\n",
    "    def dstate_dt(self, state, t):\n",
    "        \"\"\"compute the derivative of the given state\"\"\"\n",
    "        (M1, M2, L1, L2, G) = self.params\n",
    "\n",
    "        dydx = np.zeros_like(state)\n",
    "        dydx[0] = state[1]\n",
    "        dydx[2] = state[3]\n",
    "\n",
    "        cos_delta = cos(state[2] - state[0])\n",
    "        sin_delta = sin(state[2] - state[0])\n",
    "\n",
    "        den1 = (M1 + M2) * L1 - M2 * L1 * cos_delta * cos_delta\n",
    "        dydx[1] = (M2 * L1 * state[1] * state[1] * sin_delta * cos_delta\n",
    "                   + M2 * G * sin(state[2]) * cos_delta\n",
    "                   + M2 * L2 * state[3] * state[3] * sin_delta\n",
    "                   - (M1 + M2) * G * sin(state[0])) / den1\n",
    "\n",
    "        den2 = (L2 / L1) * den1\n",
    "        dydx[3] = (-M2 * L2 * state[3] * state[3] * sin_delta * cos_delta\n",
    "                   + (M1 + M2) * G * sin(state[0]) * cos_delta\n",
    "                   - (M1 + M2) * L1 * state[1] * state[1] * sin_delta\n",
    "                   - (M1 + M2) * G * sin(state[2])) / den2\n",
    "        \n",
    "        return dydx\n",
    "\n",
    "    def step(self, dt):\n",
    "        \"\"\"execute one time step of length dt and update state\"\"\"\n",
    "        self.state = integrate.odeint(self.dstate_dt, self.state, [0, dt])[1]\n",
    "        self.time_elapsed += dt\n",
    "\n",
    "#------------------------------------------------------------\n",
    "# set up initial state and global variables\n",
    "pendulum = DoublePendulum([180., 0.0, -20., 0.0])\n",
    "dt = 1./30 # 30 fps\n",
    "\n",
    "pendulum_motion = hv.HoloMap(kdims='Time')\n",
    "for i in range(301):\n",
    "    position = pendulum.position()\n",
    "    energy = pendulum.energy()\n",
    "    text = 'Time: %.2f s \\nEnergy: %.2f J' %  (i*dt, energy)\n",
    "    pendulum_motion[i*dt] = hv.Curve(position) * hv.Points(position) * hv.Text(-1.9, 1.7, text, halign='left')\n",
    "    pendulum.step(dt)"
   ]
  },
  {
   "cell_type": "markdown",
   "metadata": {},
   "source": [
    "## Plot"
   ]
  },
  {
   "cell_type": "code",
   "execution_count": null,
   "metadata": {},
   "outputs": [],
   "source": [
    "%%output holomap='scrubber' fps=30\n",
    "%%opts Points [width=500 height=500 title_format=''] (size=10)\n",
    "pendulum_motion.redim.range(x=(-2, 2), y=(-2, 2))"
   ]
  }
 ],
 "metadata": {
  "kernelspec": {
   "display_name": "Python 3",
   "language": "python",
   "name": "python3"
  },
  "language_info": {
   "codemirror_mode": {
    "name": "ipython",
    "version": 3
   },
   "file_extension": ".py",
   "mimetype": "text/x-python",
   "name": "python",
   "nbconvert_exporter": "python",
   "pygments_lexer": "ipython3",
   "version": "3.6.3"
  }
 },
 "nbformat": 4,
 "nbformat_minor": 2
}
