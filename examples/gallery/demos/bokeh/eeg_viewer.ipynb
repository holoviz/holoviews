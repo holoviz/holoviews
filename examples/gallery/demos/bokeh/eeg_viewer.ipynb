{
 "cells": [
  {
   "cell_type": "code",
   "execution_count": null,
   "id": "8109537b-5fba-4f07-aba4-91a56f7e95c7",
   "metadata": {},
   "outputs": [],
   "source": [
    "import numpy as np\n",
    "import holoviews as hv\n",
    "\n",
    "from bokeh.models import HoverTool\n",
    "from holoviews.plotting.links import RangeToolLink\n",
    "from scipy.stats import zscore\n",
    "\n",
    "np.random.seed(10)\n",
    "hv.extension('bokeh')"
   ]
  },
  {
   "cell_type": "markdown",
   "id": "08d8240a-c1b9-4b98-8e05-160ca0146d23",
   "metadata": {},
   "source": [
    "This example demonstrates how to display multiple timeseries on a same plot leveraging `subcoordinate_y` and how to create and link a minimap to this plot using the `RangeToolLink`. More specifically, the example generates fake [Electroencephalography](https://en.wikipedia.org/wiki/Electroencephalography) (EEG) timeseries data, plots the timeseries together, computes the [z score](https://en.wikipedia.org/wiki/Standard_score) of each timeseries and creates an image of that, that serves as a minimap linked to the main plot for easier exploration."
   ]
  },
  {
   "cell_type": "markdown",
   "id": "1c95f241-2314-42b0-b6cb-2c0baf332686",
   "metadata": {},
   "source": [
    "## EEG data and plot\n",
    "\n",
    "We start by creating the timeseries data that will be plotted together."
   ]
  },
  {
   "cell_type": "code",
   "execution_count": null,
   "id": "e169cf37-aba2-4b1c-87b1-2ee508070536",
   "metadata": {},
   "outputs": [],
   "source": [
    "n_channels = 10\n",
    "n_seconds = 5\n",
    "sampling_rate = 512\n",
    "\n",
    "total_samples = n_seconds * sampling_rate\n",
    "time = np.linspace(0, n_seconds, total_samples)\n",
    "data = np.random.randn(n_channels, total_samples).cumsum(axis=1)\n",
    "channels = [f'EEG {i}' for i in range(n_channels)]"
   ]
  },
  {
   "cell_type": "markdown",
   "id": "ec9e71b8-a995-4c0f-bdbb-5d148d8fa138",
   "metadata": {},
   "source": [
    "We create a custom hover tool to make it easier to inspect the values. Each timeseries is built from a `Curve` element, that is given a `label` and that is configured with `subcoordinate_y=True`. They're collected in a list that is given as input to an `Overlay`, displaying it renders a plot with stacked timeseries."
   ]
  },
  {
   "cell_type": "code",
   "execution_count": null,
   "id": "9476769f-3935-4236-b010-1511d1a1e77f",
   "metadata": {},
   "outputs": [],
   "source": [
    "hover = HoverTool(tooltips=[\n",
    "    (\"Channel\", \"@channel\"),\n",
    "    (\"Time\", \"$x s\"),\n",
    "    (\"Amplitude\", \"$y µV\")\n",
    "])\n",
    "\n",
    "channel_curves = []\n",
    "for channel, channel_data in zip(channels, data):\n",
    "    ds = hv.Dataset((time, channel_data, channel), [\"Time\", \"Amplitude\", \"channel\"])\n",
    "    curve = hv.Curve(ds, \"Time\", [\"Amplitude\", \"channel\"], label=channel)\n",
    "    curve.opts(\n",
    "        subcoordinate_y=True, color=\"black\", line_width=1, tools=[hover],\n",
    "    )\n",
    "    channel_curves.append(curve)\n",
    "\n",
    "eeg = hv.Overlay(channel_curves, kdims=\"Channel\").opts(\n",
    "    xlabel=\"Time (s)\", ylabel=\"Channel\", show_legend=False, aspect=3, responsive=True,\n",
    ")\n",
    "eeg"
   ]
  },
  {
   "cell_type": "markdown",
   "id": "b4f603e2-039d-421a-ba9a-ed9e77efab99",
   "metadata": {},
   "source": [
    "## Minimap data and plot\n",
    "\n",
    "We compute the *z score* and build an `Image` element configured to display the score on a blue-to-red palette, highlighting where the timeseries diverge the most from their mean value. The `Overlay` we built in the section before has each `Curve` vertically centered around its index value, e.g. `EEG 0` is cerntered around 0. To allow linking between the `Overlay` and the `Image` we are building, we make sure they have the same *yaxis* range by computing `y_positions` appropriately."
   ]
  },
  {
   "cell_type": "code",
   "execution_count": null,
   "id": "40fa2198-c3b5-41e1-944f-f8b812612168",
   "metadata": {},
   "outputs": [],
   "source": [
    "y_positions = range(n_channels)\n",
    "yticks = [(i , ich) for i, ich in enumerate(channels)]\n",
    "\n",
    "z_data = zscore(data, axis=1)\n",
    "\n",
    "minimap = hv.Image((time, y_positions , z_data), [\"Time (s)\", \"Channel\"], \"Amplitude (uV)\")\n",
    "minimap = minimap.opts(\n",
    "    cmap=\"RdBu_r\", xlabel='Time (s)', alpha=.5, yticks=[yticks[0], yticks[-1]],\n",
    "    height=150, responsive=True, default_tools=[], clim=(-z_data.std()*2.5, z_data.std()*2.5)\n",
    ")\n",
    "minimap"
   ]
  },
  {
   "cell_type": "markdown",
   "id": "a5b77970-342f-4428-bd1c-4dbef1e6a2b5",
   "metadata": {},
   "source": [
    "## Link and dashboard\n",
    "\n",
    "We link from the `Image` to the `Overlay` using the `RangeToolLink`, set up to link between the two axes and with an initial selection. Our dashboard is finally built by laying out these two elements. Try it out by moving and changing the size of the selection box on the `Image` to explore the timeseries."
   ]
  },
  {
   "cell_type": "code",
   "execution_count": null,
   "id": "260489eb-2dbf-4c88-ba83-dd1cba0e547b",
   "metadata": {},
   "outputs": [],
   "source": [
    "RangeToolLink(\n",
    "    minimap, eeg, axes=[\"x\", \"y\"],\n",
    "    boundsx=(None, 2), boundsy=(None, 4.5)\n",
    ")\n",
    "\n",
    "dashboard = (eeg + minimap).opts(merge_tools=False).cols(1)\n",
    "dashboard"
   ]
  }
 ],
 "metadata": {
  "language_info": {
   "name": "python",
   "pygments_lexer": "ipython3"
  }
 },
 "nbformat": 4,
 "nbformat_minor": 5
}
