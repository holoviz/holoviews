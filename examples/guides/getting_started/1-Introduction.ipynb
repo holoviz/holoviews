{
 "cells": [
  {
   "cell_type": "markdown",
   "metadata": {},
   "source": [
    "Welcome to HoloViews!\n",
    "\n",
    "This 'Getting Started' guide aims to get you using HoloViews productively as quickly as possible. It is designed as an entrypoint for new users that will introduce the core concepts necessary to get you working productively with your own data. We recommend reading this guide in order if you wish to get an overview of what is offered by HoloViews. For detailed documentation, please consult our [User Guide] which we will link to from the appropriate sections of this guide.\n",
    "\n",
    "I-Introduction </br>\n",
    "II-Customization </br>\n",
    "III-Datasets </br>\n",
    "IV-Live_Data </br>\n",
    "V-Pipelines </br>\n",
    "VI-Principles </br>\n",
    "\n",
    "\n",
    "# Why HoloViews?\n",
    "\n",
    "HoloViews is a BSD licensed package used for data analysis and visualization for Python 2 and 3. There are plenty of excellent tools available for Python already such as numpy, pandas and xarray for raw data processing as well as some excellent plotting libraries such as matplotlib, bokeh and plotly. So why is there a need for another plotting library?\n",
    "\n",
    "As will be made clear over the course of this guide, HoloViews takes a distinct approach to visualization which is quite distinct from the traditional plotting paradigm. Instead of building plots and writing plotting code, you describe your data with a small amount of semantic information. This then enables immediate, automatic visualization that can be effortlessly requested at any time as your data evolves. Without requiring any traditional plotting code, HoloViews brings your data to life with your favorite plotting library, whether it is matplotlib, bokeh or plotly.\n",
    "\n",
    "HoloViews is data-centric while traditional plotting libraries are visualization-centric. Instead of a 'Data Visualization' library that visualizes data at a snapshot in time, HoloViews is about empowering your data with the power of self-visualization as it is explored and transformed. For this reason, HoloViews can be viewed as a 'Visualization Data' library and by the end of this guide this distinction should be clear.\n",
    "\n",
    "\n",
    "## Tabulated data: subway stations\n",
    "\n",
    "We will now introduce HoloViews and demonstrate some of its most compelling features using real data relating to transportation in Manhattan, New York. First lets run some imports to make [numpy] and [pandas] accessible for loading our transportation data. We will start with a table of subway station information loaded from a CSV file with pandas and later on in this section, we will load some data relating to taxi dropoffs using numpy:"
   ]
  },
  {
   "cell_type": "code",
   "execution_count": null,
   "metadata": {},
   "outputs": [],
   "source": [
    "import pandas as pd\n",
    "import numpy as np\n",
    "import holoviews as hv\n",
    "hv.extension('bokeh')"
   ]
  },
  {
   "cell_type": "markdown",
   "metadata": {},
   "source": [
    "This is the standard way to make the numpy and pandas libraries available in the namespace. We recommend always importing HoloViews as ``hv`` and if you haven't already installed HoloViews, checkout our [installation page].\n",
    "\n",
    "Note that after importing HoloViews as ``hv`` we run ``hv.extension('bokeh')`` to load the bokeh plotting extension, allowing us to generate visualizations with [Bokeh]. In the next section we will see how you can use other plotting libraries such as [matplotlib] and even how you can mix and match between them.\n",
    "\n",
    "Now let's load our subway data using pandas:"
   ]
  },
  {
   "cell_type": "code",
   "execution_count": null,
   "metadata": {},
   "outputs": [],
   "source": [
    "station_info = pd.read_csv('../assets/station_info.csv')\n",
    "station_info.head()"
   ]
  },
  {
   "cell_type": "markdown",
   "metadata": {},
   "source": [
    "We see that this table contains the subway station name, its latitude and longitude, the year it was opened, the number of services available from the station and ther names and finally the yearly ridership (in millions for 2015)."
   ]
  },
  {
   "cell_type": "markdown",
   "metadata": {},
   "source": [
    "## ``Elements`` of visualization\n",
    "\n",
    "We can immediately visualize some of the the data in this table as a scatter plot. Let's view how ridership varies with the number of services offered at each station:"
   ]
  },
  {
   "cell_type": "code",
   "execution_count": null,
   "metadata": {},
   "outputs": [],
   "source": [
    "scatter = hv.Scatter(station_info, kdims=['services'], vdims=['ridership'])\n",
    "scatter"
   ]
  },
  {
   "cell_type": "markdown",
   "metadata": {},
   "source": [
    "Here we passed or dataframe to ``hv.Scatter`` to create an *object* called *scatter*. This object is independent of any plotting library and is a simple wrapper around our dataframe that knows that the 'services' column is to be plotted along the x-axis and 'ridership' column is to be plotted on the y-axis. These are our *dimensions* which we will describe in more detail a little later.\n",
    "\n",
    "Given that we have the handle ``scatter`` on our ``Scatter`` object, we can show that it is indeed an object and not a plot by printing it:"
   ]
  },
  {
   "cell_type": "code",
   "execution_count": null,
   "metadata": {},
   "outputs": [],
   "source": [
    "print(scatter)"
   ]
  },
  {
   "cell_type": "markdown",
   "metadata": {},
   "source": [
    "The bokeh plot above is simply the rich, visual representation of ``scatter`` which is plotted automatically by HoloViews and displayed automatically in [the Jupyter notebook]. Although HoloViews itself is independent of notebooks, this convenience makes working with HoloViews easiest in the notebook environment."
   ]
  },
  {
   "cell_type": "markdown",
   "metadata": {},
   "source": [
    "## Compositional ``Layouts``\n",
    "\n",
    "The class ``hv.Scatter`` is a subclass of ``Element`` which are the simplest viewable components in HoloViews as shown in our [element gallery]. Now we have a handle on ``scatter``, we can demonstrate the compositionality of these objects:"
   ]
  },
  {
   "cell_type": "code",
   "execution_count": null,
   "metadata": {},
   "outputs": [],
   "source": [
    "layout = scatter + hv.Histogram(np.histogram(station_info['opened'], bins=24), kdims=['opened'])\n",
    "layout"
   ]
  },
  {
   "cell_type": "markdown",
   "metadata": {},
   "source": [
    "In a single line and the ``+`` operator, we created a new, compositional object called a ``Layout`` built from our scatter visualizations and a ``Histogram`` that shows how many subway stations opened in Manhattan since 1900. Note that once again, all the plotting is happening behind the scenes and ``layout`` is a new object that exists independently of any given plotting system:"
   ]
  },
  {
   "cell_type": "code",
   "execution_count": null,
   "metadata": {},
   "outputs": [],
   "source": [
    "print(layout)"
   ]
  },
  {
   "cell_type": "markdown",
   "metadata": {},
   "source": [
    "## Array data: taxi dropoffs\n",
    "\n",
    "So far we have visualized data in a [pandas DataFrame] but ``HoloViews`` is as agnostic to data formats as it is to plotting libraries; see [User Guide] for more information. This means we can work with array data as easily as we can work with  tabular data and to demonstrate this, here are some [numpy arrays] relating to taxi dropoff locations in Manhattan:"
   ]
  },
  {
   "cell_type": "code",
   "execution_count": null,
   "metadata": {},
   "outputs": [],
   "source": [
    "taxi_dropoffs = {hour:arr for hour, arr in np.load('../assets/hourly_taxi_data.npz').items()}\n",
    "#print('Hours: {hours}'.format(hours=', '.join(taxi_dropoffs.keys())))\n",
    "print('Taxi data contains {num} arrays (one per hour).\\nDescription of the first array:\\n'.format(num=len(taxi_dropoffs)))\n",
    "np.info(taxi_dropoffs['0'])"
   ]
  },
  {
   "cell_type": "markdown",
   "metadata": {},
   "source": [
    "As we can see, this dataset contains 24 arrays (one for each hour of the day) of taxi dropoff locations (by latitude and longitude), aggregated over one month in 2015, where the array shown above contains the accumulated dropoffs for the first hour of the day."
   ]
  },
  {
   "cell_type": "markdown",
   "metadata": {},
   "source": [
    "## Compositional  ``Overlays``"
   ]
  },
  {
   "cell_type": "markdown",
   "metadata": {},
   "source": [
    "Once again, we can easily visualize this data with HoloViews by passing our array to ``hv.Image`` to create the ``image`` object which has the spatial extent of the data declared as the ``bounds`` in terms of the corresponding range of latitudes and longitudes."
   ]
  },
  {
   "cell_type": "code",
   "execution_count": null,
   "metadata": {
    "collapsed": true
   },
   "outputs": [],
   "source": [
    "bounds = (-74.05, 40.70, -73.90, 40.80)\n",
    "image = hv.Image(taxi_dropoffs['0'], bounds=bounds, kdims=['lon','lat'])"
   ]
  },
  {
   "cell_type": "markdown",
   "metadata": {},
   "source": [
    "HoloViews supports ``numpy``, ``xarray``, ``iris``, ``dask`` when working with array data (see [User Guide]) and we can compose elements containing array data with those containing tabular data. To illustrate, let's pass our tabular station data to a ``Points`` element which is used to mark positions in two-dimensional space:"
   ]
  },
  {
   "cell_type": "code",
   "execution_count": null,
   "metadata": {},
   "outputs": [],
   "source": [
    "points = hv.Points(station_info, kdims=['lon','lat'])\n",
    "image + image * points"
   ]
  },
  {
   "cell_type": "markdown",
   "metadata": {},
   "source": [
    "\n",
    "On the left, we have the visual representation of the ``image`` object we declared. Using ``+`` we put it into a ``Layout`` together with a new compositional object created with the ``*`` operator called an ``Overlay``. This particular overlay displays the station positions on top of our image which works correctly as both elements contain data that exist in the same space, namely Manhattan.\n",
    "\n",
    "This overlay on the right lets us see the location of all the subway stations in relation to our midnight taxi dropoffs. Note that HoloViews allows you to visually express more of the available information with our points, for instance, you could represent the ridership of each subway by point color or point size. For more information see [User Guide]."
   ]
  },
  {
   "cell_type": "markdown",
   "metadata": {},
   "source": [
    "## Effortlessly exploring data"
   ]
  },
  {
   "cell_type": "markdown",
   "metadata": {},
   "source": [
    "You can keep composing datastructures together until there are more dimensions than can fit on simultaneously on your screen. For instance, you can visualize a dictionary of ``Images`` (on for every hour of the day) by declaring a ``HoloMap``: "
   ]
  },
  {
   "cell_type": "code",
   "execution_count": null,
   "metadata": {},
   "outputs": [],
   "source": [
    "dictionary = {int(hour):hv.Image(arr, bounds=bounds, kdims=['lon','lat']) for hour, arr in taxi_dropoffs.items()}\n",
    "hv.HoloMap(dictionary, kdims=['Hour'])"
   ]
  },
  {
   "cell_type": "markdown",
   "metadata": {},
   "source": [
    "This is yet another object which is rendered by the HoloViews plotting system with Bokeh behind the scenes:"
   ]
  },
  {
   "cell_type": "code",
   "execution_count": null,
   "metadata": {},
   "outputs": [],
   "source": [
    "holomap = hv.HoloMap(dictionary, kdims=['Hour'])\n",
    "print(holomap)"
   ]
  },
  {
   "cell_type": "markdown",
   "metadata": {},
   "source": [
    "As this a ``HoloMap`` is a container for our ``Image`` elements, we can the methods it offers to return new containers. For instance, in the next cell we select three different hours of the morning from the ``HoloMap`` and display them as a ``Layout``:"
   ]
  },
  {
   "cell_type": "code",
   "execution_count": null,
   "metadata": {},
   "outputs": [],
   "source": [
    "holomap.select(Hour={3,6,9}).layout()"
   ]
  },
  {
   "cell_type": "markdown",
   "metadata": {},
   "source": [
    "Here the ``select`` method picks values from the specified 'Hour' *dimension*. We have seen dimensions used in the ``kdims`` and ``vdims`` arguments when declaring our elements (``scatter``, ``histogram`` and ``image`` above) and when declaring the ``HoloMap`` of ``Image``s above. These are the *key dimensions* (``kdims``) and *value dimensions* (``vdims``) used to express the space in which our data lives.\n",
    "\n",
    "Note how the ``Image`` elements where the holomap is constructed are declared using ``kdims=['lat','lon']`` which describes the fact that Manhattan is being viewed in terms of longitude and latitude. This semantic information is automatically mapped to our visualization by the HoloViews plotting system which sets the x-axis and y-axis labels accordingly. In the case of the ``HoloMap`` we used ``kdims=['Hour']`` to declare that the interactive slider ranges over the hours of the day."
   ]
  },
  {
   "cell_type": "markdown",
   "metadata": {
    "collapsed": true
   },
   "source": [
    "## Data as visualization"
   ]
  },
  {
   "cell_type": "markdown",
   "metadata": {},
   "source": [
    "Holomaps are able to compose with elements and other holomaps into overlay and layouts just as easily as you compose two elements together. Here is one such composition where we select a range of longitudes and latitudes from our ``Points`` before we overlay them:"
   ]
  },
  {
   "cell_type": "code",
   "execution_count": null,
   "metadata": {},
   "outputs": [],
   "source": [
    "%%opts Image [xrotation=90] Points (color='deepskyblue' marker='v' size=6)\n",
    "hotspot = points.select(lon=(-73.99, -73.96), lat=(40.75,40.765))\n",
    "composition = holomap * hotspot\n",
    "composition"
   ]
  },
  {
   "cell_type": "markdown",
   "metadata": {},
   "source": [
    "The line starting with ``%%opts`` used to specify the visual style is part of the HoloViews options system described in the next 'Getting started' section which also describes how to achieve the same effect with standard Python syntax.\n",
    "\n",
    "In the cell above we created and styles a composite object within a few short lines of code. Furthermore, this composite object relates tabular and array data and is immediately presented in a way that can be explored interactively. This way of working enables highly productive exploration allowing new insights to be gained easily. For instance, after exploring with the slider we notice a hotspot of taxi dropoffs at 7am which we can select as follows:"
   ]
  },
  {
   "cell_type": "code",
   "execution_count": null,
   "metadata": {},
   "outputs": [],
   "source": [
    "composition.select(Hour=7)"
   ]
  },
  {
   "cell_type": "markdown",
   "metadata": {},
   "source": [
    "We can now see that the slice of subway locations was chosen in relation to the hotspot in taxi dropoffs around 7am in the morning. This area of Manhattan just south of Central Park contains many popular tourist attractions, including Times Square and we can infer that tourists often take short taxi rides from the subway stations into this area.\n",
    "\n",
    "At this point it may appear that HoloViews is about easily generating explorative, interactive visualizations *from* your data. In fact, as we have been building these visualizations we have been working *with* our data, as we can show by examining the ``.data`` attribute of our sliced subway locations:"
   ]
  },
  {
   "cell_type": "code",
   "execution_count": null,
   "metadata": {},
   "outputs": [],
   "source": [
    "hotspot.data"
   ]
  },
  {
   "cell_type": "markdown",
   "metadata": {},
   "source": [
    "We see that slicing the HoloViews ``Points`` object in the visualization sliced the underlying data with the structure of the table left intact. We can see that the Times Square 42nd Street station is inded one of the subway stations surrounding our taxi dropoff hotspot."
   ]
  },
  {
   "cell_type": "markdown",
   "metadata": {},
   "source": [
    "## Onwards"
   ]
  },
  {
   "cell_type": "markdown",
   "metadata": {},
   "source": [
    "Advanced topics:\n",
    "\n",
    "* For geographical areas much larger than Manhattan the curvature of the Earth becomes important: holoviews extension called geoviews.\n",
    "* The taxi array data was derived from a very large tabular dataset and rasterized using datashader which is also supported by HoloViews."
   ]
  }
 ],
 "metadata": {
  "kernelspec": {
   "display_name": "Python 3",
   "language": "python",
   "name": "python3"
  },
  "language_info": {
   "codemirror_mode": {
    "name": "ipython",
    "version": 3
   },
   "file_extension": ".py",
   "mimetype": "text/x-python",
   "name": "python",
   "nbconvert_exporter": "python",
   "pygments_lexer": "ipython3",
   "version": "3.6.1"
  }
 },
 "nbformat": 4,
 "nbformat_minor": 2
}
