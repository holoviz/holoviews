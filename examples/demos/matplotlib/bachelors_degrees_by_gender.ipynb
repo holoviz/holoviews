{
 "cells": [
  {
   "cell_type": "markdown",
   "metadata": {},
   "source": [
    "# bachelors_degrees_by_gender\n",
    "\n",
    "URL: http://matplotlib.org/examples/showcase/bachelors_degrees_by_gender.html\n",
    "\n",
    "Most examples work across multiple plotting backends equivalent, this example is also available for:\n",
    "\n",
    "* [Bokeh - bachelors_degress_by_gender](../bokeh/bachelors_degress_by_gender.ipynb)"
   ]
  },
  {
   "cell_type": "code",
   "execution_count": null,
   "metadata": {},
   "outputs": [],
   "source": [
    "import numpy as np\n",
    "import holoviews as hv\n",
    "hv.extension('matplotlib')\n",
    "%output fig='svg'"
   ]
  },
  {
   "cell_type": "markdown",
   "metadata": {},
   "source": [
    "## Define data"
   ]
  },
  {
   "cell_type": "code",
   "execution_count": null,
   "metadata": {
    "collapsed": true
   },
   "outputs": [],
   "source": [
    "import pandas as pd\n",
    "from matplotlib.mlab import csv2rec\n",
    "from matplotlib.cbook import get_sample_data\n",
    "\n",
    "fname = get_sample_data('percent_bachelors_degrees_women_usa.csv')\n",
    "gender_degree_data = csv2rec(fname)\n",
    "\n",
    "title = ('Percentage of Bachelor\\'s degrees conferred to women in '\n",
    "        'the U.S.A. by major (1970-2011)\\n')\n",
    "\n",
    "# These are the colors that will be used in the plot\n",
    "color_sequence = ['#1f77b4', '#aec7e8', '#ff7f0e', '#ffbb78', '#2ca02c',\n",
    "                  '#98df8a', '#d62728', '#ff9896', '#9467bd', '#c5b0d5',\n",
    "                  '#8c564b', '#c49c94', '#e377c2', '#f7b6d2', '#7f7f7f',\n",
    "                  '#c7c7c7', '#bcbd22', '#dbdb8d', '#17becf', '#9edae5']\n",
    "\n",
    "# Offsets for degree labels\n",
    "y_offsets = {'Foreign Languages': 0.5, 'English': -0.5,\n",
    "             'Communications and Journalism': 0.75,\n",
    "             'Art and Performance': -0.25, 'Agriculture': 1.25,\n",
    "             'Social Sciences and History': 0.25, 'Business': -0.75,\n",
    "             'Math and Statistics': 0.75, 'Architecture': -0.75,\n",
    "             'Computer Science': 0.75, 'Engineering': -0.25}\n",
    "\n",
    "# Load the data into a dataframe and us pd.melt to unpivot the degree column\n",
    "df = pd.DataFrame(gender_degree_data)\n",
    "df = pd.melt(df, id_vars='year', var_name='Degree', value_name='conferred')\n",
    "df['Degree'] = [d.replace('_', ' ').title() for d in df.Degree]\n",
    "\n",
    "# Define a formatter that works for both bokeh and matplotlib\n",
    "def percent_format(x):\n",
    "    try:\n",
    "        return '{:0.0f}%'.format(x)\n",
    "    except:\n",
    "        return '%d%' % x\n",
    "\n",
    "# Define the value dimensions\n",
    "value_dim = hv.Dimension('conferred', value_format=percent_format, range=(0, 90))\n",
    "\n",
    "# Define the dataset\n",
    "ds = hv.Dataset(df, vdims=[value_dim])\n",
    "curves = ds.to(hv.Curve, 'year', groupby='Degree').overlay()\n",
    "\n",
    "# Define a function to get the text annotations\n",
    "max_year = ds['year'].max()\n",
    "def get_labels():\n",
    "     return hv.NdOverlay({deg: hv.Text(max_year, ds[max_year, deg]+y_offsets.get(deg, 0),\n",
    "                                        deg, halign='left', fontsize=10)(style=dict(color=col))\n",
    "                            for deg, col in zip(df.Degree.unique(), color_sequence)})"
   ]
  },
  {
   "cell_type": "markdown",
   "metadata": {},
   "source": [
    "## Display in matplotlib"
   ]
  },
  {
   "cell_type": "code",
   "execution_count": null,
   "metadata": {
    "scrolled": false
   },
   "outputs": [],
   "source": [
    "# Define a callback to define a custom grid along the y-axis and disabling the (ugly) axis spines\n",
    "def cb(plot, element):\n",
    "    ax = plot.handles['axis']\n",
    "    ax.grid(True, 'major', 'y', ls='--', lw=.5, c='k', alpha=.3)\n",
    "    ax.spines['bottom'].set_visible(False)\n",
    "    ax.spines['left'].set_visible(False)\n",
    "\n",
    "# Define various options to adjust the plot\n",
    "options = hv.Store.options(backend='matplotlib')\n",
    "options.Curve = hv.Options('plot', show_frame=False, bgcolor='white', labelled=[], show_grid=False,\n",
    "                           aspect=0.7, show_legend=False, xticks=5, final_hooks=[cb], fig_size=350)\n",
    "options.Curve = hv.Options('style', color=hv.Cycle(values=color_sequence), linewidth=2)\n",
    "\n",
    "(curves * get_labels()).relabel(title)"
   ]
  }
 ],
 "metadata": {
  "anaconda-cloud": {},
  "kernelspec": {
   "display_name": "Python [default]",
   "language": "python",
   "name": "python2"
  },
  "language_info": {
   "codemirror_mode": {
    "name": "ipython",
    "version": 2
   },
   "file_extension": ".py",
   "mimetype": "text/x-python",
   "name": "python",
   "nbconvert_exporter": "python",
   "pygments_lexer": "ipython2",
   "version": "2.7.11"
  }
 },
 "nbformat": 4,
 "nbformat_minor": 2
}
