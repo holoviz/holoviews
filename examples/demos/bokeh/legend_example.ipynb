{
 "cells": [
  {
   "cell_type": "markdown",
   "metadata": {},
   "source": [
    "# legend example\n",
    "\n",
    "URL: http://bokeh.pydata.org/en/latest/docs/gallery/legend.html\n",
    "\n",
    "Most examples work across multiple plotting backends, this example is also available for:\n",
    "\n",
    "* [Matplotlib - legend_example](../matplotlib/legend_example.ipynb)"
   ]
  },
  {
   "cell_type": "code",
   "execution_count": null,
   "metadata": {},
   "outputs": [],
   "source": [
    "import numpy as np\n",
    "import holoviews as hv\n",
    "hv.extension('bokeh')"
   ]
  },
  {
   "cell_type": "markdown",
   "metadata": {},
   "source": [
    "## Defining data"
   ]
  },
  {
   "cell_type": "code",
   "execution_count": null,
   "metadata": {
    "collapsed": true
   },
   "outputs": [],
   "source": [
    "x = np.linspace(0, 4*np.pi, 100)\n",
    "y = np.sin(x)\n",
    "\n",
    "scatter1 = hv.Scatter((x, y), label='sin(x)')\n",
    "scatter2 = hv.Scatter((x, y*2), label='2*sin(x)')\n",
    "scatter3 = hv.Scatter((x, y*3), label='3*sin(x)')"
   ]
  },
  {
   "cell_type": "markdown",
   "metadata": {},
   "source": [
    "## Plot"
   ]
  },
  {
   "cell_type": "code",
   "execution_count": null,
   "metadata": {},
   "outputs": [],
   "source": [
    "example1 = scatter1 * scatter2(style=dict(color='orange')) * scatter3(style=dict(color='green'))\n",
    "example2 = (\n",
    "    scatter1 * hv.Curve(scatter1) *\n",
    "    hv.Curve(scatter2)(style=dict(line_dash=(4, 4), color='orange')) *\n",
    "    scatter3(style=dict(line_color='green', marker='square', fill_alpha=0, size=5)) * hv.Curve(scatter3)\n",
    ")\n",
    "\n",
    "example1.relabel(\"Legend Example\") + example2.relabel(\"Another Legend Example\")"
   ]
  }
 ],
 "metadata": {
  "anaconda-cloud": {},
  "kernelspec": {
   "display_name": "Python [default]",
   "language": "python",
   "name": "python2"
  },
  "language_info": {
   "codemirror_mode": {
    "name": "ipython",
    "version": 2
   },
   "file_extension": ".py",
   "mimetype": "text/x-python",
   "name": "python",
   "nbconvert_exporter": "python",
   "pygments_lexer": "ipython2",
   "version": "2.7.11"
  }
 },
 "nbformat": 4,
 "nbformat_minor": 2
}
