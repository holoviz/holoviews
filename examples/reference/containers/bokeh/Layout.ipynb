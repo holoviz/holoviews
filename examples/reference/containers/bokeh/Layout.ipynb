{
 "cells": [
  {
   "cell_type": "markdown",
   "metadata": {},
   "source": [
    "<div class=\"contentcontainer med left\" style=\"margin-left: -50px;\">\n",
    "<dl class=\"dl-horizontal\">\n",
    "  <dt>Title</dt> <dd>Layout Container</dd>\n",
    "  <dt>Dependencies</dt> <dd>Matplotlib</dd>\n",
    "  <dt>Backends</dt> <dd><a href='./Layout.ipynb'>Bokeh</a></dd> <dd><a href='../matplotlib/Layout.ipynb'>Matplotlib</a></dd>\n",
    "</dl>\n",
    "</div>"
   ]
  },
  {
   "cell_type": "code",
   "execution_count": null,
   "metadata": {},
   "outputs": [],
   "source": [
    "import numpy as np\n",
    "import holoviews as hv\n",
    "hv.extension('bokeh')"
   ]
  },
  {
   "cell_type": "markdown",
   "metadata": {},
   "source": [
    "A Layout is a collection of HoloViews objects that are related in some way, to be displayed side-by-side. Like ``Overlay`` and unlike other containers such as [``HoloMap``](./HoloMap.ipynb) , [``GridSpace``](./GridSpace.ipynb) and [``NdLayout``](./NdLayout.ipynb) a ``Layout`` is *not* dictionary like: it holds potentially heterogeneous types without any dimensioned keys.\n",
    "\n",
    "\n",
    "A ``Layout`` cannot contain ``NdLayouts`` but can otherwise contain *any* other HoloViews object. See [Building Composite Objects](05-Building_Composite_Objects.ipynb) for more details on how to compose containers. It is best to learn about ``Layout`` and [``Overlay``](./Overlay.ipynb) together as they are very closely related objects that share many core concepts."
   ]
  },
  {
   "cell_type": "markdown",
   "metadata": {},
   "source": [
    "### ``Layout`` is a heterogeneous collection"
   ]
  },
  {
   "cell_type": "markdown",
   "metadata": {},
   "source": [
    "You can build a ``Layout`` between any two HoloViews objects (which can have different types) using the ``+`` operator:"
   ]
  },
  {
   "cell_type": "code",
   "execution_count": null,
   "metadata": {},
   "outputs": [],
   "source": [
    "xvals = [0.1* i for i in range(100)]\n",
    "curve =  hv.Curve((xvals, [np.sin(x) for x in xvals]))\n",
    "scatter =  hv.Scatter((xvals[::5], np.linspace(0,1,20)))\n",
    "curve + scatter"
   ]
  },
  {
   "cell_type": "markdown",
   "metadata": {},
   "source": [
    "In this example, we have a ``Layout`` composed of a ``Curve`` element and a ``Scatter`` element. The one restriction on what you can put in a ``Layout`` is that you cannot combine an [``NdLayout``](./NdLayout.ipynb) with a regular ``Layout``."
   ]
  },
  {
   "cell_type": "markdown",
   "metadata": {},
   "source": [
    "### Building ``Layout`` from a list"
   ]
  },
  {
   "cell_type": "markdown",
   "metadata": {},
   "source": [
    "You can build Layout's of any size by passing a list of objects to the ``Layout`` constructor as shown below:"
   ]
  },
  {
   "cell_type": "code",
   "execution_count": null,
   "metadata": {},
   "outputs": [],
   "source": [
    "curve_list = [ hv.Curve((xvals, [np.sin(f*x) for x in xvals])) for f in [0.5, 0.75]]\n",
    "scatter_list = [hv.Scatter((xvals[::5], f*np.linspace(0,1,20))) for f in [-0.5, 0.5]]\n",
    "layout = hv.Layout(curve_list + scatter_list).cols(2)\n",
    "layout"
   ]
  },
  {
   "cell_type": "markdown",
   "metadata": {},
   "source": [
    "Note the use of the ``.cols`` method to specify the number of columns, wrapping to the next row in scanline order (top-to-bottom and left-to-right)."
   ]
  },
  {
   "cell_type": "markdown",
   "metadata": {},
   "source": [
    "## A ``Layout`` has two-level attribute access"
   ]
  },
  {
   "cell_type": "markdown",
   "metadata": {},
   "source": [
    "``Layout`` and ``Overlay`` are fundamentally tree-structures holding arbitrary heterogenous HoloViews objects and are quite different from the dictionary-like dimensioned containers such as [``HoloMap``](./HoloMap.ipynb) , [``GridSpace``](./GridSpace.ipynb) and [``NdLayout``](./NdLayout.ipynb).\n",
    "\n",
    "All HoloViews objects have string ``group`` and ``label`` parameters, resulting in a 2-level attribute access on ``Layout`` objects. First let us see how to index the above example where ``group`` and ``label`` was not specified for any of the elements:"
   ]
  },
  {
   "cell_type": "code",
   "execution_count": null,
   "metadata": {},
   "outputs": [],
   "source": [
    "layout2 = layout.Curve.I + layout.Scatter.II\n",
    "layout2"
   ]
  },
  {
   "cell_type": "markdown",
   "metadata": {},
   "source": [
    "Here we create a second layout by indexing two elements from our earlier ``layout`` object. We see that the first level is the ``group`` string (which defaults to the element class name) followed by the label, which wasn't set and is therefore mapped to a roman numeral (I,II,III etc).\n",
    "\n",
    "As no group and label was specified, our new ``layout`` will once again have ``Curve.I`` for the curve but as there is only one scatter element, it will have ``Scatter.II`` to index the scatter."
   ]
  },
  {
   "cell_type": "markdown",
   "metadata": {},
   "source": [
    "## Tab-completion"
   ]
  },
  {
   "cell_type": "markdown",
   "metadata": {},
   "source": [
    "``Layout`` and ``Overlay`` are designed to be easy to explore and inspect with tab completion. Try running:\n",
    "\n",
    "```python\n",
    "layout.[tab]\n",
    "```\n",
    "\n",
    "And you should see the first levels of indexing (``Curve`` and ``Scatter``) conveniently listed at the top. If this is not the case, you may need to enable improved tab-completion as described in [Configuring HoloViews](../../../user_guide/Configuring_HoloViews.ipynb)."
   ]
  },
  {
   "cell_type": "markdown",
   "metadata": {},
   "source": [
    "## Using ``group`` and ``label``"
   ]
  },
  {
   "cell_type": "markdown",
   "metadata": {},
   "source": [
    "Now let's return to the first simple example, although this time we will set a group and label; see the [Annotating Data](../../../user_guide/01-Annotating_Data.ipynb) for more information:"
   ]
  },
  {
   "cell_type": "code",
   "execution_count": null,
   "metadata": {},
   "outputs": [],
   "source": [
    "xvals = [0.1* i for i in range(100)]\n",
    "curve =  hv.Curve((xvals, [np.sin(x) for x in xvals]), group='Sinusoid', label='Example')\n",
    "scatter =  hv.Scatter((xvals[::5], np.linspace(0,1,20)), group='Linear Points', label='Demo')\n",
    "layout3 = curve + scatter\n",
    "layout3"
   ]
  },
  {
   "cell_type": "markdown",
   "metadata": {},
   "source": [
    "We can now see how group and label affect access, in addition to being used for setting the titles shown above and for allowing plot customization (see \n",
    "[Customizing Plots](../../../user_guide/03-Customizing_Plots.ipynb) for more information):"
   ]
  },
  {
   "cell_type": "code",
   "execution_count": null,
   "metadata": {},
   "outputs": [],
   "source": [
    "layout3.Linear_Points.Demo + layout3.Sinusoid.Example"
   ]
  },
  {
   "cell_type": "markdown",
   "metadata": {},
   "source": [
    "We have used the semantic group and label names to access the elements and build a new re-ordered layout."
   ]
  }
 ],
 "metadata": {
  "language_info": {
   "name": "python",
   "pygments_lexer": "ipython3"
  }
 },
 "nbformat": 4,
 "nbformat_minor": 2
}
