{
 "cells": [
  {
   "cell_type": "markdown",
   "id": "df229fb9-0a56-47b4-a8d2-72cab8782624",
   "metadata": {},
   "source": [
    "#### **Title**: Scalebar\n",
    "\n",
    "**Dependencies**: Bokeh\n",
    "\n",
    "**Backends**: [Bokeh](./Scalebar.ipynb)\n",
    "\n",
    "The `scalebar` feature adds an overlaid scalebar to the element. "
   ]
  },
  {
   "cell_type": "code",
   "execution_count": null,
   "id": "1cee420f-3ad1-4b0c-ae66-b26d726d7a0a",
   "metadata": {},
   "outputs": [],
   "source": [
    "import holoviews as hv\n",
    "import numpy as np\n",
    "\n",
    "hv.extension(\"bokeh\")\n",
    "\n",
    "pollen = hv.RGB.load_image(\"../assets/pollen.png\", bounds=(-10, -5, 10, 15)).opts(scalebar=True)\n",
    "pollen"
   ]
  },
  {
   "cell_type": "markdown",
   "id": "d58cb23b-206b-4368-aed7-b083a7766320",
   "metadata": {},
   "source": [
    "Go ahead and zoom in and out to watch the scalebar dynamically adjust."
   ]
  },
  {
   "cell_type": "markdown",
   "id": "04f983fc-69cf-4b79-bdd2-6e437366167d",
   "metadata": {},
   "source": [
    "### Custom Units"
   ]
  },
  {
   "cell_type": "markdown",
   "id": "298933cc-8122-4252-b510-fca24f07326b",
   "metadata": {},
   "source": [
    "In the plot above, the default units `meter` is applied. To customize the units, supply `scalebar_unit` as a tuple of strings of length two (e.g., `('mm', 'm')`). The first entry should be the actual measurement of one-unit-length on the dimension to which the scale bar applies. The second entry is the 'base-unit' which will remain invariant, regardless of scale. In the example shown below, the unit is micro-volts ('µV') because the one-unit-length on the y-axis equals 1 µV, and the base-unit in in Volts, `V` - as you zoom out, the magnitude factor ('µ') will change but the base-unit 'V' will remain.\n",
    "\n",
    "We can also apply a 'unit' to the y-label by specifying `hv.Dimension`. This is independent of the scalebar specification, and will not change depending on zoom scale."
   ]
  },
  {
   "cell_type": "code",
   "execution_count": null,
   "id": "1140d0c9-5538-477c-b461-82f09648bd1c",
   "metadata": {},
   "outputs": [],
   "source": [
    "dim = hv.Dimension('Voltage', unit='µV')\n",
    "hv.Curve(np.random.rand(1000), ['time'], [dim]).opts(\n",
    "    width=400,\n",
    "    scalebar=True,\n",
    "    scalebar_range='y',\n",
    "    scalebar_unit=('µV', 'V'),\n",
    ")"
   ]
  },
  {
   "cell_type": "markdown",
   "id": "39af797f-4ea2-449b-96c7-eb7d0da8394e",
   "metadata": {},
   "source": [
    "### Customization\n",
    "\n",
    "In the plot above, you can see that we applied the scalebar to the y-axis by specifying the `scalebar_range` argument. Here is a list of further scalebar customizations parameters:\n",
    "\n",
    "- The `scalebar_location` parameter defines the positioning anchor for the scalebar, with options like \"bottom_right\", \"top_left\", \"center\", etc.\n",
    "- The `scalebar_label` parameter allows customization of the label template, using variables such as `@{value}` and `@{unit}`.\n",
    "- The `scalebar_opts` parameter enables specific styling options for the scalebar, as detailed in the [Bokeh's documentation](https://docs.bokeh.org/en/latest/docs/reference/models/annotations.html#bokeh.models.ScaleBar).\n",
    "\n",
    "All these parameters are only utilized if `scalebar` is set to `True` in `.opts()`."
   ]
  },
  {
   "cell_type": "code",
   "execution_count": null,
   "id": "0ab063b3-d1cb-40b4-9fa7-a5860932c16d",
   "metadata": {},
   "outputs": [],
   "source": [
    "dim = hv.Dimension('Voltage', unit='µV')\n",
    "hv.Curve(np.random.rand(1000), ['time'], [dim]).opts(\n",
    "    color='lightgrey',\n",
    "    width=400,\n",
    "    scalebar=True,\n",
    "    scalebar_range='y',\n",
    "    scalebar_unit=('µV', 'V'),\n",
    "    scalebar_location = 'top_right',\n",
    "    scalebar_opts={\n",
    "        'background_fill_alpha': 0,\n",
    "        'border_line_color': None,\n",
    "        'label_text_font_size': '20px',\n",
    "        'label_text_color': 'maroon',\n",
    "        'label_text_alpha': .5,\n",
    "        'label_location': 'left',\n",
    "        'length_sizing': 'exact',\n",
    "        'bar_length': 0.4,\n",
    "        'bar_line_color': 'maroon',\n",
    "        'bar_line_alpha': .5,        \n",
    "        'bar_line_width': 5,\n",
    "        'margin': 0,\n",
    "        'padding': 5,\n",
    "    },\n",
    ")"
   ]
  },
  {
   "cell_type": "markdown",
   "id": "871c7b55-353e-4ec6-8b79-bf1299cd2a45",
   "metadata": {},
   "source": [
    "### Toolbar \n",
    "\n",
    "The scalebar tool is added to the toolbar with a measurement ruler icon. Toggling this icon will either hide or show the scalebars. To remove scalebar icon from the toolbar, set `scalebar_tool = False`.\n"
   ]
  }
 ],
 "metadata": {
  "language_info": {
   "name": "python",
   "pygments_lexer": "ipython3"
  }
 },
 "nbformat": 4,
 "nbformat_minor": 5
}
