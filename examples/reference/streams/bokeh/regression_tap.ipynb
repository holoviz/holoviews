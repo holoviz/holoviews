{
 "cells": [
  {
   "cell_type": "markdown",
   "metadata": {},
   "source": [
    "<div class=\"contentcontainer med left\" style=\"margin-left: -50px;\">\n",
    "    <dl class=\"dl-horizontal\">\n",
    "      <dt>Title</dt> <dd> Regression selection</dd>\n",
    "      <dt>Description</dt> <dd>A linked streams example demonstrating how to the Selection1D stream to tap on a datapoint and reveal a regression plot. Highlights how custom interactivity can be used to reveal more information about a dataset.</dd>\n",
    "      <dt>Backends</dt> <dd> Bokeh</dd>\n",
    "      <dt>Tags</dt> <dd> streams, linked, tap selection</dd>\n",
    "    </dl>\n",
    "</div>"
   ]
  },
  {
   "cell_type": "code",
   "execution_count": null,
   "metadata": {},
   "outputs": [],
   "source": [
    "import numpy as np\n",
    "import holoviews as hv\n",
    "from holoviews.streams import Selection1D\n",
    "from scipy import stats\n",
    "hv.extension('bokeh')"
   ]
  },
  {
   "cell_type": "code",
   "execution_count": null,
   "metadata": {},
   "outputs": [],
   "source": [
    "%%opts Scatter [color_index=2 tools=['tap', 'hover'] width=600] {+framewise} (marker='triangle' cmap='Set1' size=10)\n",
    "%%opts Overlay [toolbar='above' legend_position='right'] Curve (line_color='black') {+framewise}\n",
    "\n",
    "def gen_samples(N, corr=0.8):\n",
    "    xx = np.array([-0.51, 51.2])\n",
    "    yy = np.array([0.33, 51.6])\n",
    "    means = [xx.mean(), yy.mean()]  \n",
    "    stds = [xx.std() / 3, yy.std() / 3]\n",
    "    covs = [[stds[0]**2          , stds[0]*stds[1]*corr], \n",
    "            [stds[0]*stds[1]*corr,           stds[1]**2]] \n",
    "\n",
    "    return np.random.multivariate_normal(means, covs, N)\n",
    "\n",
    "data = [('Week %d' % (i%10), np.random.rand(), chr(65+np.random.randint(5)), i) for i in range(100)]\n",
    "sample_data = hv.NdOverlay({i: hv.Points(gen_samples(np.random.randint(1000, 5000), r2))\n",
    "                            for _, r2, _, i in data})\n",
    "points = hv.Scatter(data, kdims=['Date', 'r2'], vdims=['block', 'id']).redim.range(r2=(0., 1))\n",
    "stream = Selection1D(source=points)\n",
    "empty = (hv.Points(np.random.rand(0, 2)) * hv.Curve(np.random.rand(0, 2))).relabel('No selection')\n",
    "\n",
    "def regression(index):\n",
    "    if not index:\n",
    "        return empty\n",
    "    scatter = sample_data[index[0]]\n",
    "    xs, ys = scatter['x'], scatter['y']\n",
    "    slope, intercep, rval, pval, std = stats.linregress(xs, ys)\n",
    "    xs = np.linspace(*scatter.range(0)+(2,))\n",
    "    reg = slope*xs+intercep\n",
    "    return (scatter * hv.Curve((xs, reg))).relabel('r2: %.3f' % slope)\n",
    "\n",
    "reg = hv.DynamicMap(regression, kdims=[], streams=[stream])\n",
    "\n",
    "average = hv.Curve(points, kdims=['Date'], vdims=['r2']).aggregate(function=np.mean)\n",
    "points * average + reg"
   ]
  },
  {
   "cell_type": "markdown",
   "metadata": {},
   "source": [
    "<center><img src=\"http://assets.holoviews.org/gifs/examples/streams/bokeh/regression_tap.gif\" width=400></center>"
   ]
  }
 ],
 "metadata": {
  "language_info": {
   "name": "python",
   "pygments_lexer": "ipython3"
  }
 },
 "nbformat": 4,
 "nbformat_minor": 2
}
