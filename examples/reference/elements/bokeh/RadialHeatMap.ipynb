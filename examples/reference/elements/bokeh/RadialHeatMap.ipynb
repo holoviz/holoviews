{
 "cells": [
  {
   "cell_type": "markdown",
   "metadata": {},
   "source": [
    "<div class=\"contentcontainer med left\" style=\"margin-left: -50px;\">\n",
    "<dl class=\"dl-horizontal\">\n",
    "  <dt>Title</dt> <dd> RadialHeatMap Element</dd>\n",
    "  <dt>Dependencies</dt> <dd>Bokeh</dd>\n",
    "  <dt>Backends</dt> <dd><a href='./RadialHeatMap.ipynb'>Bokeh</a></dd> <dd><a href='../matplotlib/RadialHeatMap.ipynb'>Matplotlib</a></dd>\n",
    "</dl>\n",
    "</div>"
   ]
  },
  {
   "cell_type": "code",
   "execution_count": null,
   "metadata": {},
   "outputs": [],
   "source": [
    "import pandas as pd\n",
    "import holoviews as hv\n",
    "hv.extension('bokeh')"
   ]
  },
  {
   "cell_type": "markdown",
   "metadata": {},
   "source": [
    "``RadialHeatMap`` is well suited to discover periodic patterns and trends in time series data.\n",
    "\n",
    "### Global surface temperatures\n",
    "\n",
    "For example, let's visualize global surface temperatures ([source](http://berkeleyearth.org/data/)) in degree Celsius using a radial heatmap:"
   ]
  },
  {
   "cell_type": "code",
   "execution_count": null,
   "metadata": {},
   "outputs": [],
   "source": [
    "%%opts RadialHeatMap [width=900 height=900 tools=[\"hover\"] xticks=12]\n",
    "\n",
    "df = pd.read_csv(\"../../../assets/temperatures.csv\")\n",
    "hv.RadialHeatMap(df, kdims=[\"month\", \"year\"], vdims=\"temp_absolute\")"
   ]
  },
  {
   "cell_type": "markdown",
   "metadata": {},
   "source": [
    "Each **segment** corresponds to a *month* whereas each **annular** represents a *year*. The periodic pattern of winter months yielding lower temperatures than sommer months becomes clearly evident.\n",
    "\n",
    "Interestingly, one has to take a closer look to discover the effect of global warming of the last decades. The intermediate months April and October indicate the trend of rising temperatures via the change from blue to red color. In order to make this trend even more vivid, one can normalize the absolute monthly temperatures as anomalies relative to the Jan 1951-Dec 1980 average (see more [here](https://bobtisdale.wordpress.com/2014/11/09/on-the-elusive-absolute-global-mean-surface-temperature-a-model-data-comparison/)):"
   ]
  },
  {
   "cell_type": "code",
   "execution_count": null,
   "metadata": {},
   "outputs": [],
   "source": [
    "%%opts RadialHeatMap [width=900 height=900 tools=[\"hover\"] xticks=12]\n",
    "\n",
    "hv.RadialHeatMap(df, kdims=[\"month\", \"year\"], vdims=\"temp_anomaly\")"
   ]
  },
  {
   "cell_type": "markdown",
   "metadata": {},
   "source": [
    "Since each month is normalized, increasing temperatures, especially around year 2000, are more evident.\n",
    "\n",
    "### NYC Taxi Trip Data\n",
    "\n",
    "Let's take a look at another exmaple, the New York - TLC Trip Data ([source](http://www.nyc.gov/html/tlc/html/about/trip_record_data.shtml)) which contains hourly pickup counts for *For-Hire Vehicle (“FHV”)* records for year 2016. "
   ]
  },
  {
   "cell_type": "code",
   "execution_count": null,
   "metadata": {},
   "outputs": [],
   "source": [
    "df_nyc = pd.read_csv(\"../../../assets/nyc_taxi_2016.csv\", parse_dates=[\"Pickup_date\"])\n",
    "df_nyc[\"Day & Hour\"] = df_nyc[\"Pickup_date\"].dt.strftime(\"%A %H:00\")\n",
    "df_nyc[\"Week of Year\"] = df_nyc[\"Pickup_date\"].dt.strftime(\"Week %W\")\n",
    "df_nyc[\"Date\"] = df_nyc[\"Pickup_date\"].dt.strftime(\"%A %Y-%m-%d\")\n",
    "df_nyc[\"Hour\"] = df_nyc[\"Pickup_date\"].dt.strftime(\"%H:00\")\n",
    "df_nyc[\"Day of Year\"] = df_nyc[\"Pickup_date\"].dt.strftime(\"%j\")\n",
    "\n",
    "segment_ticks = (\"Friday\", \"Saterday\", \"Sunday\", \"Monday\", \"Tuesday\", \"Wednesday\", \"Thursday\")"
   ]
  },
  {
   "cell_type": "code",
   "execution_count": null,
   "metadata": {},
   "outputs": [],
   "source": [
    "%%opts RadialHeatMap [width=900 height=900 tools=[\"hover\"] xticks=segment_ticks yticks=None separate_nth_segment=24 start_angle=np.pi*19/14]\n",
    "\n",
    "hv.RadialHeatMap(df_nyc, kdims=[\"Day & Hour\", \"Week of Year\"], vdims=[\"Pickup_Count\", \"Date\"])"
   ]
  },
  {
   "cell_type": "markdown",
   "metadata": {},
   "source": [
    "In this example, each **segment** corresponds to a time window of *one hour per weekday*. Each **annular** represents an *entire day*. There are many interesting findings in this visualization. First, taxi pickup counts are high between 7-9am and 5-10pm during weekdays which correspond to typical start and end business hours. In contrast, during weekends, there is not much going on until 11am. Second, Friday and Saterday nights clearly stand out with the highest pickup densities as expected. Third, public holidays can be easily identified. For example, taxi pickup counts are comparetively low for around Christmas and Thanksgiving.\n",
    "\n",
    "\n",
    "Several plot options were added here for better readability:\n",
    "\n",
    "1. ``xticks``: Since we do not want to show the segment ticks for each hour per day, we can pass a list of labels to *xticks* which will overwrite the existing tick labels.\n",
    "2. ``yticks``: To remove additional clutter, the ytick labels were disabled.\n",
    "2. ``separate_nth_segment``: Separation lines were added to distinguish each weakday from one another more clearly.\n",
    "3. ``start_angle``: By default, radial heatmaps take the global sort order inherent to the data. In this case, Friday was orginally located 12 o'clock. However, one would expect Monday to be the first day of the week."
   ]
  },
  {
   "cell_type": "code",
   "execution_count": null,
   "metadata": {},
   "outputs": [],
   "source": []
  }
 ],
 "metadata": {
  "kernelspec": {
   "display_name": "holoviews_dev",
   "language": "python",
   "name": "holoviews_dev"
  },
  "language_info": {
   "codemirror_mode": {
    "name": "ipython",
    "version": 3
   },
   "file_extension": ".py",
   "mimetype": "text/x-python",
   "name": "python",
   "nbconvert_exporter": "python",
   "pygments_lexer": "ipython3",
   "version": "3.5.4"
  }
 },
 "nbformat": 4,
 "nbformat_minor": 2
}
