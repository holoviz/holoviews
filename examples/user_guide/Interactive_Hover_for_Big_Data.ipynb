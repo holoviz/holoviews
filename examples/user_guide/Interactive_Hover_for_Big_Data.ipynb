{
 "cells": [
  {
   "cell_type": "markdown",
   "id": "intro",
   "metadata": {},
   "source": [
    "# Interactive Hover for Big Data\n",
    "When visualizing large datasets with [Datashader](https://datashader.org/), we can easily spot interesting patterns and details. However, converting all that data into a smooth image can hide the finer points behind each pixel. In simple terms, while the big picture is clear, the details of individual data points get lost along the way.\n",
    "\n",
    "To solve this problem, HoloViews offers the `selector` keyword, which makes it possible to acquire more information about the underlying data when using various Datashader operations like `rasterize` or `datashade`. The `selector` lets you retrieve key details for each pixel on the server side and dynamically push these to the front end, avoiding searching through the entire dataset or sending all the data to the browser. This makes it easier for everyone to dive into and understand complex visualizations, keeping the interactive experience fast and smooth even with very large datasets.\n",
    "\n",
    "This notebook demonstrates how to use `selector`, which creates a dynamic hover tool that keeps the interactive experience fast and smooth with very large datasets and makes it easier to explore and understand complex visualizations.\n",
    "\n",
    ":::{note}\n",
    "This notebook uses dynamic updates, which require running a live Jupyter or Bokeh server. When viewed statically, the plots will not update, you can zoom and pan, and hover information will not be available. \n",
    ":::\n",
    "\n",
    "Let's start by creating a Points element with a DataFrame consisting of five datasets combined"
   ]
  },
  {
   "cell_type": "code",
   "execution_count": null,
   "id": "imports",
   "metadata": {},
   "outputs": [],
   "source": [
    "import datashader as ds\n",
    "import holoviews as hv\n",
    "import numpy as np\n",
    "import pandas as pd\n",
    "import panel as pn\n",
    "from holoviews.operation.datashader import datashade, dynspread, rasterize\n",
    "\n",
    "hv.extension(\"bokeh\")\n",
    "\n",
    "# Set default hover tools on various plot types\n",
    "hv.opts.defaults(hv.opts.RGB(tools=[\"hover\"]), hv.opts.Image(tools=[\"hover\"]))\n",
    "\n",
    "\n",
    "def create_synthetic_dataset(x, y, s, val, cat):\n",
    "    seed = np.random.default_rng(1)\n",
    "    num = 10_000\n",
    "    return pd.DataFrame(\n",
    "        {\"x\": seed.normal(x, s, num), \"y\": seed.normal(y, s, num), \"s\": s, \"val\": val, \"cat\": cat}\n",
    "    )\n",
    "\n",
    "\n",
    "df = pd.concat(\n",
    "    {\n",
    "        cat: create_synthetic_dataset(x, y, s, val, cat)\n",
    "        for x, y, s, val, cat in [\n",
    "            (2, 2, 0.03, 0, \"d1\"),\n",
    "            (2, -2, 0.10, 1, \"d2\"),\n",
    "            (-2, -2, 0.50, 2, \"d3\"),\n",
    "            (-2, 2, 1.00, 3, \"d4\"),\n",
    "            (0, 0, 3.00, 4, \"d5\"),\n",
    "        ]\n",
    "    },\n",
    "    ignore_index=True,\n",
    ")\n",
    "\n",
    "\n",
    "points = hv.Points(df)"
   ]
  },
  {
   "cell_type": "markdown",
   "id": "datashader_intro",
   "metadata": {},
   "source": [
    "## Datashader Operations\n",
    "\n",
    "Datashader is used to convert the points into a rasterized image. Two common operations are:\n",
    "\n",
    "- **`rasterize`**: Converts points into an image grid where each pixel aggregates data. The default is to count the number of points per pixel.\n",
    "- **`datashade`**: Applies a color map to the rasterized data, outputting RGBA values\n",
    "\n",
    "The default aggregator counts the points per pixel, but you can specify a different aggregator, for example, `ds.mean(\"s\")` to calculate the mean of the `s` column. For more information, see the [Large Data user guide](./15-Large_Data.ipynb)."
   ]
  },
  {
   "cell_type": "code",
   "execution_count": null,
   "id": "basic_datashade",
   "metadata": {},
   "outputs": [],
   "source": [
    "rasterized = rasterize(points)\n",
    "shaded = datashade(points)\n",
    "rasterized + shaded"
   ]
  },
  {
   "cell_type": "markdown",
   "id": "aggregator_explanation",
   "metadata": {},
   "source": [
    "## What is the difference between an Aggregator and a Selector?\n",
    "\n",
    "An aggregator in Datashader is a function that combines data points that fall into the same pixel.\n",
    "\n",
    "For example:\n",
    "\n",
    "- `ds.count()`: Calculate the number of points (does not depend on any specific column).\n",
    "- `ds.mean(\"s\")`: Calculate the mean of column `s` for all points in the pixel.\n",
    "- `ds.max(\"s\")`: Select the minimum value of column `s` for all points in the pixel.\n",
    "\n",
    "It is important to note the difference between the first two aggregators and the last one. The first two calculate a value, whereas the last one selects a row; this is how a `selector` is defined. \n",
    "This means that a `selector` is a subset of an `aggregator`, which only selects a value and not doing any calculating.\n",
    "Currently the following selectors are supported: `ds.min`, `ds.max`, `ds.first`, and `ds.last`.\n",
    "\n",
    "Because a `selector` is a subset, it can also be used as an aggregator in an operation."
   ]
  },
  {
   "cell_type": "code",
   "execution_count": null,
   "id": "custom_aggregator",
   "metadata": {},
   "outputs": [],
   "source": [
    "rasterized_mean = rasterize(points, aggregator=ds.mean(\"s\"))\n",
    "rasterized_max = rasterize(points, aggregator=ds.max(\"s\"))\n",
    "rasterized_mean + rasterized_max"
   ]
  },
  {
   "cell_type": "markdown",
   "id": "server_side_hover_intro",
   "metadata": {},
   "source": [
    "## Server-side HoverTool\n",
    "\n",
    "The key idea behind the server-side `HoverTool` is:\n",
    "\n",
    "1. **Hover event**: When a user hovers over a plot, the pixel coordinates are sent to the server.\n",
    "2. **Data lookup**: The server uses these coordinates to look up the corresponding aggregated data from the pre-computed dataset.\n",
    "3. **Update display**: The hover information is updated and sent back to the front end to display detailed data.\n",
    "\n",
    "This design avoids sending all the raw data to the client and only transmits the necessary information on-demand. You can enable this by adding a `selector` to a `rasterize` or `datashade` operation. "
   ]
  },
  {
   "cell_type": "code",
   "execution_count": null,
   "id": "server_hover_example",
   "metadata": {},
   "outputs": [],
   "source": [
    "rasterized_with_selector = rasterize(points, aggregator=ds.mean(\"s\"), selector=ds.min(\"s\"))\n",
    "rasterized_with_selector"
   ]
  },
  {
   "cell_type": "markdown",
   "id": "dynspread_explanation",
   "metadata": {},
   "source": [
    "Some useful functions are `spread` and `dynspread`, which enhance the visual output by increasing the spread of pixels. This helps make points easier to hover over when zooming in on individual points."
   ]
  },
  {
   "cell_type": "code",
   "execution_count": null,
   "id": "dynspread_example",
   "metadata": {},
   "outputs": [],
   "source": [
    "dynspreaded = dynspread(rasterized_with_selector)\n",
    "rasterized_with_selector + dynspreaded"
   ]
  },
  {
   "cell_type": "markdown",
   "id": "8d12adb8-a143-43dd-91c2-a9f54698b6e2",
   "metadata": {},
   "source": [
    ":::{seealso}\n",
    "[Large Data](./Large_Data.html): An introduction to Datashader and HoloViews\n",
    ":::"
   ]
  }
 ],
 "metadata": {
  "language_info": {
   "name": "python",
   "pygments_lexer": "ipython3"
  }
 },
 "nbformat": 4,
 "nbformat_minor": 5
}
