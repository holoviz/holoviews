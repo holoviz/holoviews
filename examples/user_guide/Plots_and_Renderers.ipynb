{
 "cells": [
  {
   "cell_type": "code",
   "execution_count": 1,
   "metadata": {},
   "outputs": [],
   "source": [
    "import holoviews as hv\n",
    "import numpy as np"
   ]
  },
  {
   "cell_type": "markdown",
   "metadata": {},
   "source": [
    "HoloViews ordinarily hides the plotting machinery from the user. This allows for very quick iteration over different visualizations to explore a dataset, however it is often important to customize the precise details of a plot. HoloViews makes it very easy to customize existing plots, or even create completely novel plots. This manual will provide a general overview of the plotting system.\n",
    "\n",
    "The separation of the data from the precise details of the visualization is one of the core principles of the HoloViews. [``Elements``](http://holoviews.org/reference/index.html#elements) provide thin wrappers around chunks of actual data, while [containers](http://holoviews.org/reference/index.html#containers) allow composing these Elements into overlays, layouts, grids and animations/widgets. Each Element or container type has a corresponding plotting class, which renders a visual representation of the data for a particular backend. While the precise details of the implementation differ between backends to accommodate the vastly different APIs  plotting backends provide, many of the high-level details are shared across backends.\n",
    "\n",
    "# The Store object\n",
    "\n",
    "The association between an Element or container and the backend specific plotting class is held on the global ``Store`` object. The ``Store`` object holds a ``registry`` of plot objects for each backend. We can view the registry for each backend by accessing ``Store.registry`` directly:"
   ]
  },
  {
   "cell_type": "code",
   "execution_count": 2,
   "metadata": {},
   "outputs": [
    {
     "data": {
      "text/plain": [
       "[(holoviews.element.chart.Curve, holoviews.plotting.mpl.chart.CurvePlot),\n",
       " (holoviews.element.chart.Scatter, holoviews.plotting.mpl.chart.PointPlot),\n",
       " (holoviews.element.chart.Bars, holoviews.plotting.mpl.chart.BarPlot),\n",
       " (holoviews.element.chart.Histogram,\n",
       "  holoviews.plotting.mpl.chart.HistogramPlot),\n",
       " (holoviews.element.chart.Points, holoviews.plotting.mpl.chart.PointPlot)]"
      ]
     },
     "execution_count": 2,
     "metadata": {},
     "output_type": "execute_result"
    }
   ],
   "source": [
    "import holoviews.plotting.mpl\n",
    "list(hv.Store.registry['matplotlib'].items())[0:5]"
   ]
  },
  {
   "cell_type": "markdown",
   "metadata": {},
   "source": [
    "The Store object provides a global registry not only for the plots themselves but also creates an entry in the OptionsTree for that particular backend. This allows options for that backend to be validated and enables setting plot, style and normalization options via the [Options](Options.ipynb) system. We can view the ``OptionsTree`` object by requesting it from the store. We'll make a copy with just the first few entries so we can view the structure of the tree:"
   ]
  },
  {
   "cell_type": "code",
   "execution_count": 3,
   "metadata": {},
   "outputs": [
    {
     "data": {
      "text/plain": [
       "OptionTree(groups=dict_keys(['plot', 'style', 'norm']),\n",
       "   plot={'Points' : dict(show_frame=True)},\n",
       "\n",
       "   style={\n",
       "            'Bars      ' : dict(color=Cycle(values=['#30a2da', '#fc4f30', '#e5ae38', '#6d904f', '#8b8b8b']), ec='k'),\n",
       "            'BoxWhisker' : dict(boxprops={'color': 'k', 'linewidth': 1.5}, whiskerprops={'color': 'k', 'linewidth': 1.5}),\n",
       "            'Curve     ' : dict(color=Cycle(values=['#30a2da', '#fc4f30', '#e5ae38', '#6d904f', '#8b8b8b']), linewidth=2),\n",
       "            'ErrorBars ' : dict(ecolor='k'),\n",
       "            'Histogram ' : dict(ec='k', facecolor=Cycle(values=['#30a2da', '#fc4f30', '#e5ae38', '#6d904f', '#8b8b8b'])),\n",
       "            'Points    ' : dict(cmap='fire', color=Cycle(values=['#30a2da', '#fc4f30', '#e5ae38', '#6d904f', '#8b8b8b']), marker='o'),\n",
       "            'Scatter   ' : dict(cmap='fire', color=Cycle(values=['#30a2da', '#fc4f30', '#e5ae38', '#6d904f', '#8b8b8b']), marker='o'),\n",
       "            'Spikes    ' : dict(cmap='fire', color='black'),\n",
       "            'Spread    ' : dict(alpha=0.6, edgecolor='k', facecolor=Cycle(values=['#30a2da', '#fc4f30', '#e5ae38', '#6d904f', '#8b8b8b']), linewidth=0.5)}\n",
       ")"
      ]
     },
     "execution_count": 3,
     "metadata": {},
     "output_type": "execute_result"
    }
   ],
   "source": [
    "opts = hv.Store.options(backend='matplotlib')\n",
    "hv.core.options.OptionTree(opts.items()[0:10], groups=['plot', 'style', 'norm'])"
   ]
  },
  {
   "cell_type": "markdown",
   "metadata": {},
   "source": [
    "# Renderers\n",
    "\n",
    "HoloViews provides a general ``Renderer`` baseclass, which defines a general interface to render the output from different backends to a number of standard output formats such as ``png``, ``html`` or ``svg``. The ``__call__`` method on the Renderer automatically looks up and instantiates the registered plotting classes for an object it is passed and then returns the output in the requested format. To make this a bit clearer we'll break this down step by step. First we'll get a handle on the ``MPLRenderer`` and create an object to render.\n",
    "\n",
    "Renderers aren't registered with the Store until the corresponding backends have been imported. Loading the notebook extension with ``hv.notebook_extension('matplotlib')`` is one way of loading a backend and registering a renderer. Another is to simply import the corresponding plotting module as we did above."
   ]
  },
  {
   "cell_type": "code",
   "execution_count": 4,
   "metadata": {},
   "outputs": [
    {
     "data": {
      "text/plain": [
       "OrderedDict([('matplotlib',\n",
       "              MPLRenderer(backend='matplotlib', css={}, dpi=72, fig='auto', fps=20, holomap='auto', info_fn=<function Exporter.<lambda> at 0x00000217EEF8C8C8>, interactive=False, key_fn=None, mode='default', name='MPLRenderer00081', post_render_hooks={'svg': [], 'png': []}, size=100, widget_mode='embed'))])"
      ]
     },
     "execution_count": 4,
     "metadata": {},
     "output_type": "execute_result"
    }
   ],
   "source": [
    "hv.Store.renderers"
   ]
  },
  {
   "cell_type": "markdown",
   "metadata": {},
   "source": [
    "This is one way to access a Renderer, another is to instantiate a Renderer instance directly, allowing you to override some of the default plot options."
   ]
  },
  {
   "cell_type": "code",
   "execution_count": 5,
   "metadata": {},
   "outputs": [],
   "source": [
    "renderer = hv.plotting.mpl.MPLRenderer.instance(dpi=120)"
   ]
  },
  {
   "cell_type": "markdown",
   "metadata": {},
   "source": [
    "The recommended way to get a handle on a renderer is to use the ``hv.renderer`` function which will also handle imports for you:"
   ]
  },
  {
   "cell_type": "code",
   "execution_count": 6,
   "metadata": {},
   "outputs": [
    {
     "data": {
      "text/plain": [
       "MPLRenderer(backend='matplotlib', css={}, dpi=72, fig='auto', fps=20, holomap='auto', info_fn=<function Exporter.<lambda> at 0x00000217EEF8C8C8>, interactive=False, key_fn=None, mode='default', name='MPLRenderer00081', post_render_hooks={'svg': [], 'png': []}, size=100, widget_mode='embed')"
      ]
     },
     "execution_count": 6,
     "metadata": {},
     "output_type": "execute_result"
    }
   ],
   "source": [
    "hv.renderer('matplotlib')"
   ]
  },
  {
   "cell_type": "markdown",
   "metadata": {},
   "source": [
    "# Working with a Renderer\n",
    "\n",
    "A ``Renderer`` in HoloViews is responsible for instantiating a HoloViews plotting class. It does this by looking up the plotting class in the ``Store.registry``:"
   ]
  },
  {
   "cell_type": "code",
   "execution_count": 7,
   "metadata": {},
   "outputs": [
    {
     "data": {
      "text/plain": [
       "holoviews.plotting.mpl.chart.CurvePlot"
      ]
     },
     "execution_count": 7,
     "metadata": {},
     "output_type": "execute_result"
    }
   ],
   "source": [
    "hv.Store.registry['matplotlib'][hv.Curve]"
   ]
  },
  {
   "cell_type": "markdown",
   "metadata": {},
   "source": [
    "If we create a ``Curve`` we can instantiate a plotting class from it using the ``Renderer.get_plot`` method:"
   ]
  },
  {
   "cell_type": "code",
   "execution_count": 8,
   "metadata": {},
   "outputs": [
    {
     "data": {
      "text/plain": [
       "CurvePlot(apply_extents=True, apply_ranges=True, apply_ticks=True, aspect='square', autotick=False, bgcolor=None, fig_alpha=1.0, fig_bounds=(0.15, 0.15, 0.85, 0.85), fig_inches=4.0, fig_latex=False, fig_rcparams={}, fig_size=100.0, final_hooks=[], finalize_hooks=[], fontsize=None, initial_hooks=[], interpolation='linear', invert_axes=False, invert_xaxis=False, invert_yaxis=False, invert_zaxis=False, labelled=['x', 'y'], logx=False, logy=False, logz=False, name='CurvePlot01092', normalize=True, projection=None, relative_labels=False, show_frame=False, show_grid=False, show_legend=True, show_title=True, sublabel_format=None, sublabel_position=(-0.35, 0.85), sublabel_size=18, title_format='{label} {group}\\n{dimensions}', xaxis='bottom', xrotation=0, xticks=None, yaxis='left', yrotation=0, yticks=None, zaxis=True, zrotation=0, zticks=None)"
      ]
     },
     "execution_count": 8,
     "metadata": {},
     "output_type": "execute_result"
    }
   ],
   "source": [
    "curve = hv.Curve(range(10))\n",
    "curve_plot = renderer.get_plot(curve)\n",
    "curve_plot"
   ]
  },
  {
   "cell_type": "markdown",
   "metadata": {},
   "source": [
    "We will revisit how to work with ``Plot`` instances later. For now all we need to know is that they are responsible for translating the HoloViews object (like the ``Curve``) into a backend specific plotting object, accessible on ``Plot.state``:"
   ]
  },
  {
   "cell_type": "code",
   "execution_count": 9,
   "metadata": {},
   "outputs": [
    {
     "name": "stdout",
     "output_type": "stream",
     "text": [
      "Figure(288x288)\n"
     ]
    },
    {
     "data": {
      "image/png": "[encoded data removed]",
      "text/plain": [
       "<Figure size 288x288 with 1 Axes>"
      ]
     },
     "execution_count": 9,
     "metadata": {},
     "output_type": "execute_result"
    }
   ],
   "source": [
    "print(curve_plot.state)\n",
    "curve_plot.state"
   ]
  },
  {
   "cell_type": "markdown",
   "metadata": {},
   "source": [
    "In case of the matplotlib backend this is a ``Figure`` object. However the ``Renderer`` ignores the specific representation of the plot, instead providing a unified interface to translating it into a representation that can displayed, i.e. either an image format or an HTML representation.\n",
    "\n",
    "In this way we can convert the curve directly to its ``png`` representation by calling the ``Renderer`` with the object and the format:"
   ]
  },
  {
   "cell_type": "code",
   "execution_count": 10,
   "metadata": {},
   "outputs": [
    {
     "name": "stdout",
     "output_type": "stream",
     "text": [
      "{'file-ext': 'png', 'mime_type': 'image/png'}\n"
     ]
    },
    {
     "data": {
      "image/png": "[encoded data removed]"
     },
     "metadata": {},
     "output_type": "display_data"
    }
   ],
   "source": [
    "from IPython.display import display_png\n",
    "png, info = renderer(curve, fmt='png')\n",
    "print(info)\n",
    "display_png(png, raw=True)"
   ]
  },
  {
   "cell_type": "markdown",
   "metadata": {},
   "source": [
    "<div class=\"alert alert-success\">\n",
    "Tip: To find more information about any HoloViews object use ``hv.help`` to print a detailed docstring.\n",
    "</div>\n",
    "\n",
    "The valid figure display formats can be seen in the docstring of the Renderer or directly on the parameter:"
   ]
  },
  {
   "cell_type": "code",
   "execution_count": 11,
   "metadata": {},
   "outputs": [
    {
     "data": {
      "text/plain": [
       "['png', 'svg', 'pdf', 'html', None, 'auto']"
      ]
     },
     "execution_count": 11,
     "metadata": {},
     "output_type": "execute_result"
    }
   ],
   "source": [
    "renderer.params('fig').objects"
   ]
  },
  {
   "cell_type": "markdown",
   "metadata": {},
   "source": [
    "In this way we can easily render the plot in different formats:"
   ]
  },
  {
   "cell_type": "code",
   "execution_count": 12,
   "metadata": {},
   "outputs": [
    {
     "name": "stdout",
     "output_type": "stream",
     "text": [
      "{'file-ext': 'svg', 'mime_type': 'image/svg+xml'}\n"
     ]
    },
    {
     "data": {
      "image/svg+xml": [
       "<?xml version=\"1.0\" encoding=\"utf-8\" standalone=\"no\"?>\r\n",
       "<!DOCTYPE svg PUBLIC \"-//W3C//DTD SVG 1.1//EN\"\r\n",
       "  \"http://www.w3.org/Graphics/SVG/1.1/DTD/svg11.dtd\">\r\n",
       "<!-- Created with matplotlib (http://matplotlib.org/) -->\r\n",
       "<svg height=\"248.6pt\" version=\"1.1\" viewBox=\"0 0 244.475 248.6\" width=\"244.475pt\" xmlns=\"http://www.w3.org/2000/svg\" xmlns:xlink=\"http://www.w3.org/1999/xlink\">\r\n",
       " <defs>\r\n",
       "  <style type=\"text/css\">\r\n",
       "*{stroke-linecap:butt;stroke-linejoin:round;}\r\n",
       "  </style>\r\n",
       " </defs>\r\n",
       " <g id=\"figure_1\">\r\n",
       "  <g id=\"patch_1\">\r\n",
       "   <path d=\"M 0 248.6 \r\n",
       "L 244.475 248.6 \r\n",
       "L 244.475 0 \r\n",
       "L 0 0 \r\n",
       "z\r\n",
       "\" style=\"fill:#ffffff;\"/>\r\n",
       "  </g>\r\n",
       "  <g id=\"axes_1\">\r\n",
       "   <g id=\"patch_2\">\r\n",
       "    <path d=\"M 33.575 212.4 \r\n",
       "L 235.175 212.4 \r\n",
       "L 235.175 10.8 \r\n",
       "L 33.575 10.8 \r\n",
       "z\r\n",
       "\" style=\"fill:#ffffff;\"/>\r\n",
       "   </g>\r\n",
       "   <g id=\"line2d_1\">\r\n",
       "    <path clip-path=\"url(#p4abcfb7ec5)\" d=\"M 33.575 212.4 \r\n",
       "L 55.975 190 \r\n",
       "L 78.375 167.6 \r\n",
       "L 100.775 145.2 \r\n",
       "L 123.175 122.8 \r\n",
       "L 145.575 100.4 \r\n",
       "L 167.975 78 \r\n",
       "L 190.375 55.6 \r\n",
       "L 212.775 33.2 \r\n",
       "L 235.175 10.8 \r\n",
       "\" style=\"fill:none;stroke:#30a2da;stroke-linecap:square;stroke-width:2;\"/>\r\n",
       "   </g>\r\n",
       "   <g id=\"matplotlib.axis_1\">\r\n",
       "    <g id=\"xtick_1\">\r\n",
       "     <g id=\"line2d_2\">\r\n",
       "      <defs>\r\n",
       "       <path d=\"M 0 0 \r\n",
       "L 0 3.5 \r\n",
       "\" id=\"mbe9614e68f\" style=\"stroke:#000000;stroke-width:0.8;\"/>\r\n",
       "      </defs>\r\n",
       "      <g>\r\n",
       "       <use style=\"stroke:#000000;stroke-width:0.8;\" x=\"33.575\" xlink:href=\"#mbe9614e68f\" y=\"212.4\"/>\r\n",
       "      </g>\r\n",
       "     </g>\r\n",
       "     <g id=\"text_1\">\r\n",
       "      <!-- 0 -->\r\n",
       "      <defs>\r\n",
       "       <path d=\"M 31.78125 66.40625 \r\n",
       "Q 24.171875 66.40625 20.328125 58.90625 \r\n",
       "Q 16.5 51.421875 16.5 36.375 \r\n",
       "Q 16.5 21.390625 20.328125 13.890625 \r\n",
       "Q 24.171875 6.390625 31.78125 6.390625 \r\n",
       "Q 39.453125 6.390625 43.28125 13.890625 \r\n",
       "Q 47.125 21.390625 47.125 36.375 \r\n",
       "Q 47.125 51.421875 43.28125 58.90625 \r\n",
       "Q 39.453125 66.40625 31.78125 66.40625 \r\n",
       "z\r\n",
       "M 31.78125 74.21875 \r\n",
       "Q 44.046875 74.21875 50.515625 64.515625 \r\n",
       "Q 56.984375 54.828125 56.984375 36.375 \r\n",
       "Q 56.984375 17.96875 50.515625 8.265625 \r\n",
       "Q 44.046875 -1.421875 31.78125 -1.421875 \r\n",
       "Q 19.53125 -1.421875 13.0625 8.265625 \r\n",
       "Q 6.59375 17.96875 6.59375 36.375 \r\n",
       "Q 6.59375 54.828125 13.0625 64.515625 \r\n",
       "Q 19.53125 74.21875 31.78125 74.21875 \r\n",
       "z\r\n",
       "\" id=\"DejaVuSans-30\"/>\r\n",
       "      </defs>\r\n",
       "      <g transform=\"translate(30.39375 226.998437)scale(0.1 -0.1)\">\r\n",
       "       <use xlink:href=\"#DejaVuSans-30\"/>\r\n",
       "      </g>\r\n",
       "     </g>\r\n",
       "    </g>\r\n",
       "    <g id=\"xtick_2\">\r\n",
       "     <g id=\"line2d_3\">\r\n",
       "      <g>\r\n",
       "       <use style=\"stroke:#000000;stroke-width:0.8;\" x=\"78.375\" xlink:href=\"#mbe9614e68f\" y=\"212.4\"/>\r\n",
       "      </g>\r\n",
       "     </g>\r\n",
       "     <g id=\"text_2\">\r\n",
       "      <!-- 2 -->\r\n",
       "      <defs>\r\n",
       "       <path d=\"M 19.1875 8.296875 \r\n",
       "L 53.609375 8.296875 \r\n",
       "L 53.609375 0 \r\n",
       "L 7.328125 0 \r\n",
       "L 7.328125 8.296875 \r\n",
       "Q 12.9375 14.109375 22.625 23.890625 \r\n",
       "Q 32.328125 33.6875 34.8125 36.53125 \r\n",
       "Q 39.546875 41.84375 41.421875 45.53125 \r\n",
       "Q 43.3125 49.21875 43.3125 52.78125 \r\n",
       "Q 43.3125 58.59375 39.234375 62.25 \r\n",
       "Q 35.15625 65.921875 28.609375 65.921875 \r\n",
       "Q 23.96875 65.921875 18.8125 64.3125 \r\n",
       "Q 13.671875 62.703125 7.8125 59.421875 \r\n",
       "L 7.8125 69.390625 \r\n",
       "Q 13.765625 71.78125 18.9375 73 \r\n",
       "Q 24.125 74.21875 28.421875 74.21875 \r\n",
       "Q 39.75 74.21875 46.484375 68.546875 \r\n",
       "Q 53.21875 62.890625 53.21875 53.421875 \r\n",
       "Q 53.21875 48.921875 51.53125 44.890625 \r\n",
       "Q 49.859375 40.875 45.40625 35.40625 \r\n",
       "Q 44.1875 33.984375 37.640625 27.21875 \r\n",
       "Q 31.109375 20.453125 19.1875 8.296875 \r\n",
       "z\r\n",
       "\" id=\"DejaVuSans-32\"/>\r\n",
       "      </defs>\r\n",
       "      <g transform=\"translate(75.19375 226.998437)scale(0.1 -0.1)\">\r\n",
       "       <use xlink:href=\"#DejaVuSans-32\"/>\r\n",
       "      </g>\r\n",
       "     </g>\r\n",
       "    </g>\r\n",
       "    <g id=\"xtick_3\">\r\n",
       "     <g id=\"line2d_4\">\r\n",
       "      <g>\r\n",
       "       <use style=\"stroke:#000000;stroke-width:0.8;\" x=\"123.175\" xlink:href=\"#mbe9614e68f\" y=\"212.4\"/>\r\n",
       "      </g>\r\n",
       "     </g>\r\n",
       "     <g id=\"text_3\">\r\n",
       "      <!-- 4 -->\r\n",
       "      <defs>\r\n",
       "       <path d=\"M 37.796875 64.3125 \r\n",
       "L 12.890625 25.390625 \r\n",
       "L 37.796875 25.390625 \r\n",
       "z\r\n",
       "M 35.203125 72.90625 \r\n",
       "L 47.609375 72.90625 \r\n",
       "L 47.609375 25.390625 \r\n",
       "L 58.015625 25.390625 \r\n",
       "L 58.015625 17.1875 \r\n",
       "L 47.609375 17.1875 \r\n",
       "L 47.609375 0 \r\n",
       "L 37.796875 0 \r\n",
       "L 37.796875 17.1875 \r\n",
       "L 4.890625 17.1875 \r\n",
       "L 4.890625 26.703125 \r\n",
       "z\r\n",
       "\" id=\"DejaVuSans-34\"/>\r\n",
       "      </defs>\r\n",
       "      <g transform=\"translate(119.99375 226.998437)scale(0.1 -0.1)\">\r\n",
       "       <use xlink:href=\"#DejaVuSans-34\"/>\r\n",
       "      </g>\r\n",
       "     </g>\r\n",
       "    </g>\r\n",
       "    <g id=\"xtick_4\">\r\n",
       "     <g id=\"line2d_5\">\r\n",
       "      <g>\r\n",
       "       <use style=\"stroke:#000000;stroke-width:0.8;\" x=\"167.975\" xlink:href=\"#mbe9614e68f\" y=\"212.4\"/>\r\n",
       "      </g>\r\n",
       "     </g>\r\n",
       "     <g id=\"text_4\">\r\n",
       "      <!-- 6 -->\r\n",
       "      <defs>\r\n",
       "       <path d=\"M 33.015625 40.375 \r\n",
       "Q 26.375 40.375 22.484375 35.828125 \r\n",
       "Q 18.609375 31.296875 18.609375 23.390625 \r\n",
       "Q 18.609375 15.53125 22.484375 10.953125 \r\n",
       "Q 26.375 6.390625 33.015625 6.390625 \r\n",
       "Q 39.65625 6.390625 43.53125 10.953125 \r\n",
       "Q 47.40625 15.53125 47.40625 23.390625 \r\n",
       "Q 47.40625 31.296875 43.53125 35.828125 \r\n",
       "Q 39.65625 40.375 33.015625 40.375 \r\n",
       "z\r\n",
       "M 52.59375 71.296875 \r\n",
       "L 52.59375 62.3125 \r\n",
       "Q 48.875 64.0625 45.09375 64.984375 \r\n",
       "Q 41.3125 65.921875 37.59375 65.921875 \r\n",
       "Q 27.828125 65.921875 22.671875 59.328125 \r\n",
       "Q 17.53125 52.734375 16.796875 39.40625 \r\n",
       "Q 19.671875 43.65625 24.015625 45.921875 \r\n",
       "Q 28.375 48.1875 33.59375 48.1875 \r\n",
       "Q 44.578125 48.1875 50.953125 41.515625 \r\n",
       "Q 57.328125 34.859375 57.328125 23.390625 \r\n",
       "Q 57.328125 12.15625 50.6875 5.359375 \r\n",
       "Q 44.046875 -1.421875 33.015625 -1.421875 \r\n",
       "Q 20.359375 -1.421875 13.671875 8.265625 \r\n",
       "Q 6.984375 17.96875 6.984375 36.375 \r\n",
       "Q 6.984375 53.65625 15.1875 63.9375 \r\n",
       "Q 23.390625 74.21875 37.203125 74.21875 \r\n",
       "Q 40.921875 74.21875 44.703125 73.484375 \r\n",
       "Q 48.484375 72.75 52.59375 71.296875 \r\n",
       "z\r\n",
       "\" id=\"DejaVuSans-36\"/>\r\n",
       "      </defs>\r\n",
       "      <g transform=\"translate(164.79375 226.998437)scale(0.1 -0.1)\">\r\n",
       "       <use xlink:href=\"#DejaVuSans-36\"/>\r\n",
       "      </g>\r\n",
       "     </g>\r\n",
       "    </g>\r\n",
       "    <g id=\"xtick_5\">\r\n",
       "     <g id=\"line2d_6\">\r\n",
       "      <g>\r\n",
       "       <use style=\"stroke:#000000;stroke-width:0.8;\" x=\"212.775\" xlink:href=\"#mbe9614e68f\" y=\"212.4\"/>\r\n",
       "      </g>\r\n",
       "     </g>\r\n",
       "     <g id=\"text_5\">\r\n",
       "      <!-- 8 -->\r\n",
       "      <defs>\r\n",
       "       <path d=\"M 31.78125 34.625 \r\n",
       "Q 24.75 34.625 20.71875 30.859375 \r\n",
       "Q 16.703125 27.09375 16.703125 20.515625 \r\n",
       "Q 16.703125 13.921875 20.71875 10.15625 \r\n",
       "Q 24.75 6.390625 31.78125 6.390625 \r\n",
       "Q 38.8125 6.390625 42.859375 10.171875 \r\n",
       "Q 46.921875 13.96875 46.921875 20.515625 \r\n",
       "Q 46.921875 27.09375 42.890625 30.859375 \r\n",
       "Q 38.875 34.625 31.78125 34.625 \r\n",
       "z\r\n",
       "M 21.921875 38.8125 \r\n",
       "Q 15.578125 40.375 12.03125 44.71875 \r\n",
       "Q 8.5 49.078125 8.5 55.328125 \r\n",
       "Q 8.5 64.0625 14.71875 69.140625 \r\n",
       "Q 20.953125 74.21875 31.78125 74.21875 \r\n",
       "Q 42.671875 74.21875 48.875 69.140625 \r\n",
       "Q 55.078125 64.0625 55.078125 55.328125 \r\n",
       "Q 55.078125 49.078125 51.53125 44.71875 \r\n",
       "Q 48 40.375 41.703125 38.8125 \r\n",
       "Q 48.828125 37.15625 52.796875 32.3125 \r\n",
       "Q 56.78125 27.484375 56.78125 20.515625 \r\n",
       "Q 56.78125 9.90625 50.3125 4.234375 \r\n",
       "Q 43.84375 -1.421875 31.78125 -1.421875 \r\n",
       "Q 19.734375 -1.421875 13.25 4.234375 \r\n",
       "Q 6.78125 9.90625 6.78125 20.515625 \r\n",
       "Q 6.78125 27.484375 10.78125 32.3125 \r\n",
       "Q 14.796875 37.15625 21.921875 38.8125 \r\n",
       "z\r\n",
       "M 18.3125 54.390625 \r\n",
       "Q 18.3125 48.734375 21.84375 45.5625 \r\n",
       "Q 25.390625 42.390625 31.78125 42.390625 \r\n",
       "Q 38.140625 42.390625 41.71875 45.5625 \r\n",
       "Q 45.3125 48.734375 45.3125 54.390625 \r\n",
       "Q 45.3125 60.0625 41.71875 63.234375 \r\n",
       "Q 38.140625 66.40625 31.78125 66.40625 \r\n",
       "Q 25.390625 66.40625 21.84375 63.234375 \r\n",
       "Q 18.3125 60.0625 18.3125 54.390625 \r\n",
       "z\r\n",
       "\" id=\"DejaVuSans-38\"/>\r\n",
       "      </defs>\r\n",
       "      <g transform=\"translate(209.59375 226.998437)scale(0.1 -0.1)\">\r\n",
       "       <use xlink:href=\"#DejaVuSans-38\"/>\r\n",
       "      </g>\r\n",
       "     </g>\r\n",
       "    </g>\r\n",
       "    <g id=\"text_6\">\r\n",
       "     <!-- x -->\r\n",
       "     <defs>\r\n",
       "      <path d=\"M 54.890625 54.6875 \r\n",
       "L 35.109375 28.078125 \r\n",
       "L 55.90625 0 \r\n",
       "L 45.3125 0 \r\n",
       "L 29.390625 21.484375 \r\n",
       "L 13.484375 0 \r\n",
       "L 2.875 0 \r\n",
       "L 24.125 28.609375 \r\n",
       "L 4.6875 54.6875 \r\n",
       "L 15.28125 54.6875 \r\n",
       "L 29.78125 35.203125 \r\n",
       "L 44.28125 54.6875 \r\n",
       "z\r\n",
       "\" id=\"DejaVuSans-78\"/>\r\n",
       "     </defs>\r\n",
       "     <g transform=\"translate(131.415625 240.676562)scale(0.1 -0.1)\">\r\n",
       "      <use xlink:href=\"#DejaVuSans-78\"/>\r\n",
       "     </g>\r\n",
       "    </g>\r\n",
       "   </g>\r\n",
       "   <g id=\"matplotlib.axis_2\">\r\n",
       "    <g id=\"ytick_1\">\r\n",
       "     <g id=\"line2d_7\">\r\n",
       "      <defs>\r\n",
       "       <path d=\"M 0 0 \r\n",
       "L -3.5 0 \r\n",
       "\" id=\"mff512ac10c\" style=\"stroke:#000000;stroke-width:0.8;\"/>\r\n",
       "      </defs>\r\n",
       "      <g>\r\n",
       "       <use style=\"stroke:#000000;stroke-width:0.8;\" x=\"33.575\" xlink:href=\"#mff512ac10c\" y=\"212.4\"/>\r\n",
       "      </g>\r\n",
       "     </g>\r\n",
       "     <g id=\"text_7\">\r\n",
       "      <!-- 0 -->\r\n",
       "      <g transform=\"translate(20.2125 216.199219)scale(0.1 -0.1)\">\r\n",
       "       <use xlink:href=\"#DejaVuSans-30\"/>\r\n",
       "      </g>\r\n",
       "     </g>\r\n",
       "    </g>\r\n",
       "    <g id=\"ytick_2\">\r\n",
       "     <g id=\"line2d_8\">\r\n",
       "      <g>\r\n",
       "       <use style=\"stroke:#000000;stroke-width:0.8;\" x=\"33.575\" xlink:href=\"#mff512ac10c\" y=\"190\"/>\r\n",
       "      </g>\r\n",
       "     </g>\r\n",
       "     <g id=\"text_8\">\r\n",
       "      <!-- 1 -->\r\n",
       "      <defs>\r\n",
       "       <path d=\"M 12.40625 8.296875 \r\n",
       "L 28.515625 8.296875 \r\n",
       "L 28.515625 63.921875 \r\n",
       "L 10.984375 60.40625 \r\n",
       "L 10.984375 69.390625 \r\n",
       "L 28.421875 72.90625 \r\n",
       "L 38.28125 72.90625 \r\n",
       "L 38.28125 8.296875 \r\n",
       "L 54.390625 8.296875 \r\n",
       "L 54.390625 0 \r\n",
       "L 12.40625 0 \r\n",
       "z\r\n",
       "\" id=\"DejaVuSans-31\"/>\r\n",
       "      </defs>\r\n",
       "      <g transform=\"translate(20.2125 193.799219)scale(0.1 -0.1)\">\r\n",
       "       <use xlink:href=\"#DejaVuSans-31\"/>\r\n",
       "      </g>\r\n",
       "     </g>\r\n",
       "    </g>\r\n",
       "    <g id=\"ytick_3\">\r\n",
       "     <g id=\"line2d_9\">\r\n",
       "      <g>\r\n",
       "       <use style=\"stroke:#000000;stroke-width:0.8;\" x=\"33.575\" xlink:href=\"#mff512ac10c\" y=\"167.6\"/>\r\n",
       "      </g>\r\n",
       "     </g>\r\n",
       "     <g id=\"text_9\">\r\n",
       "      <!-- 2 -->\r\n",
       "      <g transform=\"translate(20.2125 171.399219)scale(0.1 -0.1)\">\r\n",
       "       <use xlink:href=\"#DejaVuSans-32\"/>\r\n",
       "      </g>\r\n",
       "     </g>\r\n",
       "    </g>\r\n",
       "    <g id=\"ytick_4\">\r\n",
       "     <g id=\"line2d_10\">\r\n",
       "      <g>\r\n",
       "       <use style=\"stroke:#000000;stroke-width:0.8;\" x=\"33.575\" xlink:href=\"#mff512ac10c\" y=\"145.2\"/>\r\n",
       "      </g>\r\n",
       "     </g>\r\n",
       "     <g id=\"text_10\">\r\n",
       "      <!-- 3 -->\r\n",
       "      <defs>\r\n",
       "       <path d=\"M 40.578125 39.3125 \r\n",
       "Q 47.65625 37.796875 51.625 33 \r\n",
       "Q 55.609375 28.21875 55.609375 21.1875 \r\n",
       "Q 55.609375 10.40625 48.1875 4.484375 \r\n",
       "Q 40.765625 -1.421875 27.09375 -1.421875 \r\n",
       "Q 22.515625 -1.421875 17.65625 -0.515625 \r\n",
       "Q 12.796875 0.390625 7.625 2.203125 \r\n",
       "L 7.625 11.71875 \r\n",
       "Q 11.71875 9.328125 16.59375 8.109375 \r\n",
       "Q 21.484375 6.890625 26.8125 6.890625 \r\n",
       "Q 36.078125 6.890625 40.9375 10.546875 \r\n",
       "Q 45.796875 14.203125 45.796875 21.1875 \r\n",
       "Q 45.796875 27.640625 41.28125 31.265625 \r\n",
       "Q 36.765625 34.90625 28.71875 34.90625 \r\n",
       "L 20.21875 34.90625 \r\n",
       "L 20.21875 43.015625 \r\n",
       "L 29.109375 43.015625 \r\n",
       "Q 36.375 43.015625 40.234375 45.921875 \r\n",
       "Q 44.09375 48.828125 44.09375 54.296875 \r\n",
       "Q 44.09375 59.90625 40.109375 62.90625 \r\n",
       "Q 36.140625 65.921875 28.71875 65.921875 \r\n",
       "Q 24.65625 65.921875 20.015625 65.03125 \r\n",
       "Q 15.375 64.15625 9.8125 62.3125 \r\n",
       "L 9.8125 71.09375 \r\n",
       "Q 15.4375 72.65625 20.34375 73.4375 \r\n",
       "Q 25.25 74.21875 29.59375 74.21875 \r\n",
       "Q 40.828125 74.21875 47.359375 69.109375 \r\n",
       "Q 53.90625 64.015625 53.90625 55.328125 \r\n",
       "Q 53.90625 49.265625 50.4375 45.09375 \r\n",
       "Q 46.96875 40.921875 40.578125 39.3125 \r\n",
       "z\r\n",
       "\" id=\"DejaVuSans-33\"/>\r\n",
       "      </defs>\r\n",
       "      <g transform=\"translate(20.2125 148.999219)scale(0.1 -0.1)\">\r\n",
       "       <use xlink:href=\"#DejaVuSans-33\"/>\r\n",
       "      </g>\r\n",
       "     </g>\r\n",
       "    </g>\r\n",
       "    <g id=\"ytick_5\">\r\n",
       "     <g id=\"line2d_11\">\r\n",
       "      <g>\r\n",
       "       <use style=\"stroke:#000000;stroke-width:0.8;\" x=\"33.575\" xlink:href=\"#mff512ac10c\" y=\"122.8\"/>\r\n",
       "      </g>\r\n",
       "     </g>\r\n",
       "     <g id=\"text_11\">\r\n",
       "      <!-- 4 -->\r\n",
       "      <g transform=\"translate(20.2125 126.599219)scale(0.1 -0.1)\">\r\n",
       "       <use xlink:href=\"#DejaVuSans-34\"/>\r\n",
       "      </g>\r\n",
       "     </g>\r\n",
       "    </g>\r\n",
       "    <g id=\"ytick_6\">\r\n",
       "     <g id=\"line2d_12\">\r\n",
       "      <g>\r\n",
       "       <use style=\"stroke:#000000;stroke-width:0.8;\" x=\"33.575\" xlink:href=\"#mff512ac10c\" y=\"100.4\"/>\r\n",
       "      </g>\r\n",
       "     </g>\r\n",
       "     <g id=\"text_12\">\r\n",
       "      <!-- 5 -->\r\n",
       "      <defs>\r\n",
       "       <path d=\"M 10.796875 72.90625 \r\n",
       "L 49.515625 72.90625 \r\n",
       "L 49.515625 64.59375 \r\n",
       "L 19.828125 64.59375 \r\n",
       "L 19.828125 46.734375 \r\n",
       "Q 21.96875 47.46875 24.109375 47.828125 \r\n",
       "Q 26.265625 48.1875 28.421875 48.1875 \r\n",
       "Q 40.625 48.1875 47.75 41.5 \r\n",
       "Q 54.890625 34.8125 54.890625 23.390625 \r\n",
       "Q 54.890625 11.625 47.5625 5.09375 \r\n",
       "Q 40.234375 -1.421875 26.90625 -1.421875 \r\n",
       "Q 22.3125 -1.421875 17.546875 -0.640625 \r\n",
       "Q 12.796875 0.140625 7.71875 1.703125 \r\n",
       "L 7.71875 11.625 \r\n",
       "Q 12.109375 9.234375 16.796875 8.0625 \r\n",
       "Q 21.484375 6.890625 26.703125 6.890625 \r\n",
       "Q 35.15625 6.890625 40.078125 11.328125 \r\n",
       "Q 45.015625 15.765625 45.015625 23.390625 \r\n",
       "Q 45.015625 31 40.078125 35.4375 \r\n",
       "Q 35.15625 39.890625 26.703125 39.890625 \r\n",
       "Q 22.75 39.890625 18.8125 39.015625 \r\n",
       "Q 14.890625 38.140625 10.796875 36.28125 \r\n",
       "z\r\n",
       "\" id=\"DejaVuSans-35\"/>\r\n",
       "      </defs>\r\n",
       "      <g transform=\"translate(20.2125 104.199219)scale(0.1 -0.1)\">\r\n",
       "       <use xlink:href=\"#DejaVuSans-35\"/>\r\n",
       "      </g>\r\n",
       "     </g>\r\n",
       "    </g>\r\n",
       "    <g id=\"ytick_7\">\r\n",
       "     <g id=\"line2d_13\">\r\n",
       "      <g>\r\n",
       "       <use style=\"stroke:#000000;stroke-width:0.8;\" x=\"33.575\" xlink:href=\"#mff512ac10c\" y=\"78\"/>\r\n",
       "      </g>\r\n",
       "     </g>\r\n",
       "     <g id=\"text_13\">\r\n",
       "      <!-- 6 -->\r\n",
       "      <g transform=\"translate(20.2125 81.799219)scale(0.1 -0.1)\">\r\n",
       "       <use xlink:href=\"#DejaVuSans-36\"/>\r\n",
       "      </g>\r\n",
       "     </g>\r\n",
       "    </g>\r\n",
       "    <g id=\"ytick_8\">\r\n",
       "     <g id=\"line2d_14\">\r\n",
       "      <g>\r\n",
       "       <use style=\"stroke:#000000;stroke-width:0.8;\" x=\"33.575\" xlink:href=\"#mff512ac10c\" y=\"55.6\"/>\r\n",
       "      </g>\r\n",
       "     </g>\r\n",
       "     <g id=\"text_14\">\r\n",
       "      <!-- 7 -->\r\n",
       "      <defs>\r\n",
       "       <path d=\"M 8.203125 72.90625 \r\n",
       "L 55.078125 72.90625 \r\n",
       "L 55.078125 68.703125 \r\n",
       "L 28.609375 0 \r\n",
       "L 18.3125 0 \r\n",
       "L 43.21875 64.59375 \r\n",
       "L 8.203125 64.59375 \r\n",
       "z\r\n",
       "\" id=\"DejaVuSans-37\"/>\r\n",
       "      </defs>\r\n",
       "      <g transform=\"translate(20.2125 59.399219)scale(0.1 -0.1)\">\r\n",
       "       <use xlink:href=\"#DejaVuSans-37\"/>\r\n",
       "      </g>\r\n",
       "     </g>\r\n",
       "    </g>\r\n",
       "    <g id=\"ytick_9\">\r\n",
       "     <g id=\"line2d_15\">\r\n",
       "      <g>\r\n",
       "       <use style=\"stroke:#000000;stroke-width:0.8;\" x=\"33.575\" xlink:href=\"#mff512ac10c\" y=\"33.2\"/>\r\n",
       "      </g>\r\n",
       "     </g>\r\n",
       "     <g id=\"text_15\">\r\n",
       "      <!-- 8 -->\r\n",
       "      <g transform=\"translate(20.2125 36.999219)scale(0.1 -0.1)\">\r\n",
       "       <use xlink:href=\"#DejaVuSans-38\"/>\r\n",
       "      </g>\r\n",
       "     </g>\r\n",
       "    </g>\r\n",
       "    <g id=\"ytick_10\">\r\n",
       "     <g id=\"line2d_16\">\r\n",
       "      <g>\r\n",
       "       <use style=\"stroke:#000000;stroke-width:0.8;\" x=\"33.575\" xlink:href=\"#mff512ac10c\" y=\"10.8\"/>\r\n",
       "      </g>\r\n",
       "     </g>\r\n",
       "     <g id=\"text_16\">\r\n",
       "      <!-- 9 -->\r\n",
       "      <defs>\r\n",
       "       <path d=\"M 10.984375 1.515625 \r\n",
       "L 10.984375 10.5 \r\n",
       "Q 14.703125 8.734375 18.5 7.8125 \r\n",
       "Q 22.3125 6.890625 25.984375 6.890625 \r\n",
       "Q 35.75 6.890625 40.890625 13.453125 \r\n",
       "Q 46.046875 20.015625 46.78125 33.40625 \r\n",
       "Q 43.953125 29.203125 39.59375 26.953125 \r\n",
       "Q 35.25 24.703125 29.984375 24.703125 \r\n",
       "Q 19.046875 24.703125 12.671875 31.3125 \r\n",
       "Q 6.296875 37.9375 6.296875 49.421875 \r\n",
       "Q 6.296875 60.640625 12.9375 67.421875 \r\n",
       "Q 19.578125 74.21875 30.609375 74.21875 \r\n",
       "Q 43.265625 74.21875 49.921875 64.515625 \r\n",
       "Q 56.59375 54.828125 56.59375 36.375 \r\n",
       "Q 56.59375 19.140625 48.40625 8.859375 \r\n",
       "Q 40.234375 -1.421875 26.421875 -1.421875 \r\n",
       "Q 22.703125 -1.421875 18.890625 -0.6875 \r\n",
       "Q 15.09375 0.046875 10.984375 1.515625 \r\n",
       "z\r\n",
       "M 30.609375 32.421875 \r\n",
       "Q 37.25 32.421875 41.125 36.953125 \r\n",
       "Q 45.015625 41.5 45.015625 49.421875 \r\n",
       "Q 45.015625 57.28125 41.125 61.84375 \r\n",
       "Q 37.25 66.40625 30.609375 66.40625 \r\n",
       "Q 23.96875 66.40625 20.09375 61.84375 \r\n",
       "Q 16.21875 57.28125 16.21875 49.421875 \r\n",
       "Q 16.21875 41.5 20.09375 36.953125 \r\n",
       "Q 23.96875 32.421875 30.609375 32.421875 \r\n",
       "z\r\n",
       "\" id=\"DejaVuSans-39\"/>\r\n",
       "      </defs>\r\n",
       "      <g transform=\"translate(20.2125 14.599219)scale(0.1 -0.1)\">\r\n",
       "       <use xlink:href=\"#DejaVuSans-39\"/>\r\n",
       "      </g>\r\n",
       "     </g>\r\n",
       "    </g>\r\n",
       "    <g id=\"text_17\">\r\n",
       "     <!-- y -->\r\n",
       "     <defs>\r\n",
       "      <path d=\"M 32.171875 -5.078125 \r\n",
       "Q 28.375 -14.84375 24.75 -17.8125 \r\n",
       "Q 21.140625 -20.796875 15.09375 -20.796875 \r\n",
       "L 7.90625 -20.796875 \r\n",
       "L 7.90625 -13.28125 \r\n",
       "L 13.1875 -13.28125 \r\n",
       "Q 16.890625 -13.28125 18.9375 -11.515625 \r\n",
       "Q 21 -9.765625 23.484375 -3.21875 \r\n",
       "L 25.09375 0.875 \r\n",
       "L 2.984375 54.6875 \r\n",
       "L 12.5 54.6875 \r\n",
       "L 29.59375 11.921875 \r\n",
       "L 46.6875 54.6875 \r\n",
       "L 56.203125 54.6875 \r\n",
       "z\r\n",
       "\" id=\"DejaVuSans-79\"/>\r\n",
       "     </defs>\r\n",
       "     <g transform=\"translate(14.132812 114.559375)rotate(-90)scale(0.1 -0.1)\">\r\n",
       "      <use xlink:href=\"#DejaVuSans-79\"/>\r\n",
       "     </g>\r\n",
       "    </g>\r\n",
       "   </g>\r\n",
       "   <g id=\"patch_3\">\r\n",
       "    <path d=\"M 33.575 212.4 \r\n",
       "L 33.575 10.8 \r\n",
       "\" style=\"fill:none;stroke:#000000;stroke-linecap:square;stroke-linejoin:miter;stroke-width:0.8;\"/>\r\n",
       "   </g>\r\n",
       "   <g id=\"patch_4\">\r\n",
       "    <path d=\"M 33.575 212.4 \r\n",
       "L 235.175 212.4 \r\n",
       "\" style=\"fill:none;stroke:#000000;stroke-linecap:square;stroke-linejoin:miter;stroke-width:0.8;\"/>\r\n",
       "   </g>\r\n",
       "  </g>\r\n",
       " </g>\r\n",
       " <defs>\r\n",
       "  <clipPath id=\"p4abcfb7ec5\">\r\n",
       "   <rect height=\"201.6\" width=\"201.6\" x=\"33.575\" y=\"10.8\"/>\r\n",
       "  </clipPath>\r\n",
       " </defs>\r\n",
       "</svg>\r\n"
      ]
     },
     "metadata": {},
     "output_type": "display_data"
    }
   ],
   "source": [
    "from IPython.display import display_svg\n",
    "svg, info = renderer(curve, fmt='svg')\n",
    "print(info)\n",
    "display_svg(svg, raw=True)"
   ]
  },
  {
   "cell_type": "markdown",
   "metadata": {},
   "source": [
    "We could save these byte string representations ourselves but the ``Renderer`` provides a convenient ``save`` method to do so. Simply supply the object the filename and the format, which doubles as the file extension:"
   ]
  },
  {
   "cell_type": "code",
   "execution_count": 13,
   "metadata": {},
   "outputs": [],
   "source": [
    "renderer.save(curve, '/tmp/test', fmt='png')"
   ]
  },
  {
   "cell_type": "markdown",
   "metadata": {},
   "source": [
    "Another convenient way to render the object is to wrap it in HTML, which we can do with the ``html`` method:"
   ]
  },
  {
   "cell_type": "code",
   "execution_count": 14,
   "metadata": {},
   "outputs": [
    {
     "data": {
      "text/html": [
       "<img src='data:image/png;base64,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' style='max-width:100%; margin: auto; display: block; '/>"
      ]
     },
     "metadata": {},
     "output_type": "display_data"
    }
   ],
   "source": [
    "from IPython.display import display_html\n",
    "html = renderer.html(curve)\n",
    "display_html(html, raw=True)"
   ]
  },
  {
   "cell_type": "markdown",
   "metadata": {},
   "source": [
    "Rendering plots containing ``HoloMap`` and ``DynamicMap`` objects will automatically generate a widget class instance, which you can get a handle on with the ``get_widget`` method:"
   ]
  },
  {
   "cell_type": "code",
   "execution_count": 15,
   "metadata": {},
   "outputs": [
    {
     "data": {
      "text/plain": [
       "MPLSelectionWidget(CDN={'underscore': 'https://cdnjs.cloudflare.com/ajax/libs/underscore.js/1.8.3/underscore-min.js', 'jQueryUI': 'https://code.jquery.com/ui/1.10.4/jquery-ui.min.js'}, base_template='jsslider.jinja', basejs='widgets.js', css='jsslider.css', display_options={}, embed=True, export_json=False, extensionjs='mplwidgets.js', json_load_path=None, json_save_path='./json_figures', name='MPLSelectionWidget01200', template='jsslider.jinja')"
      ]
     },
     "execution_count": 15,
     "metadata": {},
     "output_type": "execute_result"
    }
   ],
   "source": [
    "holomap = hv.HoloMap({i: hv.Image(np.random.rand(10, 10)) for i in range(3)})\n",
    "widget = renderer.get_widget(holomap, 'widgets')\n",
    "widget"
   ]
  },
  {
   "cell_type": "markdown",
   "metadata": {},
   "source": [
    "However most of the time it is more convenient to let the Renderer export the widget HTML, again via a convenient method, which will export a HTML document with all the required JS and CSS dependencies:"
   ]
  },
  {
   "cell_type": "code",
   "execution_count": 16,
   "metadata": {},
   "outputs": [
    {
     "data": {
      "text/html": [
       "\n",
       "<html>\n",
       "  <head>\n",
       "    \n",
       "<link rel=\"stylesheet\" href=\"https://maxcdn.bootstrapcdn.com/bootstrap/3.3.6/css/bootstrap.min.css\">\n",
       "<link rel=\"stylesheet\" href=\"https://code.jquery.com/ui/1.10.4/themes/smoothness/jquery-ui.css\">\n",
       "<style>div.hololayout {\n",
       "    display: flex;\n",
       "    align-items: center;\n",
       "    margin: 0;\n",
       "}\n",
       "\n",
       "div.holoframe {\n",
       "\twidth: 75%;\n",
       "}\n",
       "\n",
       "div.holowell {\n",
       "    display: flex;\n",
       "    align-items: center;\n",
       "    margin: 0;\n",
       "}\n",
       "\n",
       "form.holoform {\n",
       "    background-color: #fafafa;\n",
       "    border-radius: 5px;\n",
       "    overflow: hidden;\n",
       "\tpadding-left: 0.8em;\n",
       "    padding-right: 0.8em;\n",
       "    padding-top: 0.4em;\n",
       "    padding-bottom: 0.4em;\n",
       "}\n",
       "\n",
       "div.holowidgets {\n",
       "    padding-right: 0;\n",
       "\twidth: 25%;\n",
       "}\n",
       "\n",
       "div.holoslider {\n",
       "    min-height: 0 !important;\n",
       "    height: 0.8em;\n",
       "    width: 60%;\n",
       "}\n",
       "\n",
       "div.holoformgroup {\n",
       "    padding-top: 0.5em;\n",
       "    margin-bottom: 0.5em;\n",
       "}\n",
       "\n",
       "div.hologroup {\n",
       "    padding-left: 0;\n",
       "    padding-right: 0.8em;\n",
       "    width: 50%;\n",
       "}\n",
       "\n",
       ".holoselect {\n",
       "    width: 92%;\n",
       "    margin-left: 0;\n",
       "    margin-right: 0;\n",
       "}\n",
       "\n",
       ".holotext {\n",
       "    width: 100%;\n",
       "    padding-left:  0.5em;\n",
       "    padding-right: 0;\n",
       "}\n",
       "\n",
       ".holowidgets .ui-resizable-se {\n",
       "\tvisibility: hidden\n",
       "}\n",
       "\n",
       ".holoframe > .ui-resizable-se {\n",
       "\tvisibility: hidden\n",
       "}\n",
       "\n",
       ".holowidgets .ui-resizable-s {\n",
       "\tvisibility: hidden\n",
       "}\n",
       "</style>\n",
       "    \n",
       "<script src=\"https://code.jquery.com/jquery-2.1.4.min.js\" type=\"text/javascript\"></script>\n",
       "<script src=\"https://code.jquery.com/ui/1.10.4/jquery-ui.min.js\" type=\"text/javascript\"></script>\n",
       "<script src=\"https://cdnjs.cloudflare.com/ajax/libs/require.js/2.1.20/require.min.js\" type=\"text/javascript\"></script>\n",
       "<script src=\"https://cdnjs.cloudflare.com/ajax/libs/underscore.js/1.8.3/underscore-min.js\" type=\"text/javascript\"></script>\n",
       "<script type=\"text/javascript\">function HoloViewsWidget(){\n",
       "}\n",
       "\n",
       "HoloViewsWidget.comms = {};\n",
       "HoloViewsWidget.comm_state = {};\n",
       "\n",
       "HoloViewsWidget.prototype.init_slider = function(init_val){\n",
       "  if(this.load_json) {\n",
       "    this.from_json()\n",
       "  } else {\n",
       "    this.update_cache();\n",
       "  }\n",
       "}\n",
       "\n",
       "HoloViewsWidget.prototype.populate_cache = function(idx){\n",
       "  this.cache[idx].html(this.frames[idx]);\n",
       "  if (this.embed) {\n",
       "    delete this.frames[idx];\n",
       "  }\n",
       "}\n",
       "\n",
       "HoloViewsWidget.prototype.process_error = function(msg){\n",
       "\n",
       "}\n",
       "\n",
       "HoloViewsWidget.prototype.from_json = function() {\n",
       "  var data_url = this.json_path + this.id + '.json';\n",
       "  $.getJSON(data_url, $.proxy(function(json_data) {\n",
       "    this.frames = json_data;\n",
       "    this.update_cache();\n",
       "    this.update(0);\n",
       "  }, this));\n",
       "}\n",
       "\n",
       "HoloViewsWidget.prototype.dynamic_update = function(current){\n",
       "  if (current === undefined) {\n",
       "    return\n",
       "  }\n",
       "  if(this.dynamic) {\n",
       "    current = JSON.stringify(current);\n",
       "  }\n",
       "  function callback(initialized, msg){\n",
       "    /* This callback receives data from Python as a string\n",
       "       in order to parse it correctly quotes are sliced off*/\n",
       "    if (msg.content.ename != undefined) {\n",
       "      this.process_error(msg);\n",
       "    }\n",
       "    if (msg.msg_type != \"execute_result\") {\n",
       "      console.log(\"Warning: HoloViews callback returned unexpected data for key: (\", current, \") with the following content:\", msg.content)\n",
       "    } else {\n",
       "      if (msg.content.data['text/plain'].includes('Complete')) {\n",
       "        if (this.queue.length > 0) {\n",
       "          this.time = Date.now();\n",
       "          this.dynamic_update(this.queue[this.queue.length-1]);\n",
       "          this.queue = [];\n",
       "        } else {\n",
       "          this.wait = false;\n",
       "        }\n",
       "        return\n",
       "      }\n",
       "    }\n",
       "  }\n",
       "  this.current = current;\n",
       "  if ((window.Jupyter !== undefined) && (Jupyter.notebook.kernel != null)) {\n",
       "    var kernel = Jupyter.notebook.kernel;\n",
       "    callbacks = {iopub: {output: $.proxy(callback, this, this.initialized)}};\n",
       "    var cmd = \"holoviews.plotting.widgets.NdWidget.widgets['\" + this.id + \"'].update(\" + current + \")\";\n",
       "    kernel.execute(\"import holoviews;\" + cmd, callbacks, {silent : false});\n",
       "  }\n",
       "}\n",
       "\n",
       "HoloViewsWidget.prototype.update_cache = function(force){\n",
       "  var frame_len = Object.keys(this.frames).length;\n",
       "  for (var i=0; i<frame_len; i++) {\n",
       "    if(!this.load_json || this.dynamic)  {\n",
       "      frame = Object.keys(this.frames)[i];\n",
       "    } else {\n",
       "      frame = i;\n",
       "    }\n",
       "    if(!(frame in this.cache) || force) {\n",
       "      if ((frame in this.cache) && force) { this.cache[frame].remove() }\n",
       "      this.cache[frame] = $('<div />').appendTo(\"#\"+\"_anim_img\"+this.id).hide();\n",
       "      var cache_id = \"_anim_img\"+this.id+\"_\"+frame;\n",
       "      this.cache[frame].attr(\"id\", cache_id);\n",
       "      this.populate_cache(frame);\n",
       "    }\n",
       "  }\n",
       "}\n",
       "\n",
       "HoloViewsWidget.prototype.update = function(current){\n",
       "  if(current in this.cache) {\n",
       "    $.each(this.cache, function(index, value) {\n",
       "      value.hide();\n",
       "    });\n",
       "    this.cache[current].show();\n",
       "    this.wait = false;\n",
       "  }\n",
       "}\n",
       "\n",
       "HoloViewsWidget.prototype.init_comms = function() {\n",
       "  if ((window.Jupyter !== undefined) && (Jupyter.notebook.kernel !== undefined)) {\n",
       "    var widget = this;\n",
       "    comm_manager = Jupyter.notebook.kernel.comm_manager;\n",
       "    comm_manager.register_target(this.id, function (comm) {\n",
       "      comm.on_msg(function (msg) { widget.process_msg(msg) });\n",
       "    });\n",
       "  }\n",
       "}\n",
       "\n",
       "HoloViewsWidget.prototype.process_msg = function(msg) {\n",
       "}\n",
       "\n",
       "function SelectionWidget(frames, id, slider_ids, keyMap, dim_vals, notFound, load_json, mode, cached, json_path, dynamic){\n",
       "  this.frames = frames;\n",
       "  this.id = id;\n",
       "  this.slider_ids = slider_ids;\n",
       "  this.keyMap = keyMap\n",
       "  this.current_frame = 0;\n",
       "  this.current_vals = dim_vals;\n",
       "  this.load_json = load_json;\n",
       "  this.mode = mode;\n",
       "  this.notFound = notFound;\n",
       "  this.cached = cached;\n",
       "  this.dynamic = dynamic;\n",
       "  this.cache = {};\n",
       "  this.json_path = json_path;\n",
       "  this.init_slider(this.current_vals[0]);\n",
       "  this.queue = [];\n",
       "  this.wait = false;\n",
       "  if (!this.cached || this.dynamic) {\n",
       "    this.init_comms()\n",
       "  }\n",
       "}\n",
       "\n",
       "SelectionWidget.prototype = new HoloViewsWidget;\n",
       "\n",
       "\n",
       "SelectionWidget.prototype.get_key = function(current_vals) {\n",
       "  var key = \"(\";\n",
       "  for (var i=0; i<this.slider_ids.length; i++)\n",
       "  {\n",
       "    val = this.current_vals[i];\n",
       "    if (!(typeof val === 'string')) {\n",
       "      if (val % 1 === 0) { val = val.toFixed(1); }\n",
       "      else { val = val.toFixed(10); val = val.slice(0, val.length-1);}\n",
       "    }\n",
       "    key += \"'\" + val + \"'\";\n",
       "    if(i != this.slider_ids.length-1) { key += ', ';}\n",
       "    else if(this.slider_ids.length == 1) { key += ',';}\n",
       "  }\n",
       "  key += \")\";\n",
       "  return this.keyMap[key];\n",
       "}\n",
       "\n",
       "SelectionWidget.prototype.set_frame = function(dim_val, dim_idx){\n",
       "  this.current_vals[dim_idx] = dim_val;\n",
       "  var key = this.current_vals;\n",
       "  if (!this.dynamic) {\n",
       "    key = this.get_key(key)\n",
       "  }\n",
       "  if (this.dynamic || !this.cached) {\n",
       "    if ((this.time !== undefined) && ((this.wait) && ((this.time + 10000) > Date.now()))) {\n",
       "      this.queue.push(key);\n",
       "      return\n",
       "    }\n",
       "    this.queue = [];\n",
       "    this.time = Date.now();\n",
       "    this.current_frame = key;\n",
       "    this.wait = true;\n",
       "    this.dynamic_update(key)\n",
       "  } else if (key !== undefined) {\n",
       "    this.update(key)\n",
       "  }\n",
       "}\n",
       "\n",
       "\n",
       "/* Define the ScrubberWidget class */\n",
       "function ScrubberWidget(frames, num_frames, id, interval, load_json, mode, cached, json_path, dynamic){\n",
       "  this.slider_id = \"_anim_slider\" + id;\n",
       "  this.loop_select_id = \"_anim_loop_select\" + id;\n",
       "  this.id = id;\n",
       "  this.interval = interval;\n",
       "  this.current_frame = 0;\n",
       "  this.direction = 0;\n",
       "  this.dynamic = dynamic;\n",
       "  this.timer = null;\n",
       "  this.load_json = load_json;\n",
       "  this.mode = mode;\n",
       "  this.cached = cached;\n",
       "  this.frames = frames;\n",
       "  this.cache = {};\n",
       "  this.length = num_frames;\n",
       "  this.json_path = json_path;\n",
       "  document.getElementById(this.slider_id).max = this.length - 1;\n",
       "  this.init_slider(0);\n",
       "  this.wait = false;\n",
       "  this.queue = [];\n",
       "  if (!this.cached || this.dynamic) {\n",
       "    this.init_comms()\n",
       "  }\n",
       "}\n",
       "\n",
       "ScrubberWidget.prototype = new HoloViewsWidget;\n",
       "\n",
       "ScrubberWidget.prototype.set_frame = function(frame){\n",
       "  this.current_frame = frame;\n",
       "  widget = document.getElementById(this.slider_id);\n",
       "  if (widget === null) {\n",
       "    this.pause_animation();\n",
       "    return\n",
       "  }\n",
       "  widget.value = this.current_frame;\n",
       "  if(this.cached) {\n",
       "    this.update(frame)\n",
       "  } else {\n",
       "    this.dynamic_update(frame)\n",
       "  }\n",
       "}\n",
       "\n",
       "\n",
       "ScrubberWidget.prototype.get_loop_state = function(){\n",
       "  var button_group = document[this.loop_select_id].state;\n",
       "  for (var i = 0; i < button_group.length; i++) {\n",
       "    var button = button_group[i];\n",
       "    if (button.checked) {\n",
       "      return button.value;\n",
       "    }\n",
       "  }\n",
       "  return undefined;\n",
       "}\n",
       "\n",
       "\n",
       "ScrubberWidget.prototype.next_frame = function() {\n",
       "  this.set_frame(Math.min(this.length - 1, this.current_frame + 1));\n",
       "}\n",
       "\n",
       "ScrubberWidget.prototype.previous_frame = function() {\n",
       "  this.set_frame(Math.max(0, this.current_frame - 1));\n",
       "}\n",
       "\n",
       "ScrubberWidget.prototype.first_frame = function() {\n",
       "  this.set_frame(0);\n",
       "}\n",
       "\n",
       "ScrubberWidget.prototype.last_frame = function() {\n",
       "  this.set_frame(this.length - 1);\n",
       "}\n",
       "\n",
       "ScrubberWidget.prototype.slower = function() {\n",
       "  this.interval /= 0.7;\n",
       "  if(this.direction > 0){this.play_animation();}\n",
       "  else if(this.direction < 0){this.reverse_animation();}\n",
       "}\n",
       "\n",
       "ScrubberWidget.prototype.faster = function() {\n",
       "  this.interval *= 0.7;\n",
       "  if(this.direction > 0){this.play_animation();}\n",
       "  else if(this.direction < 0){this.reverse_animation();}\n",
       "}\n",
       "\n",
       "ScrubberWidget.prototype.anim_step_forward = function() {\n",
       "  if(this.current_frame < this.length - 1){\n",
       "    this.next_frame();\n",
       "  }else{\n",
       "    var loop_state = this.get_loop_state();\n",
       "    if(loop_state == \"loop\"){\n",
       "      this.first_frame();\n",
       "    }else if(loop_state == \"reflect\"){\n",
       "      this.last_frame();\n",
       "      this.reverse_animation();\n",
       "    }else{\n",
       "      this.pause_animation();\n",
       "      this.last_frame();\n",
       "    }\n",
       "  }\n",
       "}\n",
       "\n",
       "ScrubberWidget.prototype.anim_step_reverse = function() {\n",
       "  if(this.current_frame > 0){\n",
       "    this.previous_frame();\n",
       "  } else {\n",
       "    var loop_state = this.get_loop_state();\n",
       "    if(loop_state == \"loop\"){\n",
       "      this.last_frame();\n",
       "    }else if(loop_state == \"reflect\"){\n",
       "      this.first_frame();\n",
       "      this.play_animation();\n",
       "    }else{\n",
       "      this.pause_animation();\n",
       "      this.first_frame();\n",
       "    }\n",
       "  }\n",
       "}\n",
       "\n",
       "ScrubberWidget.prototype.pause_animation = function() {\n",
       "  this.direction = 0;\n",
       "  if (this.timer){\n",
       "    clearInterval(this.timer);\n",
       "    this.timer = null;\n",
       "  }\n",
       "}\n",
       "\n",
       "ScrubberWidget.prototype.play_animation = function() {\n",
       "  this.pause_animation();\n",
       "  this.direction = 1;\n",
       "  var t = this;\n",
       "  if (!this.timer) this.timer = setInterval(function(){t.anim_step_forward();}, this.interval);\n",
       "}\n",
       "\n",
       "ScrubberWidget.prototype.reverse_animation = function() {\n",
       "  this.pause_animation();\n",
       "  this.direction = -1;\n",
       "  var t = this;\n",
       "  if (!this.timer) this.timer = setInterval(function(){t.anim_step_reverse();}, this.interval);\n",
       "}\n",
       "\n",
       "function extend(destination, source) {\n",
       "  for (var k in source) {\n",
       "    if (source.hasOwnProperty(k)) {\n",
       "      destination[k] = source[k];\n",
       "    }\n",
       "  }\n",
       "  return destination;\n",
       "}\n",
       "\n",
       "function update_widget(widget, values) {\n",
       "  if (widget.hasClass(\"ui-slider\")) {\n",
       "    widget.slider('option', {\n",
       "      min: 0,\n",
       "      max: values.length-1,\n",
       "      dim_vals: values,\n",
       "      value: 0,\n",
       "      dim_labels: values\n",
       "\t})\n",
       "    widget.slider('option', 'slide').call(widget, event, {value: 0})\n",
       "  } else {\n",
       "    widget.empty();\n",
       "    for (var i=0; i<values.length; i++){\n",
       "      widget.append($(\"<option>\", {\n",
       "        value: i,\n",
       "        text: values[i]\n",
       "      }))\n",
       "    };\n",
       "    widget.data('values', values);\n",
       "    widget.data('value', 0);\n",
       "    widget.trigger(\"change\");\n",
       "  };\n",
       "}\n",
       "\n",
       "// Define MPL specific subclasses\n",
       "function MPLSelectionWidget() {\n",
       "    SelectionWidget.apply(this, arguments);\n",
       "}\n",
       "\n",
       "function MPLScrubberWidget() {\n",
       "    ScrubberWidget.apply(this, arguments);\n",
       "}\n",
       "\n",
       "// Let them inherit from the baseclasses\n",
       "MPLSelectionWidget.prototype = Object.create(SelectionWidget.prototype);\n",
       "MPLScrubberWidget.prototype = Object.create(ScrubberWidget.prototype);\n",
       "\n",
       "// Define methods to override on widgets\n",
       "var MPLMethods = {\n",
       "    init_slider : function(init_val){\n",
       "        if(this.load_json) {\n",
       "            this.from_json()\n",
       "        } else {\n",
       "            this.update_cache();\n",
       "        }\n",
       "        this.update(0);\n",
       "        if(this.mode == 'nbagg') {\n",
       "            this.set_frame(init_val, 0);\n",
       "        }\n",
       "    },\n",
       "    populate_cache : function(idx){\n",
       "        var cache_id = \"_anim_img\"+this.id+\"_\"+idx;\n",
       "        this.cache[idx].html(this.frames[idx]);\n",
       "        if (this.embed) {\n",
       "            delete this.frames[idx];\n",
       "        }\n",
       "    },\n",
       "    process_msg : function(msg) {\n",
       "        if (!(this.mode == 'nbagg')) {\n",
       "            var data = msg.content.data;\n",
       "            this.frames[this.current] = data;\n",
       "            this.update_cache(true);\n",
       "            this.update(this.current);\n",
       "        }\n",
       "    }\n",
       "}\n",
       "// Extend MPL widgets with backend specific methods\n",
       "extend(MPLSelectionWidget.prototype, MPLMethods);\n",
       "extend(MPLScrubberWidget.prototype, MPLMethods);\n",
       "</script>\n",
       "  </head>\n",
       "  <body>\n",
       "    <div class=\"hololayout row row-fluid\">\n",
       "  <div class=\"holoframe\" id=\"display_area60298c9eef3d4c5b9d7a4f0e1e4c997c\">\n",
       "    <div id=\"_anim_img60298c9eef3d4c5b9d7a4f0e1e4c997c\">\n",
       "      \n",
       "      \n",
       "      \n",
       "    </div>\n",
       "  </div>\n",
       "  <div class=\"holowidgets\" id=\"widget_area60298c9eef3d4c5b9d7a4f0e1e4c997c\">\n",
       "    <form class=\"holoform well\" id=\"form60298c9eef3d4c5b9d7a4f0e1e4c997c\">\n",
       "      \n",
       "      \n",
       "      <div class=\"form-group control-group holoformgroup\" style=''>\n",
       "        <label for=\"textInput60298c9eef3d4c5b9d7a4f0e1e4c997c_Default\">\n",
       "          <strong>Default:</strong>\n",
       "        </label>\n",
       "        <div class=\"holowell row row-fluid\">\n",
       "          <div class=\"hologroup\">\n",
       "            <input type=\"text\" class=\"holotext form-control input-small\"\n",
       "                   id=\"textInput60298c9eef3d4c5b9d7a4f0e1e4c997c_Default\" value=\"\" readonly>\n",
       "          </div>\n",
       "          <div class=\"holoslider\"\n",
       "               id=\"_anim_widget60298c9eef3d4c5b9d7a4f0e1e4c997c_Default\"></div>\n",
       "        </div>\n",
       "      </div>\n",
       "\t  <script>\n",
       "\t    function init_slider() {\n",
       "        // Slider JS Block START\n",
       "        function loadcssfile(filename){\n",
       "            var fileref=document.createElement(\"link\")\n",
       "            fileref.setAttribute(\"rel\", \"stylesheet\")\n",
       "            fileref.setAttribute(\"type\", \"text/css\")\n",
       "            fileref.setAttribute(\"href\", filename)\n",
       "            document.getElementsByTagName(\"head\")[0].appendChild(fileref)\n",
       "        }\n",
       "        loadcssfile(\"https://code.jquery.com/ui/1.10.4/themes/smoothness/jquery-ui.css\");\n",
       "        /* Check if jQuery and jQueryUI have been loaded\n",
       "           otherwise load with require.js */\n",
       "        var jQuery = window.jQuery,\n",
       "            // check for old versions of jQuery\n",
       "            oldjQuery = jQuery && !!jQuery.fn.jquery.match(/^1\\.[0-4](\\.|$)/),\n",
       "            jquery_path = '',\n",
       "            paths = {},\n",
       "            noConflict;\n",
       "        var jQueryUI = jQuery.ui;\n",
       "        // check for jQuery\n",
       "        if (!jQuery || oldjQuery) {\n",
       "            // load if it's not available or doesn't meet min standards\n",
       "            paths.jQuery = jQuery;\n",
       "            noConflict = !!oldjQuery;\n",
       "        } else {\n",
       "            // register the current jQuery\n",
       "            define('jquery', [], function() { return jQuery; });\n",
       "        }\n",
       "        if (!jQueryUI) {\n",
       "            paths.jQueryUI = \"https://code.jquery.com/ui/1.10.4/jquery-ui.min\"\n",
       "        } else {\n",
       "            define('jQueryUI', [], function() { return jQuery.ui; });\n",
       "        }\n",
       "        paths.underscore = \"https://cdnjs.cloudflare.com/ajax/libs/underscore.js/1.8.3/underscore-min\";\n",
       "        var jquery_require = {\n",
       "            paths: paths,\n",
       "            shim: {\n",
       "                \"jQueryUI\": {\n",
       "                    exports:\"$\",\n",
       "                    deps: ['jquery']\n",
       "                },\n",
       "                \"underscore\": {\n",
       "                    exports: '_'\n",
       "                }\n",
       "            }\n",
       "        }\n",
       "        require.config(jquery_require);\n",
       "        require([\"jQueryUI\", \"underscore\"], function(jUI, _){\n",
       "            if (noConflict) $.noConflict(true);\n",
       "            var vals = ['0.0', '1.0', '2.0'];\n",
       "            var next_vals = {};\n",
       "            if (false && vals.constructor === Array) {\n",
       "                var min = parseFloat(vals[0]);\n",
       "                var max = parseFloat(vals[vals.length-1]);\n",
       "                var step = 1;\n",
       "                var labels = [min];\n",
       "            } else {\n",
       "                var min = 0;\n",
       "                if (false) {\n",
       "                    var max = Object.keys(vals).length - 1;\n",
       "                } else {\n",
       "                    var max = vals.length - 1;\n",
       "                }\n",
       "                var step = 1;\n",
       "\t\t\t\tvar labels = ['0', '1', '2'];\n",
       "            }\n",
       "\t\t\tfunction adjustFontSize(text) {\n",
       "\t\t\t\tvar width_ratio = (text.parent().width()/8)/text.val().length;\n",
       "\t\t\t\tvar size = Math.min(0.9, Math.max(0.6, width_ratio))+'em';\n",
       "\t\t\t\ttext.css('font-size', size);\n",
       "\t\t\t}\n",
       "            var slider = $('#_anim_widget60298c9eef3d4c5b9d7a4f0e1e4c997c_Default');\n",
       "\t\t\tslider.slider({\n",
       "                animate: \"fast\",\n",
       "                min: min,\n",
       "                max: max,\n",
       "                step: step,\n",
       "                value: min,\n",
       "                dim_vals: vals,\n",
       "                dim_labels: labels,\n",
       "                next_vals: next_vals,\n",
       "                slide: function(event, ui) {\n",
       "                    var vals = slider.slider(\"option\", \"dim_vals\");\n",
       "                    var next_vals = slider.slider(\"option\", \"next_vals\");\n",
       "                    var labels = slider.slider(\"option\", \"dim_labels\");\n",
       "                    if (false) {\n",
       "\t\t\t\t\t    var dim_val = ui.value;\n",
       "\t\t\t\t\t    if (vals.constructor === Array) {\n",
       "\t\t\t\t\t\t   var label = ui.value;\n",
       "\t\t\t\t\t\t} else {\n",
       "\t\t\t\t\t\t   var label = labels[ui.value];\n",
       "\t\t\t\t\t\t}\n",
       "                    } else {\n",
       "                        var dim_val = vals[ui.value];\n",
       "\t\t\t\t\t\tvar label = labels[ui.value];\n",
       "                    }\n",
       "\t\t\t\t\tvar text = $('#textInput60298c9eef3d4c5b9d7a4f0e1e4c997c_Default');\n",
       "\t\t\t\t\ttext.val(label);\n",
       "\t\t\t\t\tadjustFontSize(text);\n",
       "                    anim60298c9eef3d4c5b9d7a4f0e1e4c997c.set_frame(dim_val, 0);\n",
       "                    if (Object.keys(next_vals).length > 0) {\n",
       "                        var new_vals = next_vals[dim_val];\n",
       "                        var next_widget = $('#_anim_widget60298c9eef3d4c5b9d7a4f0e1e4c997c_');\n",
       "                        update_widget(next_widget, new_vals);\n",
       "                    }\n",
       "                }\n",
       "            });\n",
       "            slider.keypress(function(event) {\n",
       "                if (event.which == 80 || event.which == 112) {\n",
       "                    var start = slider.slider(\"option\", \"value\");\n",
       "                    var stop =  slider.slider(\"option\", \"max\");\n",
       "                    for (var i=start; i<=stop; i++) {\n",
       "                        var delay = i*50;\n",
       "                        $.proxy(function doSetTimeout(i) { setTimeout($.proxy(function() {\n",
       "                            var val = {value:i};\n",
       "                            slider.slider('value',i);\n",
       "                            slider.slider(\"option\", \"slide\")(null, val);\n",
       "                        }, slider), delay);}, slider)(i);\n",
       "                    }\n",
       "                }\n",
       "                if (event.which == 82 || event.which == 114) {\n",
       "                    var start = slider.slider(\"option\", \"value\");\n",
       "                    var stop =  slider.slider(\"option\", \"min\");\n",
       "                    var count = 0;\n",
       "                    for (var i=start; i>=stop; i--) {\n",
       "                        var delay = count*50;\n",
       "                        count = count + 1;\n",
       "                        $.proxy(function doSetTimeout(i) { setTimeout($.proxy(function() {\n",
       "                            var val = {value:i};\n",
       "                            slider.slider('value',i);\n",
       "                            slider.slider(\"option\", \"slide\")(null, val);\n",
       "                        }, slider), delay);}, slider)(i);\n",
       "                    }\n",
       "                }\n",
       "            });\n",
       "\t\t\tvar textInput = $('#textInput60298c9eef3d4c5b9d7a4f0e1e4c997c_Default')\n",
       "\t\t\ttextInput.val(labels[0]);\n",
       "\t\t\tadjustFontSize(textInput);\n",
       "        });\n",
       "\t\t}\n",
       "        $(document).ready(init_slider)\n",
       "        // Slider JS Block END\n",
       "        </script>\n",
       "        \n",
       "        \n",
       "        </form>\n",
       "    </div>\n",
       "</div>\n",
       "\n",
       "\n",
       "<script language=\"javascript\">\n",
       "/* Instantiate the MPLSelectionWidget class. */\n",
       "/* The IDs given should match those used in the template above. */\n",
       "(function() {\n",
       "\tif (jQuery.ui !== undefined) {\n",
       "\t\t$(\"#display_area60298c9eef3d4c5b9d7a4f0e1e4c997c\").resizable({\n",
       "\t\t\tresize: function(event, ui) {\n",
       "\t\t\t\t$(\"#widget_area60298c9eef3d4c5b9d7a4f0e1e4c997c\").width($(this).parent().width()-ui.size.width);\n",
       "\t\t\t}\n",
       "\t\t});\n",
       "\t\t$(\"#widget_area60298c9eef3d4c5b9d7a4f0e1e4c997c\").resizable();\n",
       "\t}\n",
       "    var widget_ids = new Array(1);\n",
       "    \n",
       "    widget_ids[0] = \"_anim_widget60298c9eef3d4c5b9d7a4f0e1e4c997c_Default\";\n",
       "    \n",
       "    var frame_data = {\"0\": \"<img src='data:image/png;base64,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' style='max-width:100%; margin: auto; display: block; '/>\", \"1\": \"<img src='data:image/png;base64,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' style='max-width:100%; margin: auto; display: block; '/>\", \"2\": \"<img src='data:image/png;base64,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' style='max-width:100%; margin: auto; display: block; '/>\"};\n",
       "    var dim_vals = ['0.0'];\n",
       "    var keyMap = {\"('0.0',)\": 0, \"('1.0',)\": 1, \"('2.0',)\": 2};\n",
       "    var notFound = \"<h2 style='vertical-align: middle>No frame at selected dimension value.<h2>\";\n",
       "    function create_widget() {\n",
       "        setTimeout(function() {\n",
       "            anim60298c9eef3d4c5b9d7a4f0e1e4c997c = new MPLSelectionWidget(frame_data, \"60298c9eef3d4c5b9d7a4f0e1e4c997c\", widget_ids,\n",
       "\t\t\t\tkeyMap, dim_vals, notFound, false, \"default\",\n",
       "\t\t\t\ttrue, \"./json_figures/\", false);\n",
       "        }, 0);\n",
       "    }\n",
       "    \n",
       "    create_widget();\n",
       "    \n",
       "})();\n",
       "</script>\n",
       "  </body>\n",
       "</html>\n"
      ]
     },
     "metadata": {},
     "output_type": "display_data"
    }
   ],
   "source": [
    "display_html(renderer.static_html(holomap), raw=True)"
   ]
  },
  {
   "cell_type": "markdown",
   "metadata": {},
   "source": [
    "This covers the basics of working with HoloViews renderers. This API is consistent across plotting backends, whether matplotlib, bokeh or plotly.\n",
    "\n",
    "# Plots\n",
    "\n",
    "Above we saw how the Renderer looks up the appropriate plotting class but so far we haven't seen how the plotting actually works. Since HoloViews already nests the data into semantically meaningful components, which define the rough layout of the plots on the page, the plotting classes follow roughly the same hierarchy. To review this hierarchy have a look at the [nesting diagram](./05-Building_Composite_Objects.ipynb#Nesting-hierarchy-) in the Building Composite objects guide.\n",
    "\n",
    "The Layout and GridSpace plotting classes set up the figure and axes appropriately and then instantiate the subplots for all the objects that are contained within. For this purpose we will create a relatively complex object, a ``Layout`` of ``HoloMap``s containing ``Overlay``s containing ``Elements``. We'll instantiate the matching plotting hierarchy and then inspect it."
   ]
  },
  {
   "cell_type": "code",
   "execution_count": 17,
   "metadata": {},
   "outputs": [],
   "source": [
    "hmap1 = hv.HoloMap({i: hv.Image(np.random.rand(10, 10)) * hv.Ellipse(0, 0, 0.2*i) for i in range(5)})\n",
    "element = hv.Curve((range(10), np.random.rand(10)))\n",
    "layout = hmap1 + element"
   ]
  },
  {
   "cell_type": "markdown",
   "metadata": {},
   "source": [
    "We can see the hierarchy in the object's repr:"
   ]
  },
  {
   "cell_type": "code",
   "execution_count": 18,
   "metadata": {},
   "outputs": [
    {
     "name": "stdout",
     "output_type": "stream",
     "text": [
      ":Layout\n",
      "   .HoloMap.I :HoloMap   [Default]\n",
      "      :Overlay\n",
      "         .Image.I   :Image   [x,y]   (z)\n",
      "         .Ellipse.I :Ellipse   [x,y]\n",
      "   .Curve.I   :Curve   [x]   (y)\n"
     ]
    }
   ],
   "source": [
    "print( repr(layout) )"
   ]
  },
  {
   "cell_type": "markdown",
   "metadata": {},
   "source": [
    "Now that we've created the object we can again use the ``MPLRenderer`` to instantiate the plot:"
   ]
  },
  {
   "cell_type": "code",
   "execution_count": 19,
   "metadata": {},
   "outputs": [
    {
     "data": {
      "text/plain": [
       "LayoutPlot(absolute_scaling=False, aspect_weight=0, fig_alpha=1.0, fig_bounds=(0.05, 0.05, 0.95, 0.95), fig_inches=4.0, fig_latex=False, fig_rcparams={}, fig_size=100.0, final_hooks=[], finalize_hooks=[], fontsize={'title': 16}, hspace=0.5, initial_hooks=[], name='LayoutPlot01297', normalize=True, projection=None, show_frame=False, show_title=True, sublabel_format='{Alpha}', sublabel_position=(-0.35, 0.85), sublabel_size=18, tight=False, tight_padding=3, title_format='{label} {group}\\n{dimensions}', transpose=False, vspace=0.3)"
      ]
     },
     "execution_count": 19,
     "metadata": {},
     "output_type": "execute_result"
    }
   ],
   "source": [
    "layout_plot = renderer.get_plot(layout)\n",
    "layout_plot"
   ]
  },
  {
   "cell_type": "markdown",
   "metadata": {},
   "source": [
    "During instantiation the LayoutPlot expanded each object and created subplots. We can access them via a row, column based index and thereby view the first plot."
   ]
  },
  {
   "cell_type": "code",
   "execution_count": 20,
   "metadata": {},
   "outputs": [
    {
     "data": {
      "text/plain": [
       "AdjointLayoutPlot(fig_alpha=1.0, fig_bounds=(0.15, 0.15, 0.85, 0.85), fig_inches=4.0, fig_latex=False, fig_rcparams={}, fig_size=100.0, final_hooks=[], finalize_hooks=[], fontsize=None, initial_hooks=[], name='AdjointLayoutPlot01537', normalize=True, projection=None, show_frame=False, show_title=True, sublabel_format=None, sublabel_position=(-0.35, 0.85), sublabel_size=18, title_format='{label} {group}\\n{dimensions}')"
      ]
     },
     "execution_count": 20,
     "metadata": {},
     "output_type": "execute_result"
    }
   ],
   "source": [
    "adjoint_plot = layout_plot.subplots[0, 0]\n",
    "adjoint_plot"
   ]
  },
  {
   "cell_type": "markdown",
   "metadata": {},
   "source": [
    "This plotting layer handles plots adjoined to the plot. They are indexed by their position in the AdjointLayout which may include 'top', 'right' and 'main':"
   ]
  },
  {
   "cell_type": "code",
   "execution_count": 21,
   "metadata": {},
   "outputs": [
    {
     "data": {
      "text/plain": [
       "OverlayPlot(apply_extents=True, apply_ranges=True, apply_ticks=True, aspect='square', batched=False, bgcolor=None, fig_alpha=1.0, fig_bounds=(0.15, 0.15, 0.85, 0.85), fig_inches=4.0, fig_latex=False, fig_rcparams={}, fig_size=100.0, final_hooks=[], finalize_hooks=[], fontsize=None, initial_hooks=[], invert_axes=False, invert_xaxis=False, invert_yaxis=False, invert_zaxis=False, labelled=['x', 'y'], legend_cols=None, legend_limit=25, legend_position='inner', logx=False, logy=False, logz=False, name='OverlayPlot01480', normalize=True, projection=None, show_frame=False, show_grid=False, show_legend=True, show_title=True, style_grouping=2, sublabel_format='{Alpha}', sublabel_position=(-0.35, 0.85), sublabel_size=18, title_format='{label} {group}\\n{dimensions}', xaxis='bottom', xrotation=0, xticks=None, yaxis='left', yrotation=0, yticks=None, zaxis=True, zrotation=0, zticks=None)"
      ]
     },
     "execution_count": 21,
     "metadata": {},
     "output_type": "execute_result"
    }
   ],
   "source": [
    "overlay_plot = adjoint_plot.subplots['main']\n",
    "overlay_plot"
   ]
  },
  {
   "cell_type": "markdown",
   "metadata": {},
   "source": [
    "Now we've drilled all the way down to the OverlayPlot level, we see as expected that this contains two further subplots, one for the ``Image`` and one for ``Text`` Element. "
   ]
  },
  {
   "cell_type": "code",
   "execution_count": 22,
   "metadata": {},
   "outputs": [
    {
     "data": {
      "text/plain": [
       "odict_keys([('Image', 'I'), ('Ellipse', 'I')])"
      ]
     },
     "execution_count": 22,
     "metadata": {},
     "output_type": "execute_result"
    }
   ],
   "source": [
    "overlay_plot.subplots.keys()"
   ]
  },
  {
   "cell_type": "markdown",
   "metadata": {},
   "source": [
    "Now you might have noticed that the HoloMap seems to have disappeared from the hierarchy. This is because updating a particular plot is handled by the ``ElementPlots`` itself. With that knowledge we can now have a look at the actual plotting API.\n",
    "\n",
    "### Traversing plots"
   ]
  },
  {
   "cell_type": "markdown",
   "metadata": {},
   "source": [
    "When working with such deeply nested plots accessing leafs can be a lot of effort, therefore the plots also provide a ``traverse`` method letting you specify the types of plots you want to access:"
   ]
  },
  {
   "cell_type": "code",
   "execution_count": 23,
   "metadata": {},
   "outputs": [
    {
     "data": {
      "text/plain": [
       "[CurvePlot(apply_extents=True, apply_ranges=True, apply_ticks=True, aspect='square', autotick=False, bgcolor=None, fig_alpha=1.0, fig_bounds=(0.15, 0.15, 0.85, 0.85), fig_inches=4.0, fig_latex=False, fig_rcparams={}, fig_size=100.0, final_hooks=[], finalize_hooks=[], fontsize=None, initial_hooks=[], interpolation='linear', invert_axes=False, invert_xaxis=False, invert_yaxis=False, invert_zaxis=False, labelled=['x', 'y'], logx=False, logy=False, logz=False, name='CurvePlot01561', normalize=True, projection=None, relative_labels=False, show_frame=False, show_grid=False, show_legend=True, show_title=True, sublabel_format='{Alpha}', sublabel_position=(-0.35, 0.85), sublabel_size=18, title_format='{label} {group}\\n{dimensions}', xaxis='bottom', xrotation=0, xticks=None, yaxis='left', yrotation=0, yticks=None, zaxis=True, zrotation=0, zticks=None)]"
      ]
     },
     "execution_count": 23,
     "metadata": {},
     "output_type": "execute_result"
    }
   ],
   "source": [
    "layout_plot.traverse(specs=[hv.plotting.mpl.CurvePlot])"
   ]
  },
  {
   "cell_type": "markdown",
   "metadata": {},
   "source": [
    "# Plotting API\n",
    "\n",
    "There a few methods shared by all plotting classes, which allow the renderer to easily create, update and render a plot. The three most important methods and attributes are:\n",
    "\n",
    "* ``Plot.__init__`` - The constructor already handles a lot of the processing in a plot, it sets up all the subplots if there are any, computes ranges across the object to normalize the display, sets the options that were specified and instantiates the figure, axes, model graphs, or canvas objects dependening on the backend.\n",
    "* ``Plot.initialize_plot`` - This method draws the initial frame to the appopriate figure, axis or canvas, setting up the various artists (matplotlib) or glyphs (bokeh).\n",
    "* ``Plot.update`` - This method updates an already instantiated plot with the data corresponding to the supplied key. This key should match the key in the HoloMap.\n",
    "\n",
    "### Initializing\n",
    "\n",
    "The Renderer and the widgets use these three methods to instantiate and update a plot to render both static frames and animations or widgets as defined by the ``HoloMap`` or ``DynamicMap``. Above we already instantiated a plot, now we initialize it, thereby drawing the first (or rather last frame)."
   ]
  },
  {
   "cell_type": "code",
   "execution_count": 24,
   "metadata": {},
   "outputs": [
    {
     "data": {
      "image/png": "[encoded data removed]",
      "text/plain": [
       "<Figure size 576x265.724 with 2 Axes>"
      ]
     },
     "execution_count": 24,
     "metadata": {},
     "output_type": "execute_result"
    }
   ],
   "source": [
    "fig = layout_plot.initialize_plot()\n",
    "fig"
   ]
  },
  {
   "cell_type": "markdown",
   "metadata": {},
   "source": [
    "### Updating\n",
    "\n",
    "We can see ``initialize_plot`` has rendered the last frame with the key ``4``. We can update the figure with another key simply by calling the ``Plot.update`` method with the corresponding key."
   ]
  },
  {
   "cell_type": "code",
   "execution_count": 25,
   "metadata": {},
   "outputs": [
    {
     "data": {
      "image/png": "[encoded data removed]",
      "text/plain": [
       "<Figure size 576x265.724 with 2 Axes>"
      ]
     },
     "execution_count": 25,
     "metadata": {},
     "output_type": "execute_result"
    }
   ],
   "source": [
    "layout_plot.update(0)"
   ]
  },
  {
   "cell_type": "code",
   "execution_count": 26,
   "metadata": {},
   "outputs": [
    {
     "data": {
      "text/plain": [
       "RasterPlot(apply_extents=True, apply_ranges=True, apply_ticks=True, aspect='equal', bgcolor=None, cbar_padding=0.01, cbar_ticks=None, cbar_width=0.05, clipping_colors={}, colorbar=False, fig_alpha=1.0, fig_bounds=(0.15, 0.15, 0.85, 0.85), fig_inches=4.0, fig_latex=False, fig_rcparams={}, fig_size=100.0, final_hooks=[], finalize_hooks=[], fontsize=None, initial_hooks=[], invert_axes=False, invert_xaxis=False, invert_yaxis=False, invert_zaxis=False, labelled=['x', 'y'], logx=False, logy=False, logz=False, name='RasterPlot01632', normalize=True, projection=None, show_frame=True, show_grid=False, show_legend=False, show_title=True, situate_axes=False, sublabel_format=None, sublabel_position=(-0.35, 0.85), sublabel_size=18, symmetric=False, title_format='{label} {group}\\n{dimensions}', xaxis='bottom', xrotation=0, xticks=None, yaxis='left', yrotation=0, yticks=None, zaxis=True, zrotation=0, zticks=None)"
      ]
     },
     "execution_count": 26,
     "metadata": {},
     "output_type": "execute_result"
    }
   ],
   "source": [
    "plot = hv.plotting.mpl.RasterPlot(holomap)\n",
    "plot"
   ]
  },
  {
   "cell_type": "markdown",
   "metadata": {},
   "source": [
    "Internally each level of the plotting hierarchy updates all the objects below it, all the way down to the ElementPlots, which handle updating the plotting data."
   ]
  },
  {
   "cell_type": "markdown",
   "metadata": {},
   "source": [
    "### Dynamic plot updates"
   ]
  },
  {
   "cell_type": "markdown",
   "metadata": {},
   "source": [
    "Since DynamicMaps may be updated based on stream events they don't work via quite the same API. Each stream automatically captures the plots it is attached to and whenever it receives an event it will update the plot."
   ]
  },
  {
   "cell_type": "code",
   "execution_count": 27,
   "metadata": {},
   "outputs": [
    {
     "data": {
      "image/png": "[encoded data removed]",
      "text/plain": [
       "<Figure size 288x288 with 1 Axes>"
      ]
     },
     "execution_count": 27,
     "metadata": {},
     "output_type": "execute_result"
    }
   ],
   "source": [
    "dmap = hv.DynamicMap(lambda x: hv.Points(np.arange(x)), kdims=[], streams=[hv.streams.PointerX(x=10)])\n",
    "plot = renderer.get_plot(dmap)\n",
    "plot.initialize_plot()"
   ]
  },
  {
   "cell_type": "markdown",
   "metadata": {},
   "source": [
    "Internally the update to the stream value will automatically trigger the plot to update, here we will disable this by setting ``trigger=False`` and explicitly calling ``refresh`` on the plot:"
   ]
  },
  {
   "cell_type": "code",
   "execution_count": 28,
   "metadata": {},
   "outputs": [
    {
     "data": {
      "image/png": "[encoded data removed]",
      "text/plain": [
       "<Figure size 480x480 with 1 Axes>"
      ]
     },
     "execution_count": 28,
     "metadata": {},
     "output_type": "execute_result"
    }
   ],
   "source": [
    "dmap.event(x=20,)\n",
    "plot.refresh()\n",
    "plot.state"
   ]
  },
  {
   "cell_type": "markdown",
   "metadata": {},
   "source": [
    "### Plotting handles"
   ]
  },
  {
   "cell_type": "markdown",
   "metadata": {},
   "source": [
    "In addition to accessing the overall state of the plot each plotting class usually keeps direct handles for important plotting elements on the ``handles`` attribute:"
   ]
  },
  {
   "cell_type": "code",
   "execution_count": 29,
   "metadata": {},
   "outputs": [
    {
     "data": {
      "text/plain": [
       "{'artist': <matplotlib.collections.PathCollection at 0x217f1a96da0>,\n",
       " 'axis': <matplotlib.axes._subplots.AxesSubplot at 0x217f1a69b38>,\n",
       " 'bbox_extra_artists': [],\n",
       " 'fig': <Figure size 480x480 with 1 Axes>,\n",
       " 'title': Text(0.5,1,'')}"
      ]
     },
     "execution_count": 29,
     "metadata": {},
     "output_type": "execute_result"
    }
   ],
   "source": [
    "plot.handles"
   ]
  },
  {
   "cell_type": "markdown",
   "metadata": {},
   "source": [
    "Here we can see how the ``PointPlot`` keeps track of the artist, which is a matplotlib ``PathCollection``, the axis, the figure and the plot title. In addition all matplotlib plots also keep track of a list of any additional plotting elements which should be considered in the bounding box calculation."
   ]
  },
  {
   "cell_type": "markdown",
   "metadata": {},
   "source": [
    "This is only the top-level API, which is used by the Renderer to render the plot, animation or widget. Each backend has internal APIs to create and update the various plot components."
   ]
  },
  {
   "cell_type": "markdown",
   "metadata": {},
   "source": [
    "### Using the matplotlib renderer outside of a Jupyter notebook"
   ]
  },
  {
   "cell_type": "markdown",
   "metadata": {},
   "source": [
    "The matplotlib renderer can be used outside of a notebook by using the `show` method. If running in a python script, this will cause the usual matplotlib window to appear. This is done as follows:\n",
    "\n",
    "    mr = hv.renderer('matplotlib')\n",
    "    mr.show(curve)"
   ]
  }
 ],
 "metadata": {
  "kernelspec": {
   "display_name": "Python [conda env:pyviz-tutor]",
   "language": "python",
   "name": "conda-env-pyviz-tutor-py"
  },
  "language_info": {
   "codemirror_mode": {
    "name": "ipython",
    "version": 3
   },
   "file_extension": ".py",
   "mimetype": "text/x-python",
   "name": "python",
   "nbconvert_exporter": "python",
   "pygments_lexer": "ipython3",
   "version": "3.6.5"
  }
 },
 "nbformat": 4,
 "nbformat_minor": 1
}
