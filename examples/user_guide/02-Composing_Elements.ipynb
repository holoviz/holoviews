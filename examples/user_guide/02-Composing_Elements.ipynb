{
 "cells": [
  {
   "cell_type": "markdown",
   "metadata": {},
   "source": [
    "# Composing Elements\n"
   ]
  },
  {
   "cell_type": "code",
   "execution_count": null,
   "metadata": {},
   "outputs": [],
   "source": [
    "import numpy as np\n",
    "import holoviews as hv\n",
    "\n",
    "hv.extension('bokeh')"
   ]
  },
  {
   "cell_type": "markdown",
   "metadata": {},
   "source": [
    "## Composing collections of data\n",
    "\n",
    "* Composition is about putting heterogeneous data into a collection with both a visual representation and a way to group and access your data."
   ]
  },
  {
   "cell_type": "markdown",
   "metadata": {},
   "source": [
    "### Composition operators (+ and *)\n",
    "\n",
    "* Introduce * and + (maybe <<) as ways of quickly composing Elements into Overlays and Layouts"
   ]
  },
  {
   "cell_type": "markdown",
   "metadata": {},
   "source": [
    "### Accessing and naming your data\n",
    "\n",
    "* Accessing data on collections and giving them names by defining group, label\n"
   ]
  },
  {
   "cell_type": "markdown",
   "metadata": {},
   "source": [
    "### Working with Overlays\n",
    "\n",
    "* Overview of Overlay API: creating from list, using .get to get layer\n"
   ]
  },
  {
   "cell_type": "markdown",
   "metadata": {},
   "source": [
    "\n",
    "### Working with Layouts\n",
    "\n",
    "* Overview of Layout API: construct from list, introduce .cols\n"
   ]
  }
 ],
 "metadata": {
  "language_info": {
   "name": "python",
   "pygments_lexer": "ipython3"
  }
 },
 "nbformat": 4,
 "nbformat_minor": 2
}
