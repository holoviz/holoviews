{
 "cells": [
  {
   "cell_type": "markdown",
   "metadata": {},
   "source": [
    "# Dimensioned Containers"
   ]
  },
  {
   "cell_type": "markdown",
   "metadata": {},
   "source": [
    "### Exploring parameter spaces\n",
    "\n",
    "* Discuss exploring multi-dimensional parameter spaces and faceting of data"
   ]
  },
  {
   "cell_type": "markdown",
   "metadata": {},
   "source": [
    "### Declaring n-dimensional collections\n",
    "\n",
    "* HoloMaps: Introduce HoloMap as general nd-dimensional space (also mention DynamicMap)\n",
    "* Explain keys and key dimensions and using select and indexing\n",
    "* Explain semantics of the widgets and point forward to streams+custom widgets"
   ]
  },
  {
   "cell_type": "markdown",
   "metadata": {},
   "source": [
    "\n",
    "### Visual grouping\n",
    "\n",
    "* Introduce NdOverlay, NdLayout, GridSpace by casting between the containers\n",
    "* Example faceting using 2D HoloMap\n"
   ]
  },
  {
   "cell_type": "markdown",
   "metadata": {},
   "source": [
    "### Grouping and faceting\n",
    "\n",
    "* Explain ``.overlay``, ``.layout``, ``.grid`` on HoloMap to facet multi-dimensional space\n",
    "* Example using 4D HoloMap"
   ]
  },
  {
   "cell_type": "markdown",
   "metadata": {},
   "source": [
    "### Grouping and faceting\n",
    "\n",
    "* Explain ``.overlay``, ``.layout``, ``.grid`` on HoloMap to facet multi-dimensional space\n",
    "* Example using 4D HoloMap"
   ]
  }
 ],
 "metadata": {
  "kernelspec": {
   "display_name": "Python [conda env:science]",
   "language": "python",
   "name": "conda-env-science-py"
  },
  "language_info": {
   "codemirror_mode": {
    "name": "ipython",
    "version": 2
   },
   "file_extension": ".py",
   "mimetype": "text/x-python",
   "name": "python",
   "nbconvert_exporter": "python",
   "pygments_lexer": "ipython2",
   "version": "2.7.11"
  }
 },
 "nbformat": 4,
 "nbformat_minor": 2
}
