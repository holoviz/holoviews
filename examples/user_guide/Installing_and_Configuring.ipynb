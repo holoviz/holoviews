{
 "cells": [
  {
   "cell_type": "markdown",
   "metadata": {},
   "source": [
    "# Configuring HoloViews\n",
    "\n",
    "HoloViews offers several types of configuration."
   ]
  },
  {
   "cell_type": "markdown",
   "metadata": {},
   "source": [
    "## ``hv.config`` settings\n",
    "\n",
    "HoloViews has a top-level ``hv.config`` object with flags to control various backwards-compatibility options:\n",
    "\n",
    "* ``style_17`` : Enables the styling used before HoloViews 1.7\n",
    "* ``warn_options_call``: Warn when using the to-be-deprecated ``__call__`` syntax for specifying options, instead of the recommended ``.opts`` method.\n",
    "\n",
    "It is recommended you set ``warn_options_call`` to ``True`` in your holoviews.rc (see section below).\n",
    "\n",
    "To set the configuration, you can use:"
   ]
  },
  {
   "cell_type": "code",
   "execution_count": null,
   "metadata": {},
   "outputs": [],
   "source": [
    "hv.config(style_17=True)"
   ]
  },
  {
   "cell_type": "markdown",
   "metadata": {},
   "source": [
    "Although this should be done as early as possible as some configuration options must be set before the corresponding plotting extensions are imported. For this reason, the following way of setting configuration options is recommended:"
   ]
  },
  {
   "cell_type": "code",
   "execution_count": null,
   "metadata": {},
   "outputs": [],
   "source": [
    "import holoviews as hv\n",
    "hv.extension(config=dict(style_17=True))"
   ]
  },
  {
   "cell_type": "markdown",
   "metadata": {},
   "source": [
    "## Jupyter notebook configuration\n",
    "\n",
    "In jupyter_notebook_config.py:\n",
    "\n",
    "\n",
    "```\n",
    "c = get_config()\n",
    "c.NotebookApp.iopub_data_rate_limit=100000000\n",
    "```"
   ]
  },
  {
   "cell_type": "markdown",
   "metadata": {},
   "source": [
    "## Improved tab-completion\n",
    "\n",
    "Both ``Layout`` and ``Overlay`` are designed around convenient tab-completion, with the expectation of upper-case names being listed first. In recent versions of IPython there has been a regression whereby the tab-completion is no longer case-sensitive. This can be fixed with:"
   ]
  },
  {
   "cell_type": "code",
   "execution_count": null,
   "metadata": {},
   "outputs": [],
   "source": [
    "import holoviews as hv\n",
    "hv.extension(case_sensitive_completion=True)"
   ]
  },
  {
   "cell_type": "markdown",
   "metadata": {},
   "source": [
    "## The holoviews.rc file\n",
    "\n",
    "HoloViews supports an rc file that is searched for in the following places: ``\"~/.holoviews.rc\"``, ``\"~/.config/holoviews/holoviews.rc\"`` and the in parent directory of the top-level ``__init__.py`` file (useful for developers working out of the HoloViews git repo). A different location to find the rc file can be specified via the ``HOLOVIEWSRC`` environment variable.\n",
    "\n",
    "This rc file is executed right after HoloViews, imports. For instance you can use an rc file with:\n",
    "\n",
    "```\n",
    "import holoviews as hv\n",
    "hv.config(warn_options_call=True)\n",
    "hv.extension.case_sensitive_completion=True\n",
    "```\n",
    "\n",
    "So that the case-sensitive tab-completion described in the previous section is enabled by default."
   ]
  }
 ],
 "metadata": {
  "language_info": {
   "name": "python",
   "pygments_lexer": "ipython3"
  }
 },
 "nbformat": 4,
 "nbformat_minor": 2
}
