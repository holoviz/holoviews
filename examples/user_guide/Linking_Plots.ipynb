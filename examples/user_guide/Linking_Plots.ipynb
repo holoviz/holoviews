{
 "cells": [
  {
   "cell_type": "code",
   "execution_count": null,
   "metadata": {},
   "outputs": [],
   "source": [
    "import numpy as np\n",
    "import holoviews as hv\n",
    "hv.extension('bokeh')"
   ]
  },
  {
   "cell_type": "markdown",
   "metadata": {},
   "source": [
    "When working with the bokeh backend in HoloViews complex interactivity can be achieved using very little code, whether that is shared axes, which zoom and pan together or shared datasources, which allow for linked cross-filtering. Separately it is possible to create custom interactions by attaching LinkedStreams to a plot and thereby triggering events on interactions with the plot. The Streams based interactivity affords a lot of flexibility to declare custom interactivity on a plot, however it always requires a live Python kernel to be connected either via the notebook or bokeh server. The ``Link`` classes described in this user guide however allow declaring interactions which do not require a live server, opening up the possibility of declaring complex interactions in a plot.\n",
    "\n",
    "## What is a Link?\n",
    "\n",
    "A Link defines some connection between a source and target object in their visualization. It is quite similar to a Stream as it allows defining callbacks in response to some change or event on the source object, however, unlike a Stream, it does not transfer data and make it available to user defined subscribers. Instead a Link directly causes some action to occur on the target, for JS based backends this usually means that a corresponding JS callback will effect some change on the target in response to a change on the source.\n",
    "\n",
    "One of the simplest examples of a Link is the DataLink which links the data from two sources as long as they match in length, e.g. below we create two elements with data of the same length. By declaring a ``DataLink`` between the two we can ensure they are linked and can be selected together:"
   ]
  },
  {
   "cell_type": "code",
   "execution_count": null,
   "metadata": {},
   "outputs": [],
   "source": [
    "from holoviews.plotting.links import DataLink\n",
    "\n",
    "scatter1 = hv.Scatter(np.arange(100))\n",
    "scatter2 = hv.Scatter(np.arange(100)[::-1], 'x2', 'y2')\n",
    "\n",
    "DataLink(scatter1, scatter2)\n",
    "\n",
    "(scatter1 + scatter2).options('Scatter', tools=['box_select'], clone=False)"
   ]
  },
  {
   "cell_type": "markdown",
   "metadata": {},
   "source": [
    "## Writing a Link\n",
    "\n"
   ]
  },
  {
   "cell_type": "markdown",
   "metadata": {},
   "source": [
    "A ``Link`` consists of two components the ``Link`` itself and a ``LinkCallback`` which provides the actual implementation behind the ``Link``. In order to demonstrate writing a ``Link`` we'll start with a fairly straightforward example, linking an ``HLine`` to the mean y-value of a selection on a ``Scatter`` element. To express this we declare a ``MeanHLineLink`` class subclassing from the ``Link`` baseclass and declare ``ClassSelector`` parameters with the appropriate types to perform some basic validation."
   ]
  },
  {
   "cell_type": "code",
   "execution_count": null,
   "metadata": {},
   "outputs": [],
   "source": [
    "import param\n",
    "from holoviews.plotting.links import Link\n",
    "\n",
    "class MeanHLineLink(Link):\n",
    "    \n",
    "    source = param.ClassSelector(class_=hv.Scatter)\n",
    "    target = param.ClassSelector(class_=hv.HLine)"
   ]
  },
  {
   "cell_type": "markdown",
   "metadata": {},
   "source": [
    "Now we have the ``Link`` class we need to write the implementation in the form of a ``LinkCallback``. A ``LinkCallback`` should declare the ``source_model`` we want to listen to events on and a ``target_model``, declaring which model should be altered in response. To find out which models we can attach the ``Link`` to we can create a ``Plot`` instance and look at the ``plot.handles``, e.g. here we create a ``ScatterPlot`` and can see it has a 'source', which represents the ``ColumnDataSource``."
   ]
  },
  {
   "cell_type": "code",
   "execution_count": null,
   "metadata": {},
   "outputs": [],
   "source": [
    "renderer = hv.renderer('bokeh')\n",
    "\n",
    "plot = renderer.get_plot(hv.Scatter([]))\n",
    "\n",
    "plot.handles.keys()"
   ]
  },
  {
   "cell_type": "markdown",
   "metadata": {},
   "source": [
    "In this case we are interested in the 'source' handle, but we still have to tell it which events should trigger the callback. Bokeh callbacks can be grouped into two types model property changes and and events. For more detail on these two types of callbacks see the [Bokeh user guide](https://bokeh.pydata.org/en/latest/docs/user_guide/interaction/callbacks.html#userguide-interaction-jscallbacks).\n",
    "\n",
    "In this case we want to respond to changes to the ``ColumnDataSource.selected`` property. We can declare this in the ``on_source_changes`` class atttribute on our callback. So now that we have declared which model we want to listen to events on and which events we want to listen to we have to declare the model on the target we want to change in response. \n",
    "\n",
    "We can once again look at the handles on the plot corresponding to the ``HLine`` element:"
   ]
  },
  {
   "cell_type": "code",
   "execution_count": null,
   "metadata": {},
   "outputs": [],
   "source": [
    "plot = renderer.get_plot(hv.HLine(0))\n",
    "plot.handles.keys()"
   ]
  },
  {
   "cell_type": "markdown",
   "metadata": {},
   "source": [
    "We now want to change the ``glyph``, which defines the position of the ``HLine``, so we declare the ``target_model`` as ``'glyph'``. Having defined both the source and target model and the events we can finally start writing the JS callback that should be triggered. To declare it we simply define the ``source_code`` class attribute. To understand how to write this code we need to understand how the source and target models we have declared can be referenced from within the callback.\n",
    "\n",
    "The ``source_model`` will be made available by prefixing it with ``source_``, while the target model is made available with the prefix ``target_``. This means that the ``ColumnDataSource`` on the ``source`` can be referenced as ``source_source``, while the glyph on the target can be referenced as ``target_glyph``.\n",
    "\n",
    "Once we know how to reference the models we can access their properties to compute the mean y-value of the current selection on the source ``ColumnDataSource`` and set the ``target_glyph.position`` to that value:"
   ]
  },
  {
   "cell_type": "code",
   "execution_count": null,
   "metadata": {},
   "outputs": [],
   "source": [
    "from holoviews.plotting.bokeh.callbacks import LinkCallback\n",
    "\n",
    "class MeanHLineCallback(LinkCallback):\n",
    "\n",
    "    source_model = 'source'\n",
    "    on_source_changes = ['selected']\n",
    "    \n",
    "    target_model = 'glyph'\n",
    "    \n",
    "    source_code = \"\"\"\n",
    "        var inds = source_source.selected.indices;\n",
    "        var d = source_source.data;\n",
    "        var ym = 0\n",
    "        if (inds.length == 0)\n",
    "            return;\n",
    "        for (var i = 0; i < inds.length; i++)\n",
    "            ym += d['y'][inds[i]]\n",
    "        ym /= inds.length\n",
    "        target_glyph.location = ym\n",
    "    \"\"\""
   ]
  },
  {
   "cell_type": "markdown",
   "metadata": {},
   "source": [
    "Finally we need to register the ``MeanHLineCallback`` with the ``MeanHLineLink`` via the ``Link._callbacks`` dictionary:"
   ]
  },
  {
   "cell_type": "code",
   "execution_count": null,
   "metadata": {},
   "outputs": [],
   "source": [
    "Link._callbacks['bokeh'][MeanHLineLink] = MeanHLineCallback"
   ]
  },
  {
   "cell_type": "markdown",
   "metadata": {},
   "source": [
    "Now the newly declared Link is ready to use, we'll create a Scatter element along with an HLine element and link the two:"
   ]
  },
  {
   "cell_type": "code",
   "execution_count": null,
   "metadata": {},
   "outputs": [],
   "source": [
    "options = dict(selection_fill_color='firebrick', alpha=0.4, line_color='black', size=8, tools=['box_select'], width=500, height=500)\n",
    "scatter = hv.Scatter(np.random.randn(500, 2)).options(**options)\n",
    "hline = hv.HLine(scatter['y'].mean()).options(color='black')\n",
    "\n",
    "MeanHLineLink(scatter, hline)\n",
    "\n",
    "scatter * hline"
   ]
  },
  {
   "cell_type": "markdown",
   "metadata": {},
   "source": [
    "Using the box_select tool will now update the position of the HLine."
   ]
  }
 ],
 "metadata": {
  "kernelspec": {
   "display_name": "Python 3",
   "language": "python",
   "name": "python3"
  },
  "language_info": {
   "codemirror_mode": {
    "name": "ipython",
    "version": 3
   },
   "file_extension": ".py",
   "mimetype": "text/x-python",
   "name": "python",
   "nbconvert_exporter": "python",
   "pygments_lexer": "ipython3",
   "version": "3.6.4"
  }
 },
 "nbformat": 4,
 "nbformat_minor": 2
}
