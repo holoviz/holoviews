{
 "cells": [
  {
   "cell_type": "markdown",
   "metadata": {},
   "source": [
    "# Annotating your Data\n",
    "\n",
    "One of the key features that HoloViews lets you express about your data is its dimensionality. The ``Elements`` allow you to annotate your with metadata expressing its visual and conceptual representation and expressing its dimensionality."
   ]
  },
  {
   "cell_type": "code",
   "execution_count": null,
   "metadata": {
    "collapsed": true
   },
   "outputs": [],
   "source": [
    "import holoviews as hv\n",
    "import holoviews.util\n",
    "hv.notebook_extension('bokeh')"
   ]
  },
  {
   "cell_type": "markdown",
   "metadata": {},
   "source": [
    "## Specifying dimensionality\n",
    "\n",
    "Dimension objects are always present in the ``kdims`` and ``vdims`` of a HoloViews object, whether or not they are declared:"
   ]
  },
  {
   "cell_type": "code",
   "execution_count": null,
   "metadata": {
    "collapsed": true
   },
   "outputs": [],
   "source": [
    "import numpy as np\n",
    "np.random.seed(10)\n",
    "points1 = hv.Points(np.random.rand(500,4))\n",
    "points2 = hv.Points(np.random.rand(500,4), kdims=['atm_pressure','temperature'])\n",
    "points1 + points2"
   ]
  },
  {
   "cell_type": "code",
   "execution_count": null,
   "metadata": {
    "collapsed": true
   },
   "outputs": [],
   "source": [
    "print('Key dimensions of points1: %s' % points1.kdims)\n",
    "print('Key dimensions of points2: %s' % points2.kdims)"
   ]
  },
  {
   "cell_type": "markdown",
   "metadata": {},
   "source": [
    "As you can see, the ``kdims`` always contains ``Dimension`` objects. These may be default dimensions, as in the declaration of ``points1``, or created from a string names, as in the declaration of ``points2``. You can also pass in your own ``Dimension`` objects explicitly:"
   ]
  },
  {
   "cell_type": "code",
   "execution_count": null,
   "metadata": {
    "collapsed": true
   },
   "outputs": [],
   "source": [
    "hv.Points(np.random.rand(500,4), kdims=[hv.Dimension('atm_pressure'), hv.Dimension('temperature')])"
   ]
  },
  {
   "cell_type": "markdown",
   "metadata": {},
   "source": [
    "* Mention mapping from dims to labels, explain that it is used in methods such as select as keywords (can link to getting started introduction).\n"
   ]
  },
  {
   "cell_type": "markdown",
   "metadata": {},
   "source": [
    "### Dimension properties\n",
    "\n",
    "* Description list of what parameters dimensions have. label, unit, range etc.\n"
   ]
  },
  {
   "cell_type": "markdown",
   "metadata": {},
   "source": [
    "### Setting properties with redim\n",
    "\n",
    "* Example of redim to change dimension name.\n",
    "* Example of redim.label and redim.range. Explain the other parameters can be set this way too.\n"
   ]
  },
  {
   "cell_type": "markdown",
   "metadata": {},
   "source": [
    "### Declaring Dimension objects\n",
    "\n",
    "* Can explicitly supply rich dimension objects.\n"
   ]
  },
  {
   "cell_type": "markdown",
   "metadata": {},
   "source": [
    "### Dimension formatters\n",
    "\n",
    "* Show example of formatters.\n"
   ]
  },
  {
   "cell_type": "markdown",
   "metadata": {},
   "source": [
    "## Organizing your elements\n",
    "\n",
    "* Intro paragraph to group/label system.\n",
    "\n",
    "### Element group and label\n",
    "\n",
    "* Declare two elements with group and label.\n",
    "* Use them with + and point forward to next guide (composition).\n",
    "* Use them with * and customize with opts and point forward to composition/customizing plots.\n"
   ]
  }
 ],
 "metadata": {
  "kernelspec": {
   "display_name": "Python [conda env:science]",
   "language": "python",
   "name": "conda-env-science-py"
  },
  "language_info": {
   "codemirror_mode": {
    "name": "ipython",
    "version": 2
   },
   "file_extension": ".py",
   "mimetype": "text/x-python",
   "name": "python",
   "nbconvert_exporter": "python",
   "pygments_lexer": "ipython2",
   "version": "2.7.11"
  }
 },
 "nbformat": 4,
 "nbformat_minor": 2
}
