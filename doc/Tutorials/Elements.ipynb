{
 "metadata": {
  "name": "",
  "signature": "sha256:b3ce4ccc4e952b833588b8fd02cb6f255f71b8540992d5296ac602c6378e07e4"
 },
 "nbformat": 3,
 "nbformat_minor": 0,
 "worksheets": [
  {
   "cells": [
    {
     "cell_type": "markdown",
     "metadata": {},
     "source": [
      "``Element``s are the basic building blocks for any HoloViews visualization. These are the objects that can be composed together using the various [Container](Containers) types. \n",
      "Here in this overview, we show how an example of how to build each of these ``Elements`` directly out of Python or Numpy data structures.  An even more powerful way to use them is by collecting similar ``Element``s into a HoloMap, as described in [Exploring Data](Exploring_Data), so that you can explore, select, slice, and animate them flexibly, but here we focus on having small, self-contained examples.  Complete reference material for each type can be accessed using our [documentation system](Introduction#ParamDoc).\n",
      "\n",
      " \n",
      "\n",
      "## Element types\n",
      "\n",
      "This class hierarchy shows each of the ``Element`` types.\n",
      "Each type is named for the default or expected way that the underlying data can be visualized.  E.g., if your data is wrapped into a ``Surface`` object, it will display as a 3D surface by default, whereas an ``Image`` object will display as a 2D raster image.  But please note that the specification and implementation for each ``Element`` type does not actually include *any* such visualization -- the name merely serves as a semantic indication that you ordinarily think of the data as being laid out in that way.  The actual plotting is done by a separate plotting subsystem, while the objects themselves focus on storing your data and the metadata needed to describe and use it.  \n",
      "\n",
      "This separation of data and visualization is described in detail in the [Options tutorial](Options), which describes all about how to find out the options available for each ``Element`` type and change them if necessary, from either Python or IPython Notebook.  For convenience, in this tutorial we have specified ``%output info=True``, which will pop up a detailed list and explanation of the available options for visualizing each ``Element`` type, after that notebook cell is executed.  So, to find out all the options for any of these ``Element`` types, just press ``<Shift-Enter>`` on the corresponding cell in the live notebook. \n",
      "\n",
      "The types available:\n",
      "\n",
      "<dl class=\"dl-horizontal\">\n",
      "  <dt>[``Element``](#Element)</dt><dd>The base class of all ``Elements``.</dd>\n",
      "</dl>\n",
      "  \n",
      "### <a id='ChartIndex'/> [``Charts:``](#Chart Elements) \n",
      "\n",
      "<dl class=\"dl-horizontal\">\n",
      "  <dt>[``Curve``](#Curve)</dt><dd>A continuous relation between a dependent and an independent variable.</dd>\n",
      "  <dt>[``ErrorBars``](#ErrorBars)</dt><dd>A collection of x-/y-coordinates with associated symmetric or assymetric errors.</dd>\n",
      "  <dt>[``Bars``](#Bars)</dt><dd>Data collected and binned into categories.</dd>\n",
      "  <dt>[``Histogram``](#Histogram)</dt><dd>Data collected and binned in a continuous space using specified bin edges.</dd>\n",
      "  <dt>[``Scatter``](#Scatter)</dt><dd>Discontinuous collection of points indexed over a single dimension.</dd>\n",
      "  <dt>[``Points``](#Points)</dt><dd>Discontinuous collection of points indexed over two dimensions.</dd>\n",
      "  <dt>[``VectorField``](#VectorField)</dt><dd>Cyclic variable (and optional auxillary data) distributed over two-dimensional space.</dd>\n",
      "  <dt>[``SideHistogram``](#SideHistogram)</dt><dd>Histogram binning data contained by some other ``Element``.</dd>\n",
      "  </dl>\n",
      "\n",
      "### <a id='Chart3DIndex'/> [``Chart3D Elements:``](#Chart3D Elements)\n",
      "\n",
      "<dl class=\"dl-horizontal\">\n",
      "  <dt>[``Surface``](#Surface)</dt><dd>Continuous collection of points in a three-dimensional space.</dd>\n",
      "  <dt>[``Scatter3D``](#Scatter3D)</dt><dd>Discontinuous collection of points in a three-dimensional space.</dd>\n",
      "</dl>\n",
      "\n",
      "\n",
      "### <a id='RasterIndex'/>  [``Rasters:``](#Raster Elements)\n",
      "\n",
      "<dl class=\"dl-horizontal\">\n",
      "  <dt>[``Raster``](#Raster)</dt><dd>The base class of all rasters containing two-dimensional arrays (cannot be sliced).</dd>\n",
      "  <dt>[``HeatMap``](#HeatMap)</dt><dd>Raster displaying sparse, discontinuous data collected in a two-dimensional space.</dd>\n",
      "  <dt>[``Image``](#Image)</dt><dd>Raster containing a two-dimensional array covering a continuous space (sliceable).</dd>\n",
      "  <dt>[``RGB``](#RGB)</dt><dd>Raster of 3 (R,G,B) or 4 (R,G,B,Alpha) color channels.</dd>\n",
      "  <dt>[``HSV``](#HSV)</dt><dd>Raster of 3 (Hue, Saturation, Value) or 4 channels.</dd>\n",
      "</dl>\n",
      "\n",
      "\n",
      "### <a id='TabularIndex'/>  [``Tabular Elements:``](#Tabular Elements)\n",
      "\n",
      "\n",
      "<dl class=\"dl-horizontal\">\n",
      "  <dt>[``ItemTable``](#ItemTable)</dt><dd>Ordered collection of key-value pairs (ordered dictionary).</dd>\n",
      "  <dt>[``Table``](#Table)</dt><dd>Collection of arbitrary data with arbitrary key and value dimensions.</dd>\n",
      "  </dl>\n",
      "  \n",
      "### <a id='AnnotationIndex'/>  [``Annotations:``](#Annotation Elements)\n",
      "\n",
      "  \n",
      " <dl class=\"dl-horizontal\">\n",
      "  <dt>[``VLine``](#VLine)</dt><dd>Vertical line annotation.</dd>\n",
      "  <dt>[``HLine``](#HLine)</dt><dd>Horizontal line annotation.</dd>\n",
      "  <dt>[``Spline``](#Spline)</dt><dd>Bezier spline (arbitrary curves).</dd>\n",
      "  <dt>[``Text``](#Text)</dt><dd>Text annotation on an ``Element``.</dd>\n",
      "  <dt>[``Arrow``](#Arrow)</dt><dd>Arrow on an ``Element`` with optional text label.</dd>\n",
      "</dl>\n",
      "\n",
      "\n",
      "### <a id='PathIndex'/>  [``Paths:``](#Path Elements)\n",
      "\n",
      "<dl class=\"dl-horizontal\">\n",
      "  <dt>[``Path``](#Path)</dt><dd>Collection of paths.</dd>\n",
      "  <dt>[``Contours``](#Contours)</dt><dd>Collection of paths, each with an associated value.</dd>\n",
      "  <dt>[``Polygons``](#Polygons)</dt><dd>Collection of filled, closed paths with an associated value.</dd>\n",
      "  <dt>[``Bounds``](#Bounds)</dt><dd>Box specified by corner positions.</dd>\n",
      "  <dt>[``Box``](#Bounds)</dt><dd>Box specified by center position, radius, and aspect ratio.</dd>\n",
      "  <dt>[``Ellipse``](#Ellipse)</dt><dd>Ellipse specified by center position, radius, and aspect ratio.</dd>\n",
      "</dl>\n",
      "\n"
     ]
    },
    {
     "cell_type": "heading",
     "level": 2,
     "metadata": {},
     "source": [
      "``Element`` <a id='Element'/>"
     ]
    },
    {
     "cell_type": "markdown",
     "metadata": {},
     "source": [
      "**The basic or fundamental types of data that can be visualized.**\n",
      "\n",
      "``Element`` is the base class for all the other HoloViews objects shown in this section.\n",
      "\n",
      "All ``Element`` objects accept data as the first argument to define the contents of that element. In addition to its implicit type, each element object has a ``group`` string defining its category, and a ``label`` naming this particular item, as described in the [Introduction](Introduction#value).\n",
      "\n",
      "When rich display is off, or if no visualization has been defined for that type of ``Element``, the ``Element`` is presented in ``{type}.{group}.{label}`` format:"
     ]
    },
    {
     "cell_type": "code",
     "collapsed": false,
     "input": [
      "import holoviews\n",
      "%load_ext holoviews.ipython\n",
      "from holoviews import Element\n",
      "Element(None, group='Value', label='Label')"
     ],
     "language": "python",
     "metadata": {},
     "outputs": []
    },
    {
     "cell_type": "markdown",
     "metadata": {},
     "source": [
      "In addition, ``Element`` has ``key_dimensions``, ``value_dimensions``, and ``constant_dimensions`` to describe the semantics of indexing within the ``Element``, the semantics of the underlying data contained by the ``Element``, and any constant parameters associated with the object, respectively.\n",
      "Dimensions are described in the [Introduction](Introduction).\n",
      "\n",
      "The remaining ``Element`` types each have a rich, graphical display as shown below."
     ]
    },
    {
     "cell_type": "heading",
     "level": 2,
     "metadata": {},
     "source": [
      "``Chart`` Elements <a id='Chart Elements'/>"
     ]
    },
    {
     "cell_type": "markdown",
     "metadata": {},
     "source": [
      "**Visualization of a dependent variable against an independent variable**\n",
      "\n",
      "\n",
      "The first large class of ``Elements`` is the ``Chart`` elements. Except for ``Points``, these objects are indexable and sliceable along the *x*-axis, but not the $y$-axis, because they are intended for data values *y* measured for a given *x* value.  I.e., the data is expected to be laid out on a single key dimension *x*, with the data values ranging over a single value dimension *y*."
     ]
    },
    {
     "cell_type": "heading",
     "level": 3,
     "metadata": {},
     "source": [
      "``Curve`` <a id='Curve'/>"
     ]
    },
    {
     "cell_type": "code",
     "collapsed": false,
     "input": [
      "import numpy as np\n",
      "from holoviews import Curve\n",
      "points = [(0.1*i, np.sin(0.1*i)) for i in range(100)]\n",
      "Curve(points)"
     ],
     "language": "python",
     "metadata": {},
     "outputs": []
    },
    {
     "cell_type": "markdown",
     "metadata": {},
     "source": [
      "A ``Curve`` is a set of values provided for some set of keys from a [continuously indexable 1D coordinate system](Continuous_Coordinates)."
     ]
    },
    {
     "cell_type": "heading",
     "level": 3,
     "metadata": {},
     "source": [
      "``ErrorBars`` <a id='ErrorBars'/>"
     ]
    },
    {
     "cell_type": "code",
     "collapsed": false,
     "input": [
      "import numpy as np\n",
      "from holoviews import ErrorBars\n",
      "np.random.seed(1)\n",
      "points = [(0.1*i, np.sin(0.1*i)) for i in range(100)]\n",
      "errors = [(0.1*i, np.sin(0.1*i), np.random.rand()/2) for i in np.linspace(0, 100, 11)]\n",
      "Curve(points) * ErrorBars(errors)"
     ],
     "language": "python",
     "metadata": {},
     "outputs": []
    },
    {
     "cell_type": "markdown",
     "metadata": {},
     "source": [
      "``ErrorBars`` is a set of x-/y-coordinates with associated error values, which may be either symmetric or assymetric and thus can be supplied as an Nx3 or Nx4 array (or three-/four-tuples)."
     ]
    },
    {
     "cell_type": "code",
     "collapsed": false,
     "input": [
      "%%opts ErrorBars [horizontal=True] (capthick=3)\n",
      "import numpy as np\n",
      "from holoviews import ErrorBars\n",
      "points = [(0.1*i, np.sin(0.1*i)) for i in range(100)]\n",
      "errors = [(0.1*i, np.sin(0.1*i), np.random.rand()/2, np.random.rand()/4) for i in np.linspace(0, 100, 11)]\n",
      "Curve(points) * ErrorBars(errors)"
     ],
     "language": "python",
     "metadata": {},
     "outputs": []
    },
    {
     "cell_type": "heading",
     "level": 3,
     "metadata": {},
     "source": [
      "``Bars`` <a id='Bars'/>"
     ]
    },
    {
     "cell_type": "code",
     "collapsed": false,
     "input": [
      "import numpy as np\n",
      "from holoviews import Dimension, Bars\n",
      "data = [('one',8),('two', 10), ('three', 16), ('four', 8), ('five', 4), ('six', 1)]\n",
      "bars = Bars(data, key_dimensions=[Dimension('Car occupants', values='initial')], value_dimensions=['Count'])\n",
      "bars + bars['one':'four']"
     ],
     "language": "python",
     "metadata": {},
     "outputs": []
    },
    {
     "cell_type": "markdown",
     "metadata": {},
     "source": [
      "``Bars`` is an ``NdElement`` type so by default it is sorted. To inherit the initial ordering specify the ``Dimension`` with values set to 'initial', alternatively you can supply an explicit list of valid dimension keys.\n",
      "\n",
      "``Bars`` support up to three key dimensions which can be laid by 'group', 'category' and 'stack' dimensions, by default these are mapped onto the first second and third ``Dimension`` of the ``Bars`` object but this behavior can be overridden via the ``group_index``, ``category_index`` and ``stack_index`` options. Additionally you may style each bar the way you want by creating style groups for any combination of the three dimensions. Here we color_by 'category' and 'stack'. "
     ]
    },
    {
     "cell_type": "code",
     "collapsed": false,
     "input": [
      "%%opts Bars [color_by=['category', 'stack']]\n",
      "from itertools import product\n",
      "np.random.seed(1)\n",
      "groups, categories, stacks = ['A', 'B'], ['a', 'b'], ['I', 'II']\n",
      "keys = product(groups, categories, stacks)\n",
      "Bars([(k, np.random.rand()*100) for k in keys],\n",
      "     key_dimensions=['Group', 'Category', 'Stack'],\n",
      "     value_dimensions=['Count'])"
     ],
     "language": "python",
     "metadata": {},
     "outputs": []
    },
    {
     "cell_type": "heading",
     "level": 3,
     "metadata": {},
     "source": [
      "``Histogram`` <a id='Histogram'/>"
     ]
    },
    {
     "cell_type": "code",
     "collapsed": false,
     "input": [
      "import numpy as np\n",
      "from holoviews import Histogram\n",
      "np.random.seed(1)\n",
      "data = [np.random.normal() for i in range(10000)]\n",
      "frequencies, edges = np.histogram(data, 20)\n",
      "Histogram(frequencies, edges)"
     ],
     "language": "python",
     "metadata": {},
     "outputs": []
    },
    {
     "cell_type": "heading",
     "level": 3,
     "metadata": {},
     "source": [
      "``Scatter`` <a id='Scatter'/>"
     ]
    },
    {
     "cell_type": "code",
     "collapsed": false,
     "input": [
      "%%opts Scatter (color='k', marker='s', s=50)\n",
      "import numpy as np\n",
      "np.random.seed(42)\n",
      "from holoviews import Scatter\n",
      "points = [(i, np.random.random()) for i in range(20)]\n",
      "Scatter(points) + Scatter(points)[12:20]"
     ],
     "language": "python",
     "metadata": {},
     "outputs": []
    },
    {
     "cell_type": "markdown",
     "metadata": {},
     "source": [
      " The marker shape specified above can be any supported by [matplotlib](http://matplotlib.org/api/markers_api.html), e.g. ``s``, ``d``, or ``o``; the other options select the color and size of the marker."
     ]
    },
    {
     "cell_type": "heading",
     "level": 3,
     "metadata": {},
     "source": [
      "``Points`` <a id='Points'/>"
     ]
    },
    {
     "cell_type": "code",
     "collapsed": false,
     "input": [
      "import numpy as np\n",
      "from holoviews import Points\n",
      "np.random.seed(12)\n",
      "points = np.random.rand(50,2)\n",
      "Points(points) + Points(points)[0.6:0.8,0.2:0.5]"
     ],
     "language": "python",
     "metadata": {},
     "outputs": []
    },
    {
     "cell_type": "markdown",
     "metadata": {},
     "source": [
      "As you can see, ``Points`` is very similar to ``Scatter``, but it is sliceable in both *x* and $y$, not just *x*, and so the right-hand plots are different for these two ``Element``s.  Even though they can take the same input data, the ``Points`` object treats both *x* and *y* as ``key_dimension``s, while ``Scatter`` has a single `key_dimension` *x* and a single ``value_dimension`` *y*:"
     ]
    },
    {
     "cell_type": "code",
     "collapsed": false,
     "input": [
      "for o in [Points(points,name=\"Points \"), Scatter(points,name=\"Scatter\")]:\n",
      "    for d in ['key','value']:\n",
      "        print(\"%s %s_dimensions: %s \" % (o.name, d, o.dimensions(d,label=True)))"
     ],
     "language": "python",
     "metadata": {},
     "outputs": []
    },
    {
     "cell_type": "markdown",
     "metadata": {},
     "source": [
      "Thus the ``Scatter`` object expresses a dependent relationship between *x* and *y*, making it useful for combining with other similar ``Chart`` types, while the ``Points`` object expresses the relationship of two independent keys *x* and *y* with optional ``value_dimensions`` (zero in this case), which makes ``Points`` objects meaningful to combine with the ``Raster`` types below.\n",
      "\n",
      "Of course, the ``value_dimensions`` need not be empty for ``Points``; here is an example with two additional quantities for each point, as ``value_dimension``s *z* and &alpha; visualized as the color and size of the dots, respectively:"
     ]
    },
    {
     "cell_type": "code",
     "collapsed": false,
     "input": [
      "%%opts Points [color_index=2 size_index=3 scaling_factor=50]\n",
      "np.random.seed(10)\n",
      "data = np.random.rand(100,4)\n",
      "\n",
      "points = Points(data, value_dimensions=['z', 'alpha'])\n",
      "points + points[0.3:0.7, 0.3:0.7].hist()"
     ],
     "language": "python",
     "metadata": {},
     "outputs": []
    },
    {
     "cell_type": "heading",
     "level": 3,
     "metadata": {},
     "source": [
      "``VectorField`` <a id='VectorField'/>"
     ]
    },
    {
     "cell_type": "code",
     "collapsed": false,
     "input": [
      "import numpy as np\n",
      "from holoviews import VectorField\n",
      "\n",
      "x,y  = np.mgrid[-10:10,-10:10] * 0.25\n",
      "sine_rings  = np.sin(x**2+y**2)*np.pi+np.pi\n",
      "exp_falloff = 1/np.exp((x**2+y**2)/8)\n",
      "\n",
      "vector_data = [x,y,sine_rings, exp_falloff]\n",
      "VectorField(vector_data)"
     ],
     "language": "python",
     "metadata": {},
     "outputs": []
    },
    {
     "cell_type": "markdown",
     "metadata": {},
     "source": [
      "As you can see above, the *x* and *y* positions are in a regular grid. The arrow angles follow a sinsoidal ring pattern and the arrow lengths fall off exponentially from the center, so this plot has four dimensions of data (direction and length for each *x,y* position).\n",
      "\n",
      "Using the IPython ``%%opts`` cell-magic (described in the [Options tutorial](Options), along with the Python equivalent), we can also use color as a redundant indicator to the direction or magnitude:"
     ]
    },
    {
     "cell_type": "code",
     "collapsed": false,
     "input": [
      "%%opts VectorField.A [color_dim='angle'] VectorField.M [color_dim='magnitude']\n",
      "VectorField(vector_data, group='A')"
     ],
     "language": "python",
     "metadata": {},
     "outputs": []
    },
    {
     "cell_type": "heading",
     "level": 3,
     "metadata": {},
     "source": [
      "``SideHistogram`` <a id='SideHistogram'/>"
     ]
    },
    {
     "cell_type": "markdown",
     "metadata": {},
     "source": [
      "The ``.hist`` method conveniently adjoins a histogram to the side of any ``Chart``, ``Surface``, or ``Raster`` component, as well as many of the container types (though it would be reporting data from one of these underlying ``Element`` types).  For a ``Raster`` using color or grayscale to show values (below), the side histogram doubles as a color bar or key."
     ]
    },
    {
     "cell_type": "code",
     "collapsed": false,
     "input": [
      "import numpy as np\n",
      "np.random.seed(42)\n",
      "from holoviews import Scatter\n",
      "points = [(i, np.random.normal()) for i in range(800)]\n",
      "Scatter(points).hist()"
     ],
     "language": "python",
     "metadata": {},
     "outputs": []
    },
    {
     "cell_type": "heading",
     "level": 2,
     "metadata": {},
     "source": [
      "``Chart3D`` Elements <a id='Chart3D Elements'/>"
     ]
    },
    {
     "cell_type": "heading",
     "level": 3,
     "metadata": {},
     "source": [
      "``Surface`` <a id='Surface'/>"
     ]
    },
    {
     "cell_type": "code",
     "collapsed": false,
     "input": [
      "%%opts Surface [figure_size=125] (cmap='jet' rstride=20, cstride=2)\n",
      "import numpy as np\n",
      "from holoviews import Surface\n",
      "Surface(np.sin(np.linspace(0,100*np.pi*2,10000)).reshape(100,100))"
     ],
     "language": "python",
     "metadata": {},
     "outputs": []
    },
    {
     "cell_type": "heading",
     "level": 3,
     "metadata": {},
     "source": [
      "``Scatter3D`` <a id='Scatter3D'/>"
     ]
    },
    {
     "cell_type": "code",
     "collapsed": false,
     "input": [
      "%%opts Scatter3D [azimuth=40 elevation=20]\n",
      "import numpy as np\n",
      "from holoviews import Scatter3D\n",
      "x,y = np.mgrid[-5:5, -5:5] * 0.1\n",
      "heights = np.sin(x**2+y**2)\n",
      "Scatter3D(zip(x.flat,y.flat,heights.flat))"
     ],
     "language": "python",
     "metadata": {},
     "outputs": []
    },
    {
     "cell_type": "heading",
     "level": 2,
     "metadata": {},
     "source": [
      "``Raster`` Elements <a id='Raster Elements'/>"
     ]
    },
    {
     "cell_type": "markdown",
     "metadata": {},
     "source": [
      "**A collection of raster image types**\n",
      "\n",
      "The second large class of ``Elements`` is the raster elements. Like ``Points`` and unlike the other  ``Chart`` elements, ``Raster Elements`` live in a two-dimensional space. For the ``Image``, ``RGB``, and ``HSV`` elements, the coordinates of this two-dimensional space are defined in a [continuously indexable coordinate system](Continuous_Coordinates)."
     ]
    },
    {
     "cell_type": "heading",
     "level": 3,
     "metadata": {},
     "source": [
      "``Raster`` <a id='Raster'/>"
     ]
    },
    {
     "cell_type": "markdown",
     "metadata": {},
     "source": [
      "A ``Raster`` is the base class for image-like ``Elements``, but may be used directly to visualize 2D arrays using a color map. The coordinate system of a ``Raster`` is the raw indexes of the underlying array, with integer values always starting from (0,0) in the top left, with default extents corresponding to the shape of the array.  The ``Image`` subclass visualizes similarly, but using a continuous Cartesian coordinate system suitable for an array that represents some underlying continuous region."
     ]
    },
    {
     "cell_type": "code",
     "collapsed": false,
     "input": [
      "import numpy as np\n",
      "from holoviews import Raster\n",
      "x,y = np.mgrid[-50:51, -50:51] * 0.1\n",
      "Raster(np.sin(x**2+y**2))"
     ],
     "language": "python",
     "metadata": {},
     "outputs": []
    },
    {
     "cell_type": "heading",
     "level": 3,
     "metadata": {},
     "source": [
      "``HeatMap`` <a id='HeatMap'/>"
     ]
    },
    {
     "cell_type": "markdown",
     "metadata": {},
     "source": [
      "A ``HeatMap`` displays like a typical raster image, but the input is a dictionary indexed with two-dimensional keys, not a Numpy array. As many rows and columns as required will be created to display the values in an appropriate grid format.  Values unspecified are left blank, and the keys can be any Python datatype (not necessarily numeric).  One typical usage is to show values from a set of experiments, such as a parameter space exploration, and many other such visualizations are shown in the [Containers](Containers) and [Exploring Data](Exploring_Data) tutorials. Each value in a ``HeatMap`` is labeled explicitly , and so this component is not meant for very large numbers of samples.  With the default color map, high values (in the upper half of the range present) are colored orange and red, while low values (in the lower half of the range present) are colored shades of blue."
     ]
    },
    {
     "cell_type": "code",
     "collapsed": false,
     "input": [
      "import numpy as np\n",
      "from holoviews import HeatMap\n",
      "data = {(chr(65+i),chr(97+j)):i*j for i in range(5) for j in range(5) if i!=j}\n",
      "HeatMap(data)"
     ],
     "language": "python",
     "metadata": {},
     "outputs": []
    },
    {
     "cell_type": "heading",
     "level": 3,
     "metadata": {},
     "source": [
      "``Image`` <a id='Image'/>"
     ]
    },
    {
     "cell_type": "markdown",
     "metadata": {},
     "source": [
      "Like ``Raster``, a HoloViews ``Image`` allows you to view 2D arrays using an arbitrary color map. Unlike ``Raster``, an ``Image`` is associated with a [2D coordinate system in continuous space](Continuous_Coordinates), which is appropriate for values sampled from some underlying continuous distribution (as in a photograph or other measurements from locations in real space).  Slicing, sampling, etc. on an ``Image`` all use this continuous space, whereas the corresponding operations on a ``Raster`` work on the raw array coordinates."
     ]
    },
    {
     "cell_type": "code",
     "collapsed": false,
     "input": [
      "import numpy as np\n",
      "from holoviews import Image\n",
      "\n",
      "x,y = np.mgrid[-50:51, -50:51] * 0.1\n",
      "bounds=(-1,-1,1,1)   # Coordinate system: (left, bottom, top, right)\n",
      "\n",
      "(Image(np.sin(x**2+y**2),   bounds=bounds) \n",
      " + Image(np.sin(x**2+y**2), bounds=bounds)[-0.5:0.5, -0.5:0.5])"
     ],
     "language": "python",
     "metadata": {},
     "outputs": []
    },
    {
     "cell_type": "markdown",
     "metadata": {},
     "source": [
      "Notice how, because our declared coordinate system is continuous, we can slice with any floating-point value we choose. The appropriate range of the samples in the input numpy array will always be displayed, whether or not there are samples at those specific floating-point values.\n",
      "\n",
      "It is also worth noting that the name ``Image`` can clash with other common libraries, which is one reason to avoid unqualified imports like the ``from holoviews import *`` statement that we use in these tutorials for brevity. For instance, the Python Imaging Libray provides an ``Image`` module, and IPython itself supplies an ``Image`` class in ``IPython.display``.  Python namespaces allow you to avoid such problems, e.g. using ``from PIL import Image as PILImage`` or using ``import holoviews as hv`` and then ``hv.Image()``."
     ]
    },
    {
     "cell_type": "heading",
     "level": 3,
     "metadata": {},
     "source": [
      "``RGB`` <a id='RGB'/>"
     ]
    },
    {
     "cell_type": "markdown",
     "metadata": {},
     "source": [
      "The ``RGB`` element is an ``Image`` that supports red, green, blue channels:"
     ]
    },
    {
     "cell_type": "code",
     "collapsed": false,
     "input": [
      "import numpy as np\n",
      "from holoviews import RGB, Image, VLine\n",
      "\n",
      "x,y = np.mgrid[-50:51, -50:51] * 0.1\n",
      "\n",
      "r = 0.5*np.sin(np.pi  +3*x**2+y**2)+0.5\n",
      "g = 0.5*np.sin(x**2+2*y**2)+0.5\n",
      "b = 0.5*np.sin(np.pi/2+x**2+y**2)+0.5\n",
      "\n",
      "RGB(np.dstack([r,g,b]))"
     ],
     "language": "python",
     "metadata": {},
     "outputs": []
    },
    {
     "cell_type": "markdown",
     "metadata": {},
     "source": [
      "You can see how the RGB object is created from the original channels:"
     ]
    },
    {
     "cell_type": "code",
     "collapsed": false,
     "input": [
      "%%opts Image (cmap='gray')\n",
      "Image(r,label=\"R\") + Image(g,label=\"G\") + Image(b,label=\"B\")"
     ],
     "language": "python",
     "metadata": {},
     "outputs": []
    },
    {
     "cell_type": "markdown",
     "metadata": {},
     "source": [
      "``RGB`` also supports an optional alpha channel, which will be used as a mask revealing or hiding any ``Element``s it is overlaid on top of:"
     ]
    },
    {
     "cell_type": "code",
     "collapsed": false,
     "input": [
      "%%opts Image (cmap='gray')\n",
      "mask = 0.5*np.sin(0.2*(x**2+y**2))+0.5\n",
      "rgba= RGB(np.dstack([r,g,b,mask]))\n",
      "\n",
      "bg = Image(0.5*np.cos(x*3)+0.5,label=\"Background\")*VLine(x=0,label=\"Background\")\n",
      "\n",
      "overlay = bg*rgba\n",
      "overlay.label=\"RGBA Overlay\"\n",
      "\n",
      "bg + Image(mask,label=\"Mask\") + overlay"
     ],
     "language": "python",
     "metadata": {},
     "outputs": []
    },
    {
     "cell_type": "heading",
     "level": 3,
     "metadata": {},
     "source": [
      "``HSV`` <a id='HSV'/>"
     ]
    },
    {
     "cell_type": "markdown",
     "metadata": {},
     "source": [
      "HoloViews makes it trivial to  work in any color space that can be converted to ``RGB`` by making a simple subclass of ``RGB`` as appropriate. For instance, we also provide the  HSV (hue, saturation, value) color space, which is useful for plotting cyclic data (as the Hue) along with two additional dimensions (controlling the saturation and value of the color, respectively):"
     ]
    },
    {
     "cell_type": "code",
     "collapsed": false,
     "input": [
      "import numpy as np\n",
      "from holoviews import HSV\n",
      "\n",
      "x,y = np.mgrid[-50:51, -50:51] * 0.1\n",
      "h = 0.5 + np.sin(0.2*(x**2+y**2)) / 2.0\n",
      "s = 0.5*np.cos(y*3)+0.5\n",
      "v = 0.5*np.cos(x*3)+0.5\n",
      "\n",
      "HSV(np.dstack([h, s, v]))"
     ],
     "language": "python",
     "metadata": {},
     "outputs": []
    },
    {
     "cell_type": "markdown",
     "metadata": {},
     "source": [
      "You can see how this is created from the original channels:"
     ]
    },
    {
     "cell_type": "code",
     "collapsed": false,
     "input": [
      "%%opts Image (cmap='gray')\n",
      "Image(h,label=\"H\") + Image(s,label=\"S\") + Image(v,label=\"V\")"
     ],
     "language": "python",
     "metadata": {},
     "outputs": []
    },
    {
     "cell_type": "heading",
     "level": 1,
     "metadata": {},
     "source": [
      "``Tabular`` Elements <a id='Tabular Elements'/>"
     ]
    },
    {
     "cell_type": "markdown",
     "metadata": {},
     "source": [
      "**General data structures for holding arbitrary information**"
     ]
    },
    {
     "cell_type": "heading",
     "level": 2,
     "metadata": {},
     "source": [
      "``ItemTable`` <a id='ItemTable'/>"
     ]
    },
    {
     "cell_type": "markdown",
     "metadata": {},
     "source": [
      "An ``ItemTable`` is an ordered collection of key, value pairs. It can be used to directly visualize items in a tabular format where the items may be supplied as an ``OrderedDict`` or a list of (key,value) pairs. A standard Python dictionary can be easily visualized using a call to the ``.items()`` method, though the entries in such a dictionary are not kept in any particular order, and so you may wish to sort them before display.  One typical usage for an ``ItemTable`` is to list parameter values or measurements associated with an adjacent ``Element``."
     ]
    },
    {
     "cell_type": "code",
     "collapsed": false,
     "input": [
      "from holoviews import ItemTable\n",
      "ItemTable([('Age', 10), ('Weight',15), ('Height','0.8 meters')])"
     ],
     "language": "python",
     "metadata": {},
     "outputs": []
    },
    {
     "cell_type": "heading",
     "level": 2,
     "metadata": {},
     "source": [
      "``Table`` <a id='Table'/>"
     ]
    },
    {
     "cell_type": "markdown",
     "metadata": {},
     "source": [
      "A table is more general than an ``ItemTable``, as it allows multi-dimensional keys and multidimensional values."
     ]
    },
    {
     "cell_type": "code",
     "collapsed": false,
     "input": [
      "from holoviews import Table\n",
      "from collections import OrderedDict\n",
      "keys =   [('M',10), ('M',16), ('F',12)]\n",
      "values = [(15, 0.8), (18, 0.6), (10, 0.8)]\n",
      "table =Table(zip(keys,values), \n",
      "          key_dimensions = ['Gender', 'Age'], \n",
      "          value_dimensions=['Weight', 'Height'])\n",
      "table"
     ],
     "language": "python",
     "metadata": {},
     "outputs": []
    },
    {
     "cell_type": "markdown",
     "metadata": {},
     "source": [
      "Note that you can use select using tables, and once you select using a full, multidimensional key, you get an ``ItemTable`` (shown on the right):"
     ]
    },
    {
     "cell_type": "code",
     "collapsed": false,
     "input": [
      "table.select(Gender='M') + table.select(Gender='M', Age=10)"
     ],
     "language": "python",
     "metadata": {},
     "outputs": []
    },
    {
     "cell_type": "markdown",
     "metadata": {},
     "source": [
      "The ``Table`` is used as a common data structure that may be converted to any other HoloViews data structure using the ``TableConversion`` class. A similar principle holds when converting data from [Pandas](Pandas_and_Seaborn) DataFrames to HoloViews objects using the optional Pandas support.\n",
      "\n",
      "The functionality of the ``TableConversion`` class may be conveniently accessed using the ``.to`` property, which should have its own tutorial someday, but hopefully this will get the idea across:"
     ]
    },
    {
     "cell_type": "code",
     "collapsed": false,
     "input": [
      "table.select(Gender='M').to.curve(key_dimensions=[\"Age\"],value_dimensions=[\"Weight\"])"
     ],
     "language": "python",
     "metadata": {},
     "outputs": []
    },
    {
     "cell_type": "heading",
     "level": 1,
     "metadata": {},
     "source": [
      "``Annotation`` Elements <a id='Annotation Elements'/>"
     ]
    },
    {
     "cell_type": "markdown",
     "metadata": {},
     "source": [
      "**Useful information that can be overlaid onto other components**"
     ]
    },
    {
     "cell_type": "markdown",
     "metadata": {},
     "source": [
      "Annotations are components designed to be overlaid on top of other ``Element`` objects. To demonstrate annotation and paths, we will be drawing many of our elements on top of an RGB Image:"
     ]
    },
    {
     "cell_type": "code",
     "collapsed": false,
     "input": [
      "from holoviews import RGB\n",
      "scene = RGB.load_image('../assets/penguins.png')"
     ],
     "language": "python",
     "metadata": {},
     "outputs": []
    },
    {
     "cell_type": "heading",
     "level": 3,
     "metadata": {},
     "source": [
      "``VLine`` and ``HLine``  <a id='VLine'/><a id='HLine'/>"
     ]
    },
    {
     "cell_type": "code",
     "collapsed": false,
     "input": [
      "from holoviews import VLine, HLine\n",
      "scene * VLine(-0.05) + scene * HLine(-0.05)"
     ],
     "language": "python",
     "metadata": {},
     "outputs": []
    },
    {
     "cell_type": "heading",
     "level": 3,
     "metadata": {},
     "source": [
      "``Spline``  <a id='Spline'/>"
     ]
    },
    {
     "cell_type": "markdown",
     "metadata": {},
     "source": [
      "The ``Spline`` annotation is used to draw Bezier splines using the same semantics as [matplotlib splines](http://matplotlib.org/api/path_api.html). In the overlay below, the spline is in dark blue and the control points are in light blue."
     ]
    },
    {
     "cell_type": "code",
     "collapsed": false,
     "input": [
      "from holoviews import Spline, Curve\n",
      "points = [(-0.3, -0.3), (0,0), (0.25, -0.25), (0.3, 0.3)]\n",
      "codes = [1,4,4,4]\n",
      "scene * Spline((points,codes)) * Curve(points)"
     ],
     "language": "python",
     "metadata": {},
     "outputs": []
    },
    {
     "cell_type": "heading",
     "level": 3,
     "metadata": {},
     "source": [
      "Text and Arrow  <a id='Text'/><a id='Arrow'/>"
     ]
    },
    {
     "cell_type": "code",
     "collapsed": false,
     "input": [
      "from holoviews import Text, Arrow\n",
      "scene * Text(0, 0.2, 'Adult\\npenguins') + scene * Arrow(0,-0.1, 'Baby penguin', 'v')"
     ],
     "language": "python",
     "metadata": {},
     "outputs": []
    },
    {
     "cell_type": "heading",
     "level": 1,
     "metadata": {},
     "source": [
      "Paths  <a id='Path Elements'/>"
     ]
    },
    {
     "cell_type": "markdown",
     "metadata": {},
     "source": [
      "**Line-based components that can be overlaid onto other components**\n",
      "\n",
      "Paths are a subclass of annotations that involve drawing line-based components on top of other elements."
     ]
    },
    {
     "cell_type": "heading",
     "level": 2,
     "metadata": {},
     "source": [
      "``Path``  <a id='Path'/>"
     ]
    },
    {
     "cell_type": "markdown",
     "metadata": {},
     "source": [
      "A ``Path`` object is actually a collection of paths which can be arbitrarily specified. Although there may be multiple unconnected paths in a single ``Path`` object, they will all share the same style. Only by overlaying multiple ``Path`` objects do you iterate through the defined color cycle (or any other style options that have been defined)."
     ]
    },
    {
     "cell_type": "code",
     "collapsed": false,
     "input": [
      "from holoviews import Path\n",
      "import numpy as np\n",
      "\n",
      "angle = np.linspace(0, 2*np.pi, 100)\n",
      "baby = list(zip(0.15*np.sin(angle),  0.2*np.cos(angle)-0.2))\n",
      "\n",
      "adultR = [(0.25, 0.45), (0.35,0.35), (0.25, 0.25), (0.15, 0.35), (0.25, 0.45)]\n",
      "adultL = [(-0.3, 0.4), (-0.3, 0.3), (-0.2, 0.3), (-0.2, 0.4),(-0.3, 0.4)]\n",
      "\n",
      "scene * Path([adultL, adultR, baby]) * Path([baby])"
     ],
     "language": "python",
     "metadata": {},
     "outputs": []
    },
    {
     "cell_type": "heading",
     "level": 2,
     "metadata": {},
     "source": [
      "``Contours``  <a id='Contours'/>"
     ]
    },
    {
     "cell_type": "markdown",
     "metadata": {},
     "source": [
      "A ``Contours`` object is similar to ``Path`` object except each of the path elements is associated with a numeric value, called the ``level``. Sadly, our penguins are too complicated to give a simple example so instead we will simply mark the first couple of rings of our earlier ring pattern:"
     ]
    },
    {
     "cell_type": "code",
     "collapsed": false,
     "input": [
      "from holoviews import Contours\n",
      "import numpy as np\n",
      "\n",
      "x,y = np.mgrid[-50:51, -50:51] * 0.1\n",
      "\n",
      "def circle(radius, x=0, y=0):\n",
      "    angles = np.linspace(0, 2*np.pi, 100)\n",
      "    return zip(x+radius*np.sin(angles), y+radius*np.cos(angles))\n",
      "\n",
      "Image(np.sin(x**2+y**2)) * Contours([circle(0.22)], level=0) * Contours([circle(0.33)], level=1)"
     ],
     "language": "python",
     "metadata": {},
     "outputs": []
    },
    {
     "cell_type": "heading",
     "level": 2,
     "metadata": {},
     "source": [
      "``Polygons`` <a id='Polygons'/>"
     ]
    },
    {
     "cell_type": "markdown",
     "metadata": {},
     "source": [
      "A ``Polygons`` object is similar to a ``Contours`` object except that each supplied path is closed and filled. Just like ``Contours``, optionally a ``level`` may be supplied, the Polygons will then be colored according to the supplied cmap. Non-finite values such as np.NaN or np.inf will default to the supplied facecolor.\n",
      "\n",
      "Polygons with values can be used as heatmaps with arbitrary shapes."
     ]
    },
    {
     "cell_type": "code",
     "collapsed": false,
     "input": [
      "%%opts Polygons (cmap='hot' edgecolor='k' linewidth=2)\n",
      "from holoviews import Polygons\n",
      "np.random.seed(35)\n",
      "Polygons([np.random.rand(4,2)], level=0.5) *\\\n",
      "Polygons([np.random.rand(4,2)], level=1.0) *\\\n",
      "Polygons([np.random.rand(4,2)], level=1.5) *\\\n",
      "Polygons([np.random.rand(4,2)], level=2.0)"
     ],
     "language": "python",
     "metadata": {},
     "outputs": []
    },
    {
     "cell_type": "markdown",
     "metadata": {},
     "source": [
      "Polygons without a value are useful as annotation, but also allow us to draw arbitrary shapes."
     ]
    },
    {
     "cell_type": "code",
     "collapsed": false,
     "input": [
      "def rectangle(x=0, y=0, width=1, height=1):\n",
      "    return np.array([(x,y), (x+width, y), (x+width, y+height), (x, y+height)])\n",
      "\n",
      "(Polygons([rectangle(width=2), rectangle(x=6, width=2)])(style={'facecolor': '#a50d0d'})\n",
      "* Polygons([rectangle(x=2, height=2), rectangle(x=5, height=2)])(style={'facecolor': '#ffcc00'})\n",
      "* Polygons([rectangle(x=3, height=2, width=2)])(style={'facecolor': 'c', 'hatch':'x'}))"
     ],
     "language": "python",
     "metadata": {},
     "outputs": []
    },
    {
     "cell_type": "heading",
     "level": 2,
     "metadata": {},
     "source": [
      "``Bounds``  <a id='Bounds'/>"
     ]
    },
    {
     "cell_type": "markdown",
     "metadata": {},
     "source": [
      "A bounds is a rectangular area specified as a tuple in  ``(left, bottom, right, top)`` format. It is useful for denoting a region of interest defined by some bounds, whereas ``Box`` (below) is useful for drawing a box at a specific location."
     ]
    },
    {
     "cell_type": "code",
     "collapsed": false,
     "input": [
      "from holoviews import Bounds\n",
      "scene * Bounds(0.2)  * Bounds((0.45, 0.45, 0.2, 0.2))"
     ],
     "language": "python",
     "metadata": {},
     "outputs": []
    },
    {
     "cell_type": "heading",
     "level": 2,
     "metadata": {},
     "source": [
      "``Box`` <a id='Box'/> and ``Ellipse`` <a id='Ellipse'/>"
     ]
    },
    {
     "cell_type": "markdown",
     "metadata": {},
     "source": [
      "A ``Box`` is similar to a ``Bounds`` except you specify the box position, width, and aspect ratio instead of the coordinates of the box corners.  An ``Ellipse`` is specified just as for ``Box``, but has a round shape."
     ]
    },
    {
     "cell_type": "code",
     "collapsed": false,
     "input": [
      "from holoviews import Box, Ellipse\n",
      "scene * Box(    -0.25, 0.3, 0.3, aspect=0.5) * Box(    0, -0.2, 0.1) + \\\n",
      "scene * Ellipse(-0.25, 0.3, 0.3, aspect=0.5) * Ellipse(0, -0.2, 0.1)"
     ],
     "language": "python",
     "metadata": {},
     "outputs": []
    }
   ],
   "metadata": {}
  }
 ]
}
