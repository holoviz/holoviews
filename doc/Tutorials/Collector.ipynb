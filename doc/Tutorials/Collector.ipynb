{
 "cells": [
  {
   "cell_type": "code",
   "execution_count": null,
   "metadata": {
    "collapsed": false
   },
   "outputs": [],
   "source": [
    "import urllib2, json, time, datetime\n",
    "import numpy as np\n",
    "import param\n",
    "\n",
    "import holoviews as hv\n",
    "from holoviews.interface import Collector\n",
    "hv.notebook_extension()"
   ]
  },
  {
   "cell_type": "code",
   "execution_count": null,
   "metadata": {
    "collapsed": false
   },
   "outputs": [],
   "source": [
    "class ISS_Position(param.Parameterized):\n",
    "    \"\"\"\n",
    "    Track the current position of the International Space Station\n",
    "    \"\"\"\n",
    "    def __call__(self):\n",
    "        response = urllib2.urlopen('http://api.open-notify.org/iss-now.json')\n",
    "        data = json.load(response)   \n",
    "        position = data['iss_position']\n",
    "        lat, lon = position['latitude'], position['longitude']\n",
    "        return (lat, lon)"
   ]
  },
  {
   "cell_type": "markdown",
   "metadata": {},
   "source": [
    "Current position of the International Space Station (latitude, longitude):"
   ]
  },
  {
   "cell_type": "code",
   "execution_count": null,
   "metadata": {
    "collapsed": false
   },
   "outputs": [],
   "source": [
    "ISS_Position()()"
   ]
  },
  {
   "cell_type": "code",
   "execution_count": null,
   "metadata": {
    "collapsed": false
   },
   "outputs": [],
   "source": [
    "def ISS_Point(obj, *args, **kwargs):\n",
    "    \"Plot the ISS position as a point\"\n",
    "    return hv.Points(obj(), kdims=[hv.Dimension('latitude', range=(-90,90)),\n",
    "                                   hv.Dimension('longitude', range=(-180,180))])\n",
    "\n",
    "def advance_time(t):\n",
    "    \"Advance time by t seconds\"\n",
    "    print \"Advance time by %.2f seconds\" % t\n",
    "    time.sleep(t)\n",
    "\n",
    "def current_time():\n",
    "    \"Get the current time\"\n",
    "    return time.time()\n",
    "\n",
    "Collector.for_type(ISS_Position, ISS_Point)"
   ]
  },
  {
   "cell_type": "code",
   "execution_count": null,
   "metadata": {
    "collapsed": false
   },
   "outputs": [],
   "source": [
    "c = Collector()\n",
    "c.time_fn = current_time\n",
    "c.interval_hook = advance_time"
   ]
  },
  {
   "cell_type": "code",
   "execution_count": null,
   "metadata": {
    "collapsed": false
   },
   "outputs": [],
   "source": [
    "c.ISS.Trajectory = c.collect(ISS_Position())\n",
    "data = c(times=[time.time()+(i*5) for i in range(1,30)])"
   ]
  },
  {
   "cell_type": "code",
   "execution_count": null,
   "metadata": {
    "collapsed": false
   },
   "outputs": [],
   "source": [
    "data.ISS.Trajectory"
   ]
  }
 ],
 "metadata": {
  "kernelspec": {
   "display_name": "Python 2",
   "language": "python",
   "name": "python2"
  },
  "language_info": {
   "codemirror_mode": {
    "name": "ipython",
    "version": 2
   },
   "file_extension": ".py",
   "mimetype": "text/x-python",
   "name": "python",
   "nbconvert_exporter": "python",
   "pygments_lexer": "ipython2",
   "version": "2.7.11"
  }
 },
 "nbformat": 4,
 "nbformat_minor": 0
}
