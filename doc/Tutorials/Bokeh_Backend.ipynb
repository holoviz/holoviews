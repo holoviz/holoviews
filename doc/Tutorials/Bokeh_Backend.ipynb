{
 "cells": [
  {
   "cell_type": "markdown",
   "metadata": {
    "focus": true,
    "id": "e6a399c2-931d-445e-a80a-30ea27653f27"
   },
   "source": [
    "<div class=\"alert alert-info\" role=\"alert\">\n",
    "    This tutorial contains a lot of bokeh plots, which may take a little while to load and render.\n",
    "</div>\n",
    "\n",
    "One of the major design principles of HoloViews is that the declaration of data is completely independent from the plotting implementation. This means that the visualization of HoloViews data structures can be performed by different plotting backends. As part of the 1.4 release of HoloViews, a [Bokeh](http://bokeh.pydata.org) backend was added in addition to the default ``matplotlib`` backend. Bokeh provides a powerful platform to generate interactive plots using HTML5 canvas and WebGL, and is ideally suited towards interactive exploration of data.\n",
    "\n",
    "By combining the ease of generating interactive, high-dimensional visualizations with the interactive widgets and fast rendering provided by Bokeh, HoloViews becomes even more powerful.\n",
    "\n",
    "This tutorial will cover some basic options on how to style and change various plot attributes and explore some of the more advanced features like interactive tools, linked axes, and brushing."
   ]
  },
  {
   "cell_type": "markdown",
   "metadata": {
    "focus": false,
    "id": "23b0bc81-6d36-4fc6-b43c-4cfb13c32ef6"
   },
   "source": [
    "As usual, the first thing we do is initialize the HoloViews notebook extension, but we now specify the backend specifically."
   ]
  },
  {
   "cell_type": "code",
   "execution_count": null,
   "metadata": {
    "collapsed": false
   },
   "outputs": [],
   "source": [
    "import numpy as np\n",
    "import pandas as pd\n",
    "import holoviews as hv"
   ]
  },
  {
   "cell_type": "code",
   "execution_count": null,
   "metadata": {
    "collapsed": false,
    "focus": false,
    "id": "735ed729-9f22-44c3-8b29-323e8a453960"
   },
   "outputs": [],
   "source": [
    "hv.notebook_extension('bokeh')"
   ]
  },
  {
   "cell_type": "markdown",
   "metadata": {
    "focus": false,
    "id": "c97173e0-8eb2-437c-8316-23336a9f9d7b"
   },
   "source": [
    "We could instead leave the default backend as ``'matplotlib'``, and then switch only some specific cells to use bokeh using a  cell magic:\n",
    "\n",
    "```python\n",
    "%%output backend='bokeh'\n",
    "obj\n",
    "```"
   ]
  },
  {
   "cell_type": "markdown",
   "metadata": {
    "focus": false,
    "id": "c0d5e9a6-258f-47c0-b6e6-0744af327c03"
   },
   "source": [
    "## Element Style options\n",
    "\n",
    "Most Bokeh Elements support a mixture of the following fill, line, and text style customization options:"
   ]
  },
  {
   "cell_type": "code",
   "execution_count": null,
   "metadata": {
    "collapsed": false,
    "focus": false,
    "id": "d19a49d0-b715-4175-a56b-10f33c179927"
   },
   "outputs": [],
   "source": [
    "from holoviews.plotting.bokeh.element import (line_properties, fill_properties,\n",
    "                                              text_properties)\n",
    "print(\"\"\"\n",
    "      Line properties: %s\\n\n",
    "      Fill properties: %s\\n\n",
    "      Text properties: %s\n",
    "      \"\"\" % (line_properties, fill_properties, text_properties))"
   ]
  },
  {
   "cell_type": "markdown",
   "metadata": {},
   "source": [
    "Here's an example of HoloViews Elements using a Bokeh backend, with bokeh's style options:"
   ]
  },
  {
   "cell_type": "code",
   "execution_count": null,
   "metadata": {
    "collapsed": false,
    "focus": false,
    "id": "1ec75e9b-5625-4108-b393-6f6fddcfa1fb"
   },
   "outputs": [],
   "source": [
    "curve_opts = dict(line_width=10, line_color='indianred', line_dash='dotted', line_alpha=0.5)\n",
    "point_opts = dict(fill_color='#00AA00', fill_alpha=0.5, line_width=1, line_color='black', size=5)\n",
    "text_opts  = dict(text_align='center', text_baseline='middle', text_color='gray', text_font='Arial')\n",
    "xs = np.linspace(0, np.pi*4, 100)\n",
    "data = (xs, np.sin(xs))\n",
    "\n",
    "(hv.Curve(data)(style=curve_opts) +\n",
    " hv.Points(data)(style=point_opts) +\n",
    " hv.Text(6, 0, 'Here is some text')(style=text_opts))"
   ]
  },
  {
   "cell_type": "markdown",
   "metadata": {},
   "source": [
    "Notice that because the first two plots use the same underlying data, they become linked, such that zooming or panning one of the plots makes the corresponding change on the other."
   ]
  },
  {
   "cell_type": "markdown",
   "metadata": {
    "focus": false,
    "id": "a7dbd6d6-198f-4461-a344-134a54a67bba"
   },
   "source": [
    "### Sizing Elements"
   ]
  },
  {
   "cell_type": "markdown",
   "metadata": {
    "focus": false,
    "id": "367c674e-01a9-4d95-8941-83458c3cfc75"
   },
   "source": [
    "Sizing and aspect of Elements in bokeh are always computed in absolute pixels. To change the size or aspect of an Element set the ``width`` and ``height`` plot options."
   ]
  },
  {
   "cell_type": "code",
   "execution_count": null,
   "metadata": {
    "collapsed": false,
    "focus": false,
    "id": "31636ffa-4c06-4156-9415-167a837da843",
    "scrolled": false
   },
   "outputs": [],
   "source": [
    "%%opts Points.A [width=300 height=300] Points.B [width=600 height=300]\n",
    "hv.Points(data, group='A') + hv.Points(data, group='B')"
   ]
  },
  {
   "cell_type": "markdown",
   "metadata": {
    "focus": false,
    "id": "7a5b4269-adc2-4f7d-b91b-6715debaaf12"
   },
   "source": [
    "### Controlling axes"
   ]
  },
  {
   "cell_type": "markdown",
   "metadata": {
    "focus": false,
    "id": "cec51ba5-7648-437c-b482-a0033201e733"
   },
   "source": [
    "Bokeh provides a variety of options to control the axes. Here we provide a quick overview of linked plots for the same data displayed differently by applying log axes, disabling axes, rotating ticks, specifying the number of ticks, and supplying an explicit list of ticks."
   ]
  },
  {
   "cell_type": "code",
   "execution_count": null,
   "metadata": {
    "collapsed": false,
    "focus": false,
    "id": "6eb1e3f1-6a5d-4800-a75e-b13fa09e268f"
   },
   "outputs": [],
   "source": [
    "points = hv.Points(np.exp(xs)) \n",
    "axes_opts = [('Plain', {}),\n",
    "             ('Log', {'logy': True}),\n",
    "             ('None', {'yaxis': None}),\n",
    "             ('Rotate', {'xrotation': 90}),\n",
    "             ('N Ticks', {'xticks': 3}),\n",
    "             ('List Ticks', {'xticks': [0, 100, 300, 500]})]\n",
    "\n",
    "hv.Layout([points.relabel(group=group)(plot=opts)\n",
    "           for group, opts in axes_opts]).cols(3).display('all')"
   ]
  },
  {
   "cell_type": "markdown",
   "metadata": {
    "focus": false,
    "id": "cb20e6b1-babb-4d0b-b0e6-51a7753e3636"
   },
   "source": [
    "### Datetime axes"
   ]
  },
  {
   "cell_type": "markdown",
   "metadata": {},
   "source": [
    "Both the matplotlib and the bokeh backends allow plotting datetime data, if you ensure the dates array is of a datetime dtype."
   ]
  },
  {
   "cell_type": "code",
   "execution_count": null,
   "metadata": {
    "collapsed": false,
    "focus": false,
    "id": "5e40a09f-98ec-40a0-b2a6-15c7d1e64c64"
   },
   "outputs": [],
   "source": [
    "%%opts Overlay [width=600 legend_position='top_left']\n",
    "try:\n",
    "    import bokeh.sampledata.stocks\n",
    "except:\n",
    "    import bokeh.sampledata\n",
    "    bokeh.sampledata.download()\n",
    "\n",
    "from bokeh.sampledata.stocks import GOOG, AAPL\n",
    "goog_dates = np.array(GOOG['date'], dtype=np.datetime64)\n",
    "aapl_dates = np.array(AAPL['date'], dtype=np.datetime64)\n",
    "hv.Curve((goog_dates, GOOG['adj_close']), kdims=['Date'], vdims=['Stock Index'], label='Google') *\\\n",
    "hv.Curve((aapl_dates, AAPL['adj_close']), kdims=['Date'], vdims=['Stock Index'], label='Apple')"
   ]
  },
  {
   "cell_type": "markdown",
   "metadata": {},
   "source": [
    "### Categorical axes\n",
    "\n",
    "A number of Elements will also support categorical (i.e. string types) as dimension values, these include ``HeatMap``, ``Points``, ``Scatter``, ``Curve``, ``ErrorBar`` and ``Text`` types.\n",
    "\n",
    "Here we create a set of points indexed by ascending alphabetical x- and y-coordinates and values multiplying the integer index of each coordinate. We then overlay a ``HeatMap`` of the points with the points themselves enabling the hover tool for both and scaling the point size by the 'z' coordines."
   ]
  },
  {
   "cell_type": "code",
   "execution_count": null,
   "metadata": {
    "collapsed": false
   },
   "outputs": [],
   "source": [
    "%%opts Points [size_index='z' tools=['hover']] HeatMap [toolbar='above' tools=['hover']]\n",
    "points = hv.Points([(chr(i+65), chr(j+65), i*j) for i in range(10) for j in range(10)], vdims=['z'])\n",
    "hv.HeatMap(points) * points"
   ]
  },
  {
   "cell_type": "markdown",
   "metadata": {},
   "source": [
    "In the example above both axes are categorical because a HeatMap by definition represents 2D categorical coordinates (unlike Image and Raster types). Other Element types will automatically infer a categorical dimension if the coordinates along that dimension include string types.\n",
    "\n",
    "Here we will generate random samples indexed by categories from 'A' to 'E' using the Scatter Element and overlay them.\n",
    "Secondly we compute the mean and standard deviation for each category and finally we overlay these two elements with a curve representing the mean value and a text element specifying the global mean. All these Elements respect the categorical index, providing us a view of the distribution of values in each category:"
   ]
  },
  {
   "cell_type": "code",
   "execution_count": null,
   "metadata": {
    "collapsed": false
   },
   "outputs": [],
   "source": [
    "%%opts Overlay [show_legend=False height=400 width=600] ErrorBars (line_width=5) Scatter(alpha=0.2 size=6)\n",
    "\n",
    "overlay = hv.NdOverlay({group: hv.Scatter(([group]*100, np.random.randn(100)*(i+1)+i))\n",
    "                        for i, group in enumerate(['A', 'B', 'C', 'D', 'E'])})\n",
    "\n",
    "errorbars = hv.ErrorBars([(k, el.reduce(function=np.mean), el.reduce(function=np.std))\n",
    "                          for k, el in overlay.items()])\n",
    "\n",
    "global_mean = hv.Text('A', 12, 'Global mean: %.3f' % overlay.dimension_values('y').mean())\n",
    "\n",
    "errorbars * overlay * hv.Curve(errorbars) * global_mean"
   ]
  },
  {
   "cell_type": "markdown",
   "metadata": {
    "focus": false,
    "id": "85e1ed20-1e12-4194-822e-c2fe0810ce41"
   },
   "source": [
    "### Matplotlib/Seaborn conversions\n",
    "\n",
    "Bokeh also allows converting a subset of existing matplotlib plot types to Bokeh. This allows us to work with some of the Seaborn plot types, including Distribution, Bivariate, and TimeSeries:"
   ]
  },
  {
   "cell_type": "code",
   "execution_count": null,
   "metadata": {
    "collapsed": false,
    "focus": false,
    "id": "f406d9f0-8488-4b0b-9bf2-95477aad104b"
   },
   "outputs": [],
   "source": [
    "%%opts Distribution (kde_kws=dict(shade=True))\n",
    "d1 = np.random.randn(500) + 450\n",
    "d2 = np.random.randn(500) + 540\n",
    "sines = np.array([np.sin(np.linspace(0, np.pi*2, 100)) + np.random.normal(0, 1, 100) for _ in range(20)])\n",
    "hv.Distribution(d1) + hv.Bivariate((d1, d2)) + hv.TimeSeries(sines)"
   ]
  },
  {
   "cell_type": "markdown",
   "metadata": {
    "focus": false,
    "id": "fd1916ba-13a5-404a-8115-f63487b38689"
   },
   "source": [
    "## Containers"
   ]
  },
  {
   "cell_type": "markdown",
   "metadata": {
    "focus": false,
    "id": "1b4d7def-38d5-4872-b780-e203345e98d8"
   },
   "source": [
    "### Tabs"
   ]
  },
  {
   "cell_type": "markdown",
   "metadata": {
    "focus": false,
    "id": "fc7964ba-2dcd-48e3-b859-c8a5b09386e6"
   },
   "source": [
    "Using bokeh, both ``(Nd)Overlay`` and ``(Nd)Layout`` types may be displayed inside a ``tabs`` widget. This may be enabled via a plot option ``tabs``, and may even be nested inside a Layout."
   ]
  },
  {
   "cell_type": "code",
   "execution_count": null,
   "metadata": {
    "collapsed": false,
    "focus": false,
    "id": "caf6fe45-30fe-4053-b242-b4a6241d9e30"
   },
   "outputs": [],
   "source": [
    "%%opts Overlay [tabs=True] Image [width=400 height=400]\n",
    "x,y = np.mgrid[-50:51, -50:51] * 0.1\n",
    "\n",
    "img = hv.Image(np.sin(x**2+y**2), bounds=(-1,-1,1,1))\n",
    "img.relabel('Low') * img.clone(img.data*2).relabel('High')"
   ]
  },
  {
   "cell_type": "markdown",
   "metadata": {
    "focus": false,
    "id": "da0f093f-182c-4db1-9ba3-b9c0c18f2df8"
   },
   "source": [
    "Another reason to use ``tabs`` is that some Layout combinations may not be able to be displayed directly using HoloViews. For example, it is not currently possible to display a ``GridSpace`` as part of a ``Layout`` in any backend, and this combination will automatically switch to a ``tab`` representation for the bokeh backend."
   ]
  },
  {
   "cell_type": "markdown",
   "metadata": {
    "focus": false,
    "id": "a7b248c0-b8f6-443c-816a-4c212c2eb718"
   },
   "source": [
    "### Marginals\n"
   ]
  },
  {
   "cell_type": "markdown",
   "metadata": {
    "focus": false,
    "id": "d1f0abbf-6a6f-4700-883a-9ab604a62071"
   },
   "source": [
    "The Bokeh backend also supports marginal plots to generate adjoined plots. The most convenient way to build an AdjointLayout is with the ``.hist()`` method."
   ]
  },
  {
   "cell_type": "code",
   "execution_count": null,
   "metadata": {
    "collapsed": false,
    "focus": false,
    "id": "b87c3c95-e073-427a-b84d-7f370f4f7023"
   },
   "outputs": [],
   "source": [
    "points = hv.Points(np.random.randn(500,2))\n",
    "points.hist(num_bins=51, dimension=['x','y'])"
   ]
  },
  {
   "cell_type": "markdown",
   "metadata": {
    "focus": false,
    "id": "8c3ad886-bff5-4b5f-af1e-39cb10faa00d"
   },
   "source": [
    "When the histogram represents a quantity that is mapped to a value dimension with a corresponding colormap, it will automatically share the colormap, making it useful as a colorbar for that dimension as well as a histogram."
   ]
  },
  {
   "cell_type": "code",
   "execution_count": null,
   "metadata": {
    "collapsed": false,
    "focus": false,
    "id": "bd398ce3-991b-4985-9b3e-32faad7e0af2"
   },
   "outputs": [],
   "source": [
    "img.hist(num_bins=100, dimension=['x', 'y'], weight_dimension='z', mean_weighted=True) +\\\n",
    "img.hist(dimension='z')"
   ]
  },
  {
   "cell_type": "markdown",
   "metadata": {
    "focus": false,
    "id": "b2da1a91-c36a-4962-a837-12897e1e7498"
   },
   "source": [
    "## HoloMaps"
   ]
  },
  {
   "cell_type": "markdown",
   "metadata": {},
   "source": [
    "HoloMaps work in bokeh just as in other backends."
   ]
  },
  {
   "cell_type": "code",
   "execution_count": null,
   "metadata": {
    "collapsed": false,
    "focus": false,
    "id": "91d49de6-7ed6-43ff-bf06-e6d8bb439a90"
   },
   "outputs": [],
   "source": [
    "hmap = hv.HoloMap({phase: img.clone(np.sin(x**2+y**2+phase))\n",
    "                   for phase in np.linspace(0, np.pi*2, 6)}, kdims=['Phase'])\n",
    "hmap.hist(num_bins=100, dimension=['x', 'y'], weight_dimension='z', mean_weighted=True)"
   ]
  },
  {
   "cell_type": "markdown",
   "metadata": {
    "focus": false,
    "id": "aec37542-5975-4468-ad19-06c3e5f0b407"
   },
   "source": [
    "## Tools: Interactive widgets"
   ]
  },
  {
   "cell_type": "markdown",
   "metadata": {
    "focus": false,
    "id": "2bee6761-63ac-40b9-9eb4-c9ff568f75ac"
   },
   "source": [
    "#### Hover tools"
   ]
  },
  {
   "cell_type": "markdown",
   "metadata": {},
   "source": [
    "Some Elements allow revealing additional data by hovering over the data. To enable the hover tool, simply supply ``'hover'`` as a list to the ``tools`` plot option."
   ]
  },
  {
   "cell_type": "code",
   "execution_count": null,
   "metadata": {
    "collapsed": false,
    "focus": false,
    "id": "f9d2df76-be40-498a-afe1-730790603088"
   },
   "outputs": [],
   "source": [
    "%%opts Points [tools=['hover']] (size=5) HeatMap [tools=['hover']] Histogram [tools=['hover']] Layout [shared_axes=False]\n",
    "error = np.random.rand(100, 3)\n",
    "heatmap_data = {(chr(65+i),chr(97+j)):i*j for i in range(5) for j in range(5) if i!=j}\n",
    "data = [np.random.normal() for i in range(10000)]\n",
    "hist = np.histogram(data, 20)\n",
    "hv.Points(error) + hv.HeatMap(heatmap_data).sort() + hv.Histogram(hist)"
   ]
  },
  {
   "cell_type": "markdown",
   "metadata": {
    "collapsed": true,
    "focus": false,
    "id": "79c02062-97c6-46e2-9f90-954001962c4c"
   },
   "source": [
    "#### Selection tools"
   ]
  },
  {
   "cell_type": "markdown",
   "metadata": {},
   "source": [
    "Bokeh provides a number of tools for selecting data points including ``box_select``, ``lasso_select`` and ``poly_select``. To distinguish between selected and unselected data points we can also set the ``unselected_color``.  You can try out any of these selection tools and see how the plot is affected:"
   ]
  },
  {
   "cell_type": "code",
   "execution_count": null,
   "metadata": {
    "collapsed": false,
    "focus": false,
    "id": "fc473384-8f85-4560-a656-5d6c2929ae30",
    "scrolled": true
   },
   "outputs": [],
   "source": [
    "%%opts Points [tools=['box_select', 'lasso_select', 'poly_select']] (size=10 unselected_color='red' color='blue')\n",
    "hv.Points(error)"
   ]
  },
  {
   "cell_type": "markdown",
   "metadata": {
    "focus": false,
    "id": "fba3095a-bebb-4d97-b602-82e4bf67df06"
   },
   "source": [
    "#### Selection widget with shared axes and linked brushing"
   ]
  },
  {
   "cell_type": "markdown",
   "metadata": {},
   "source": [
    "When dealing with complex multi-variate data it is often useful to explore interactions between variables across plots. HoloViews will automatically link the data sources of plots in a Layout if they draw from the same data, allowing for both linked axes and brushing.\n",
    "\n",
    "We'll see what this looks like in practice using a small dataset of macro-economic data:"
   ]
  },
  {
   "cell_type": "code",
   "execution_count": null,
   "metadata": {
    "collapsed": true
   },
   "outputs": [],
   "source": [
    "macro_df = pd.read_csv('http://assets.holoviews.org/macro.csv', '\\t')"
   ]
  },
  {
   "cell_type": "markdown",
   "metadata": {},
   "source": [
    "By creating two ``Points`` Elements, which both draw their data from the same pandas DataFrame, the two plots become automatically linked.  This linking behavior can be toggled with the ``shared_datasource`` plot option on a ``Layout`` or ``GridSpace``.  You can try selecting data in one plot, and see how the corresponding data (those on the same rows of the DataFrame, even if the plots show different data, will be highlighted in each."
   ]
  },
  {
   "cell_type": "code",
   "execution_count": null,
   "metadata": {
    "collapsed": false
   },
   "outputs": [],
   "source": [
    "%%opts Scatter [tools=['box_select', 'lasso_select']] Layout [shared_axes=True shared_datasource=True]\n",
    "hv.Scatter(macro_df, kdims=['year'], vdims=['gdp']) +\\\n",
    "hv.Scatter(macro_df, kdims=['gdp'], vdims=['unem'])"
   ]
  },
  {
   "cell_type": "markdown",
   "metadata": {
    "focus": false,
    "id": "818135f9-ae0c-4eb9-a3c5-5fb5a86196a7"
   },
   "source": [
    "A gridmatrix is a clear use case for linked plotting.  This operation plots any combination of numeric variables against each other, in a grid, and selecting datapoints in any plot will highlight them in all of them.  Such linking can thus reveal how values in a particular range (e.g. very large outliers along one dimension) relate to each of the other dimensions."
   ]
  },
  {
   "cell_type": "code",
   "execution_count": null,
   "metadata": {
    "collapsed": false,
    "focus": false,
    "id": "3494a694-f7e1-4c26-a58e-5fc0969fac08",
    "scrolled": false
   },
   "outputs": [],
   "source": [
    "%%opts Scatter [tools=['box_select', 'lasso_select', 'hover'] border=0] Histogram {+axiswise}\n",
    "table = hv.Table(macro_df, kdims=['year', 'country'])\n",
    "matrix = hv.operation.gridmatrix(table.groupby('country'))\n",
    "matrix.select(country=['West Germany', 'United Kingdom', 'United States'])"
   ]
  },
  {
   "cell_type": "markdown",
   "metadata": {},
   "source": [
    "The [Bokeh Elements](Bokeh_Elements.ipynb) tutorial shows examples of all the Elements supported for Bokeh, in a format that can be compared with the default matplotlib [Elements](Elements.ipynb) tutorial."
   ]
  }
 ],
 "metadata": {
  "kernelspec": {
   "display_name": "Python 2",
   "language": "python",
   "name": "python2"
  },
  "language_info": {
   "codemirror_mode": {
    "name": "ipython",
    "version": 2
   },
   "file_extension": ".py",
   "mimetype": "text/x-python",
   "name": "python",
   "nbconvert_exporter": "python",
   "pygments_lexer": "ipython2",
   "version": "2.7.11"
  }
 },
 "nbformat": 4,
 "nbformat_minor": 0
}
