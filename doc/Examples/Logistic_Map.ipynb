{
 "cells": [
  {
   "cell_type": "markdown",
   "metadata": {},
   "source": [
    "# Chaos Theory and the Logistic Map"
   ]
  },
  {
   "cell_type": "markdown",
   "metadata": {},
   "source": [
    "In this tutorial, we will see how to implement Geoff Boeing's\n",
    "excellent blog post on [Chaos Theory and the Logistic\n",
    "Map](http://geoffboeing.com/2015/03/chaos-theory-logistic-map/) using\n",
    "our newly release library,\n",
    "[HoloViews](https://ioam.github.io/holoviews/). For an example of how\n",
    "this material may be approached using pandas and matplotlib directly\n",
    "please see [Geoff's original\n",
    "notebook](http://nbviewer.ipython.org/github/gboeing/chaos-models/blob/master/chaos-logistic-model.ipynb).\n",
    "\n",
    "We will see how using HoloViews allows the same content to be\n",
    "expressed in a far more succinct way that also makes the material\n",
    "presented easier to understand for the reader. In particular, we will\n",
    "show how composing ``Layout`` and ``Overlay`` objects makes it easier\n",
    "to compare data side-by-side, without needing to scroll vertically\n",
    "between plots.\n",
    "\n",
    "We now start by importing numpy and the classes we need from HoloViews\n",
    "before loading the IPython extension:"
   ]
  },
  {
   "cell_type": "code",
   "execution_count": null,
   "metadata": {
    "collapsed": false
   },
   "outputs": [],
   "source": [
    "import numpy as np\n",
    "import holoviews as hv\n",
    "from holoviews import Dimension\n",
    "hv.notebook_extension()"
   ]
  },
  {
   "cell_type": "markdown",
   "metadata": {},
   "source": [
    "## The Logistic Model"
   ]
  },
  {
   "cell_type": "markdown",
   "metadata": {},
   "source": [
    "Here we define a very simple `logistic_map` function that is defined\n",
    "by the difference equation $x_{t+1} = rx_t(1-x_t)$. This is the\n",
    "[logistic map](https://en.wikipedia.org/wiki/Logistic_map), a very\n",
    "simple model of population dynamics with chaotic behavior:"
   ]
  },
  {
   "cell_type": "code",
   "execution_count": null,
   "metadata": {
    "collapsed": false
   },
   "outputs": [],
   "source": [
    "def logistic_map(gens=20, init=0.5, growth=0.5):\n",
    "    population = [init]\n",
    "    for gen in range(gens-1):\n",
    "        current = population[gen]\n",
    "        population.append(current * growth * (1 - current))\n",
    "    return population"
   ]
  },
  {
   "cell_type": "markdown",
   "metadata": {},
   "source": [
    "We will shortly look a few curve plots of this function, but before we\n",
    "do we will declare that all\n",
    "[`Curve`](https://ioam.github.io/holoviews/Tutorials/Elements#Curve)\n",
    "objects will be indexed by the `'Generation'` as the key dimension\n",
    "(i.e x-axis) with a corresponding `'Population'` calue dimension for\n",
    "the y-axis:"
   ]
  },
  {
   "cell_type": "code",
   "execution_count": null,
   "metadata": {
    "collapsed": false
   },
   "outputs": [],
   "source": [
    "hv.Curve.kdims =   [Dimension('Generation')]\n",
    "hv.Curve.kdims = [Dimension('Population')]"
   ]
  },
  {
   "cell_type": "markdown",
   "metadata": {},
   "source": [
    "Now with the\n",
    "[`NdOverlay`](https://ioam.github.io/holoviews/Tutorials/Containers#NdOverlay)\n",
    "class, we can quickly visualize the population evolution for different\n",
    "growth rates:"
   ]
  },
  {
   "cell_type": "code",
   "execution_count": null,
   "metadata": {
    "collapsed": false
   },
   "outputs": [],
   "source": [
    "%%opts Curve (color=Palette('jet')) NdOverlay [figure_size=200 aspect=1.5 legend_position='right']\n",
    "hv.NdOverlay({growth: hv.Curve(enumerate(logistic_map(growth=growth)))\n",
    "              for growth in [round(el, 3) for el in np.linspace(0.5, 3.5, 7)]},\n",
    "             label = 'Logistic model results, by growth rate',\n",
    "             kdims=['Growth rate'])"
   ]
  },
  {
   "cell_type": "markdown",
   "metadata": {},
   "source": [
    "As described in the [original\n",
    "tutorial](http://geoffboeing.com/2015/03/chaos-theory-logistic-map/)\n",
    "we see examples of population collapse, one perfectly static\n",
    "population trace and irregular oscillations in the population value."
   ]
  },
  {
   "cell_type": "markdown",
   "metadata": {},
   "source": [
    "## Bifurcation diagrams"
   ]
  },
  {
   "cell_type": "markdown",
   "metadata": {},
   "source": [
    "Now we will plot some [bifurcation\n",
    "diagrams](https://en.wikipedia.org/wiki/Bifurcation_diagram) using the\n",
    "[`Points`](https://ioam.github.io/holoviews/Tutorials/Elements#Points)\n",
    "class. We will lower the default\n",
    "[`Points`](https://ioam.github.io/holoviews/Tutorials/Elements#Points)\n",
    "size to $1$ and set the dimension labels as we did for\n",
    "[`Curve`](https://ioam.github.io/holoviews/Tutorials/Elements#Curve):"
   ]
  },
  {
   "cell_type": "code",
   "execution_count": null,
   "metadata": {
    "collapsed": false
   },
   "outputs": [],
   "source": [
    "%opts Points (s=1) {+axiswise}\n",
    "hv.Points.kdims = [Dimension('Growth rate'), Dimension('Population')]"
   ]
  },
  {
   "cell_type": "markdown",
   "metadata": {},
   "source": [
    "Now we look at the set of population values over growth rate:"
   ]
  },
  {
   "cell_type": "code",
   "execution_count": null,
   "metadata": {
    "collapsed": false
   },
   "outputs": [],
   "source": [
    "growth_rates = np.linspace(0, 4, 1000)\n",
    "\n",
    "p1 = hv.Points([(rate, pop) for rate in growth_rates for \n",
    "                (gen, pop) in enumerate(logistic_map(gens=100, growth=rate))\n",
    "                if gen!=0])  # Discard the initial generation (where population is 0.5)\n",
    "\n",
    "p2 = hv.Points([(rate, pop) for rate in growth_rates for \n",
    "                (gen, pop) in enumerate(logistic_map(gens=200, growth=rate))\n",
    "                if gen>=100])  # Discard the first 100 generations to view attractors\n",
    "(p1.relabel('Discarding the first generation')\n",
    "+ p2.relabel('Discarding the first 100 generations') + (p1 * p2).relabel('Overlay of B on A'))"
   ]
  },
  {
   "cell_type": "markdown",
   "metadata": {},
   "source": [
    "In plot **A**, only discarding the initial population value is\n",
    "discarded. In **B**, the initial hundred population values are\n",
    "discarded. In **C** we overlay **B** on top of **A** to confirm that\n",
    "**B** is a subset of **A**.\n",
    "\n",
    "Note how HoloViews makes it easy to present this information in a\n",
    "compact form that allows immediate comparison across subfigures with\n",
    "convenient sub-figure labels to refer to."
   ]
  },
  {
   "cell_type": "markdown",
   "metadata": {},
   "source": [
    "## Looking at chaos in more detail"
   ]
  },
  {
   "cell_type": "markdown",
   "metadata": {},
   "source": [
    "Now we will zoom in on the first bifurcation point and examine a chaotic region in more detail:"
   ]
  },
  {
   "cell_type": "code",
   "execution_count": null,
   "metadata": {
    "collapsed": false
   },
   "outputs": [],
   "source": [
    "growth_rates = np.linspace(2.8, 4, 1000)\n",
    "p3 = hv.Points([(rate, pop) for rate in growth_rates for \n",
    "         (gen, pop) in enumerate(logistic_map(gens=300, growth=rate))\n",
    "         if gen>=200])\n",
    "\n",
    "growth_rates = np.linspace(3.7, 3.9, 1000)\n",
    "p4 = hv.Points([(rate, pop) for rate in growth_rates for \n",
    "         (gen, pop) in enumerate(logistic_map(gens=200, growth=rate))\n",
    "         if gen>=100])\n",
    "(p3 * p4) + p4"
   ]
  },
  {
   "cell_type": "markdown",
   "metadata": {},
   "source": [
    "Again, we use an\n",
    "[`Overlay`](https://ioam.github.io/holoviews/Tutorials/Containers#Overlay)\n",
    "to view the region of **A** expanded in **B**. Note that the\n",
    "declaration of `+axiswise` at the start of this section has decoupled\n",
    "the axes in **A** and **B**. Try setting `-axiswise` in the `%opts`\n",
    "declaration above to see **A** and **B** in directly comparable\n",
    "coordinate spaces."
   ]
  },
  {
   "cell_type": "markdown",
   "metadata": {},
   "source": [
    "## Self-similarity"
   ]
  },
  {
   "cell_type": "markdown",
   "metadata": {},
   "source": [
    "The next part of the tutorial looks at self-similarity, by zooming\n",
    "into a small portion of the first bifurcation diagram shown above:"
   ]
  },
  {
   "cell_type": "code",
   "execution_count": null,
   "metadata": {
    "collapsed": false
   },
   "outputs": [],
   "source": [
    "growth_rates = np.linspace(3.84, 3.856, 1000)\n",
    "p5 = hv.Points([(rate, pop) for rate in growth_rates for \n",
    "                (gen, pop) in enumerate(logistic_map(gens=500, growth=rate))\n",
    "                if gen>=300])[:, 0.445:0.552]\n",
    "(p1 * p5) + p5"
   ]
  },
  {
   "cell_type": "markdown",
   "metadata": {},
   "source": [
    "Here we see qualitatively similar patterns on two very different\n",
    "scales, demonstrating a nice example of\n",
    "[self-similarity](https://en.wikipedia.org/wiki/Self-similarity)."
   ]
  },
  {
   "cell_type": "markdown",
   "metadata": {},
   "source": [
    "## Sensitivity to initial conditions"
   ]
  },
  {
   "cell_type": "markdown",
   "metadata": {},
   "source": [
    "Chaotic systems are well known for their sensitive-dependence on\n",
    "initial conditions. Here we look at sensitivity to both the population\n",
    "growth rate and the initial population value:"
   ]
  },
  {
   "cell_type": "code",
   "execution_count": null,
   "metadata": {
    "collapsed": false
   },
   "outputs": [],
   "source": [
    "%%opts Curve {+axiswise} NdOverlay [aspect=1.5] Layout [figure_size=150]\n",
    "plot1 = hv.NdOverlay({str(growth): hv.Curve(enumerate(logistic_map(gens=30, growth=growth)))\n",
    "                   for growth in [3.9, 3.90001]},\n",
    "                  kdims=['Growth rate'],\n",
    "                  label = 'Sensitivity to the growth rate')\n",
    "\n",
    "plot2 = hv.NdOverlay({str(init): hv.Curve(enumerate(logistic_map(gens=50, growth=3.9, init=init)))\n",
    "                   for init in [0.5, 0.50001]},\n",
    "                  kdims=['Initial population'],\n",
    "                  label = 'Sensitivity to the initial conditions')\n",
    "(plot1 + plot2)"
   ]
  },
  {
   "cell_type": "markdown",
   "metadata": {},
   "source": [
    "In **A** we see how a tiny difference in the growth rate eventually\n",
    "results in wildly diverging behaviours. In **B** we see how tiny\n",
    "differences in the initial population value also eventually results in\n",
    "divergence.\n",
    "\n",
    "In this example, we used a\n",
    "[`Layout`](https://ioam.github.io/holoviews/Tutorials/Containers#Layout)\n",
    "container to place **A** next to **B** where each subfigure is an\n",
    "[`NdOverlay`](https://ioam.github.io/holoviews/Tutorials/Containers#NdOverlay)\n",
    "of\n",
    "[`Curve`](https://ioam.github.io/holoviews/Tutorials/Elements#Curve)\n",
    "objects."
   ]
  },
  {
   "cell_type": "markdown",
   "metadata": {},
   "source": [
    "# Poincaré Plots"
   ]
  },
  {
   "cell_type": "markdown",
   "metadata": {},
   "source": [
    "Now we will examine Poincaré plots for different growth rates. First,\n",
    "we will redefine the default dimensions associated with `Points`\n",
    "objects and set suitable, normalized soft-ranges:"
   ]
  },
  {
   "cell_type": "code",
   "execution_count": null,
   "metadata": {
    "collapsed": false
   },
   "outputs": [],
   "source": [
    "%opts NdLayout [title_format='Poincaré Plots']\n",
    "hv.Points.kdims = [hv.Dimension('Population (t)',   soft_range=(0,1)),\n",
    "                   hv.Dimension('Population (t+1)', soft_range=(0,1))]"
   ]
  },
  {
   "cell_type": "markdown",
   "metadata": {},
   "source": [
    "Now we use an [`NdLayout`](https://ioam.github.io/holoviews/Tutorials/Containers#NdLayout) to view the Poincaré plots for four different growth rates:"
   ]
  },
  {
   "cell_type": "code",
   "execution_count": null,
   "metadata": {
    "collapsed": false
   },
   "outputs": [],
   "source": [
    "%%opts Points (s=5)\n",
    "layout = hv.NdLayout({rate: hv.Points(zip(logistic_map(gens=500, growth=rate)[1:],\n",
    "                                          logistic_map(gens=500, growth=rate)[2:]))\n",
    "                      for rate in [2.9, 3.2, 3.5, 3.9]}, key_dimensions=['Growth rate']).cols(2)\n",
    "layout"
   ]
  },
  {
   "cell_type": "markdown",
   "metadata": {},
   "source": [
    "As the chaotic regime is the most interesting, let's look at the\n",
    "Poincaré plots for 50 growth values equally spaced between $3.6$ and\n",
    "$4.0$. To distinguish all these curves, we will use a ``Palette``\n",
    "using the `'hot'` color map:"
   ]
  },
  {
   "cell_type": "code",
   "execution_count": null,
   "metadata": {
    "collapsed": false
   },
   "outputs": [],
   "source": [
    "%%opts NdOverlay [show_legend=False figure_size=200] Points (s=1 color=Palette('hot'))\n",
    "hv.NdOverlay({rate: hv.Points(zip(logistic_map(gens=300, growth=rate)[1:],\n",
    "                                  logistic_map(gens=300, growth=rate)[2:]), extents=(0.0001,0.0001,1,1))\n",
    "              for rate in np.linspace(3.6, 4.0, 50)}, key_dimensions=['Growth rate'])"
   ]
  },
  {
   "cell_type": "markdown",
   "metadata": {},
   "source": [
    "What is fascinating about this family of parabolas is that they never\n",
    "overlap; otherwise two different growth rates starting with the same\n",
    "intial population would end up with identical evolution. The\n",
    "``logistic_map`` function is determinstic after all. This type of\n",
    "non-overlapping, non-repeating yet structured evolution is a general\n",
    "feature of fractal geometries. In the next section, we will constrast\n",
    "chaotic behaviour to random behaviour."
   ]
  },
  {
   "cell_type": "markdown",
   "metadata": {},
   "source": [
    "## Chaos versus randomness"
   ]
  },
  {
   "cell_type": "markdown",
   "metadata": {},
   "source": [
    "At first glance, the evolution of a chaotic system can be difficult to\n",
    "tell apart from a set of samples drawn from a random distribution:"
   ]
  },
  {
   "cell_type": "code",
   "execution_count": null,
   "metadata": {
    "collapsed": false
   },
   "outputs": [],
   "source": [
    "%%opts NdOverlay [figure_size=200 aspect=1.5]\n",
    "chaotic = hv.Curve([(gen, pop) for gen, pop in enumerate(logistic_map(gens=100, growth=3.999))],\n",
    "                    kdims=['Generation'])[40:90]\n",
    "random = hv.Curve([(gen, np.random.random()) for gen in range(0, 100)],\n",
    "                  kdims=['Generation'])[40:90]\n",
    "hv.NdOverlay({'chaotic':chaotic, 'random':random},\n",
    "             label='Time series, deterministic versus random data')"
   ]
  },
  {
   "cell_type": "markdown",
   "metadata": {},
   "source": [
    "The Poincaré plots from the previous section do provide a clear way of\n",
    "distinguishing chaotic evolution from randomness:"
   ]
  },
  {
   "cell_type": "code",
   "execution_count": null,
   "metadata": {
    "collapsed": false
   },
   "outputs": [],
   "source": [
    "randpoints = [np.random.random() for _ in range(0, 1000)]\n",
    "poincare_random = hv.Points(zip(randpoints[1:], randpoints[2:]))\n",
    "layout[3.9] + poincare_random"
   ]
  },
  {
   "cell_type": "markdown",
   "metadata": {},
   "source": [
    "In this example, we index into one element of the\n",
    "[`NdOverlay`](https://ioam.github.io/holoviews/Tutorials/Containers#NdOverlay)\n",
    "of Poincaré plots defined earlier (**A**) in order to contrast it to\n",
    "the random case shown in **B**. Using these plots, the two sources of\n",
    "data can be clearly distinguished."
   ]
  },
  {
   "cell_type": "markdown",
   "metadata": {},
   "source": [
    "## The 3D attractor"
   ]
  },
  {
   "cell_type": "markdown",
   "metadata": {},
   "source": [
    "Finally, we generalize the 2D plots shown above into a\n",
    "three-dimensional space using the\n",
    "[`Scatter3D`](https://ioam.github.io/holoviews/Tutorials/Elements#Scatter3D)\n",
    "element, plotting the values at time $t$ against $t+1$ and $t+2$:\n"
   ]
  },
  {
   "cell_type": "code",
   "execution_count": null,
   "metadata": {
    "collapsed": false
   },
   "outputs": [],
   "source": [
    "%opts Scatter3D [title_format='3D Poincaré Plot'] (s=1 color='r') Layout [figure_size=200]\n",
    "population = logistic_map(2000, 0.5, 3.99)\n",
    "attractor3D = hv.Scatter3D(zip(population[1:], population[2:], population[3:]),\n",
    "                           kdims=['Population (t)', 'Population (t+1)', 'Population (t+2)'])\n",
    "\n",
    "random = [np.random.random() for _ in range(0, 2000)]\n",
    "rand3D = hv.Scatter3D(zip(random[1:], random[2:], random[3:]),\n",
    "                      kdims=['Value (t)', 'Value (t+1)', 'Value (t+2)'])\n",
    "attractor3D + rand3D"
   ]
  },
  {
   "cell_type": "markdown",
   "metadata": {},
   "source": [
    "As we can see, our chaotic system is constrained to a limited subspace\n",
    "(Note: the bug where the *y* and *z* axes have the same label has been\n",
    "corrected on the HoloViews master branch and will be fixed in the next\n",
    "release)."
   ]
  },
  {
   "cell_type": "markdown",
   "metadata": {},
   "source": [
    "# Further exploration"
   ]
  },
  {
   "cell_type": "markdown",
   "metadata": {},
   "source": [
    "Throughout the tutorial we have been running the ``logistic_map`` for\n",
    "some arbitrary number of generations, without justifying the values\n",
    "used. In addition, we have used a cutoff value, only examining the\n",
    "population evolution after some number of generations has elapsed\n",
    "(e.g. by default the initial population value is a constant of $0.5$\n",
    "which would result in a distracting horizontal line).\n",
    "\n",
    "With HoloViews, you can easily animate and interact with your data\n",
    "with as many dimensions as you like. We will now interactively\n",
    "investigate the effect of these two parameters using a\n",
    "[`HoloMap`](https://ioam.github.io/holoviews/Tutorials/Containers#HoloMap):"
   ]
  },
  {
   "cell_type": "code",
   "execution_count": null,
   "metadata": {
    "collapsed": false
   },
   "outputs": [],
   "source": [
    "hv.Points.kdims = [hv.Dimension('Growth rate', soft_range=(0,4)), \n",
    "                   hv.Dimension('Population',  soft_range=(0,1))]\n",
    "\n",
    "hv.HoloMap({(gens,cutoff): hv.Points([(rate, pop) for rate in np.linspace(0, 4, 1000) for \n",
    "              (gen, pop) in enumerate(logistic_map(gens=gens, growth=rate))\n",
    "                                      if gen>=cutoff])\n",
    "            for gens in [20,40,60,80,100] for cutoff in [1,5,10,15]},\n",
    "           kdims=['Generations', 'Cutoff'])"
   ]
  },
  {
   "cell_type": "markdown",
   "metadata": {},
   "source": [
    "We see that the number of generations affects the density of the\n",
    "bifurcation diagram in the chaotic regimes. In addition, we can see\n",
    "exactly what part of the bifurcation diagram are pruned as the cut-off\n",
    "value is increased."
   ]
  },
  {
   "cell_type": "markdown",
   "metadata": {},
   "source": [
    "# So why use HoloViews?"
   ]
  },
  {
   "cell_type": "markdown",
   "metadata": {},
   "source": [
    "HoloViews was written to be make research in Python (and in particular\n",
    "IPython notebook) more productive, more fun and more reproducible. By\n",
    "revisting the material written by Geoff Boeing with HoloViews 1.0.1, I\n",
    "hope to have demonstrated some compelling reasons why you should use\n",
    "HoloViews:\n",
    "\n",
    "* Not a single line of code had to be changed in HoloViews to make\n",
    "  this notebook work. No plotting code had to be defined in this\n",
    "  notebook yet all the original tutorial material is included (and\n",
    "  more!).\n",
    "\n",
    "\n",
    "* HoloViews has made the material far more compact, requiring far\n",
    "  fewer lines of code to do so. In addition, displaying the data in a\n",
    "  more compact format makes it easier to compare plots directly. This\n",
    "  enables the reader to get a clearer overview of the material\n",
    "  presented and makes it easier to write a single document including\n",
    "  both code and explanatory text.\n",
    "\n",
    "\n",
    "* In HoloViews you declare what your data *is* instead of some\n",
    "  imperitive recipe that renders your data to screen. In particular, a\n",
    "  figure object (e.g a matplotlib figure) is no replacement for your\n",
    "  actual data. In HoloViews, you annotate your data with meaningful\n",
    "  metadata (e.g. dimension labels) that is far more valuable in the\n",
    "  long-term than any particular figure.\n",
    "\n",
    "\n",
    "* HoloViews components are fully-featured Python objects that hold\n",
    "  your data to be indexing, slicing, analysis, storage (e.g. to be\n",
    "  pickled to disk) and so on. No information about display is stored\n",
    "  directly on these objects. Instead, all the plotting, display\n",
    "  customizations etc happen in the background."
   ]
  }
 ],
 "metadata": {
  "language_info": {
   "codemirror_mode": {
    "name": "ipython",
    "version": 2
   },
   "file_extension": ".py",
   "mimetype": "text/x-python",
   "name": "python",
   "nbconvert_exporter": "python",
   "pygments_lexer": "ipython2",
   "version": "2.7.11"
  }
 },
 "nbformat": 4,
 "nbformat_minor": 0
}
