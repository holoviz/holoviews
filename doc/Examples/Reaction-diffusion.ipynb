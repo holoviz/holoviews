{
 "cells": [
  {
   "cell_type": "markdown",
   "metadata": {},
   "source": [
    "# Reaction-diffusion systems and Turing patterns"
   ]
  },
  {
   "cell_type": "markdown",
   "metadata": {},
   "source": [
    "In this tutorial, we will look at a simulation of a\n",
    "[reaction-diffusion](https://en.wikipedia.org/wiki/Reaction%E2%80%93diffusion_system)\n",
    "system described by a discretized partial differential equation used\n",
    "as a simple model animal coat pattern formation. The use of\n",
    "reaction–diffusion systems to explain pattern formation in biology may\n",
    "be traced back to Alan Turing's seminal 1952 paper [(The Chemical\n",
    "Basis of\n",
    "Morphogenesis)](http://rstb.royalsocietypublishing.org/content/237/641/37).\n",
    "\n",
    "We will use HoloViews to investigate how the simulated\n",
    "reaction-diffusion system evolves over time for one initial state\n",
    "and then again over varying values of one of the simulation\n",
    "parameters. In the process, it will become clear how easy it is\n",
    "to leverage HoloViews to explore the behaviour of existing\n",
    "analysis or simulation code.\n",
    "\n",
    "The simulation code for this tutorial has been adapted directly\n",
    "from the [freely available\n",
    "recipe](http://ipython-books.github.io/featured-05/) in the\n",
    "**IPython Interactive Computing and Visualization Cookbook** by\n",
    "[Cyrille Rossant](http://cyrille.rossant.net):\n",
    "\n",
    "<a href=\"https://ipython-books.github.io/cookbook/\">\n",
    "  <img src=\"https://www.packtpub.com/sites/default/files/4818OS_%20Ipython%20Interactive%20Computing%20and%20Visualization%20Cookbook.jpg\" alt=\"IPython Cookbook\" align='left' width=\"25%\"> \n",
    "</a>\n"
   ]
  },
  {
   "cell_type": "markdown",
   "metadata": {},
   "source": [
    "As in the original tutorial, we first need to define a discretization of the [Laplacian operator](https://en.wikipedia.org/wiki/Laplace_operator):"
   ]
  },
  {
   "cell_type": "code",
   "execution_count": null,
   "metadata": {
    "collapsed": false
   },
   "outputs": [],
   "source": [
    "import numpy as np\n",
    "\n",
    "def laplacian(Z, dx):\n",
    "    \"\"\"\n",
    "    Function to computes the discrete Laplace operator of\n",
    "    a 2D variable on the grid (using a five-point stencil\n",
    "    finite difference method.)\n",
    "    \"\"\"\n",
    "    Ztop = Z[0:-2,1:-1]\n",
    "    Zleft = Z[1:-1,0:-2]\n",
    "    Zbottom = Z[2:,1:-1]\n",
    "    Zright = Z[1:-1,2:]\n",
    "    Zcenter = Z[1:-1,1:-1]\n",
    "    return (Ztop + Zleft + Zbottom + Zright - 4 * Zcenter) / dx**2"
   ]
  },
  {
   "cell_type": "markdown",
   "metadata": {},
   "source": [
    "Now we can refactor the code from the original tutorial into a\n",
    "function that simulates the reaction-diffusion process. Note that this\n",
    "version uses a coarser time-step and returns copies of the reaction\n",
    "state over time as a list of *(time, np.array)* tuples:"
   ]
  },
  {
   "cell_type": "code",
   "execution_count": null,
   "metadata": {
    "collapsed": false
   },
   "outputs": [],
   "source": [
    "def reaction_diffusion(a=2.8e-4, b=5e-3, tau=0.1, k=-0.005, samples=10):\n",
    "    \"\"\"\n",
    "    We simulate the PDE with the finite difference method.\n",
    "\n",
    "    The samples value is the number of equally spaced samples\n",
    "    to collect over the total simulation time T.\n",
    "    \"\"\"\n",
    "    size = 100         # size of the 2D grid\n",
    "    dx = 2./size       # space step\n",
    "    T = 10.0           # total time\n",
    "    dt = 4.5 * dx**2    # simulation time step\n",
    "    n = int(T/dt)\n",
    "\n",
    "    result = []\n",
    "    U = np.random.rand(size, size)\n",
    "    V = np.random.rand(size, size)\n",
    "\n",
    "    sample_times = [int(el) for el in np.linspace(0, n, samples)]\n",
    "\n",
    "    for i in range(n):\n",
    "        # We compute the Laplacian of u and v.\n",
    "        deltaU = laplacian(U, dx=dx)\n",
    "        deltaV = laplacian(V, dx=dx)\n",
    "        # We take the values of u and v inside the grid.\n",
    "        Uc = U[1:-1,1:-1]\n",
    "        Vc = V[1:-1,1:-1]\n",
    "        # We update the variables.\n",
    "        U[1:-1,1:-1], V[1:-1,1:-1] = \\\n",
    "            Uc + dt * (a * deltaU + Uc - Uc**3 - Vc + k), \\\n",
    "            Vc + dt * (b * deltaV + Uc - Vc) / tau\n",
    "        # Neumann conditions: derivatives at the edges\n",
    "        # are null.\n",
    "        for Z in (U, V):\n",
    "            Z[0,:] = Z[1,:]\n",
    "            Z[-1,:] = Z[-2,:]\n",
    "            Z[:,0] = Z[:,1]\n",
    "            Z[:,-1] = Z[:,-2]\n",
    "\n",
    "        if i in sample_times:\n",
    "            result.append((i * dt,U.copy()))\n",
    "    return result"
   ]
  },
  {
   "cell_type": "markdown",
   "metadata": {},
   "source": [
    "The array *U* represents the concentration of some compound\n",
    "involved in pigmentation, whereas the *V* array represents some\n",
    "other substance that reacts with the first compound to impede\n",
    "pigmentation. The partial differential equation for the evolution\n",
    "of these two compounds over time may be described by these two\n",
    "coupled equations:\n",
    "\n",
    "$$\\frac{\\partial u}{\\partial t} = a \\Delta u + u - u^3 - v + k$$\n",
    "$$\\tau \\frac{\\partial v}{\\partial t} = b \\Delta v + u - v$$"
   ]
  },
  {
   "cell_type": "markdown",
   "metadata": {},
   "source": [
    "## Visualizing the simulation with HoloViews"
   ]
  },
  {
   "cell_type": "markdown",
   "metadata": {},
   "source": [
    "The code above is a fairly direct translation of the [original\n",
    "recipe](http://ipython-books.github.io/featured-05/) except we\n",
    "now collect the simulation results over time as numpy arrays\n",
    "instead of simply mutating the *U* array until the final state is\n",
    "reached.\n",
    "\n",
    "To visualize the results of the simulation using the default\n",
    "parameter, we first load the ipython extension and import the\n",
    "[`HoloMap`](https://ioam.github.io/holoviews/Tutorials/Containers#HoloMap)\n",
    "and\n",
    "[`Image`](https://ioam.github.io/holoviews/Tutorials/Elements#Image)\n",
    "classes:"
   ]
  },
  {
   "cell_type": "code",
   "execution_count": null,
   "metadata": {
    "collapsed": false
   },
   "outputs": [],
   "source": [
    "import holoviews as hv\n",
    "hv.notebook_extension()"
   ]
  },
  {
   "cell_type": "markdown",
   "metadata": {},
   "source": [
    "Lets run the first simulation which should complete after a few seconds:"
   ]
  },
  {
   "cell_type": "code",
   "execution_count": null,
   "metadata": {
    "collapsed": false
   },
   "outputs": [],
   "source": [
    "sim1 = reaction_diffusion()"
   ]
  },
  {
   "cell_type": "markdown",
   "metadata": {},
   "source": [
    "Using a\n",
    "[`HoloMap`](https://ioam.github.io/holoviews/Tutorials/Containers#HoloMap)\n",
    "of\n",
    "[`Image`](https://ioam.github.io/holoviews/Tutorials/Elements#Image)\n",
    "elements, we can view the evolution of our reaction-diffusion\n",
    "process over time (using the `'copper'` color map). All we need\n",
    "to do is built a dictionary of\n",
    "[`Image`](https://ioam.github.io/holoviews/Tutorials/Elements#Image)\n",
    "elements indexed over time and pass it to the\n",
    "[`HoloMap`](https://ioam.github.io/holoviews/Tutorials/Containers#HoloMap)\n",
    "where we declare the key dimension as `'Time'`:"
   ]
  },
  {
   "cell_type": "code",
   "execution_count": null,
   "metadata": {
    "collapsed": false
   },
   "outputs": [],
   "source": [
    "%%opts Image (cmap='copper')\n",
    "hv.HoloMap({time: hv.Image(array) for (time, array) in sim1}, kdims=['Time'])"
   ]
  },
  {
   "cell_type": "markdown",
   "metadata": {},
   "source": [
    "This shows how the reaction-diffusion pattern self-organizes from a\n",
    "random initial state when the default parameter values are used. In\n",
    "the original recipe, only a single frame displaying the final state\n",
    "was shown but using HoloViews we can easily view a 3-dimensional space\n",
    "(two spatial dimensions and time)."
   ]
  },
  {
   "cell_type": "markdown",
   "metadata": {},
   "source": [
    "## Visualizing more dimensions"
   ]
  },
  {
   "cell_type": "markdown",
   "metadata": {},
   "source": [
    "We can now go further and visualize the system in higher-dimensional\n",
    "spaces if we wish. Here we will examine a 4-dimensional space by\n",
    "exploring small variations in the *'a'* parameter in addition to the\n",
    "3-dimensions we explored above:"
   ]
  },
  {
   "cell_type": "code",
   "execution_count": null,
   "metadata": {
    "collapsed": false
   },
   "outputs": [],
   "source": [
    "a_values = np.linspace(2.8e-4, 6e-4, 3)"
   ]
  },
  {
   "cell_type": "markdown",
   "metadata": {},
   "source": [
    "Again we collect the results across our three simulations into a list,\n",
    "keeping track of the associated time and *'a'* parameter with each\n",
    "numpy array:"
   ]
  },
  {
   "cell_type": "code",
   "execution_count": null,
   "metadata": {
    "collapsed": false
   },
   "outputs": [],
   "source": [
    "sim2 = [((time, a_value), array) for a_value in a_values\n",
    "         for (time, array)  in reaction_diffusion(a=a_value)]"
   ]
  },
  {
   "cell_type": "markdown",
   "metadata": {},
   "source": [
    "Now we build our second example of a [`HoloMap`](https://ioam.github.io/holoviews/Tutorials/Containers#HoloMap) use a dictionary of [`Image`](https://ioam.github.io/holoviews/Tutorials/Elements#Image) elements. This time the keys are 2-tuple containing the corresponding values of the `'Time'` and `'a'` dimensions. These two dimensions are declared to the [`HoloMap`](https://ioam.github.io/holoviews/Tutorials/Containers#HoloMap) as `key_dimensions`:"
   ]
  },
  {
   "cell_type": "code",
   "execution_count": null,
   "metadata": {
    "collapsed": false
   },
   "outputs": [],
   "source": [
    "%%opts Image (cmap='copper')\n",
    "hv.HoloMap({key: hv.Image(array) for (key,array) in sim2}, kdims=['Time', 'A'])"
   ]
  },
  {
   "cell_type": "markdown",
   "metadata": {},
   "source": [
    "We see that as the *a* value increases, the pattern of dark and light\n",
    "spots changes and becomes more blurred spatially. By examining the\n",
    "first differential equation in *u*, this may be thought of as a\n",
    "consequence of scaling the Laplacian of U, a second order differential\n",
    "operator over the spatial dimensions."
   ]
  },
  {
   "cell_type": "markdown",
   "metadata": {},
   "source": [
    "## Conclusion"
   ]
  },
  {
   "cell_type": "markdown",
   "metadata": {},
   "source": [
    "This tutorial shows how HoloViews makes it easy to explore\n",
    "high-dimensional parameter spaces in ways that would require a lot\n",
    "more effort to do otherwise. In this particular example, the\n",
    "interactive sliders allow you to explore the effect simulation time\n",
    "and one particular simulation parameter as a four dimensional\n",
    "space. This was achieved with only a few additional lines of code.\n",
    "\n",
    "Given sufficient patience and computing resources, you could\n",
    "simultaneously explore all four parameters of the `reaction_diffusion`\n",
    "function (*a*, *b*, *tau* and *k*) over simulation time. Using the\n",
    "[`HoloMap`](https://ioam.github.io/holoviews/Tutorials/Containers#HoloMap)\n",
    "class, this concept generalizes to any domain where you can generate\n",
    "data that may be visualized as a HoloViews\n",
    "[`Element`](https://ioam.github.io/holoviews/Tutorials/Element) (or\n",
    "some composition thereof)."
   ]
  }
 ],
 "metadata": {
  "language_info": {
   "codemirror_mode": {
    "name": "ipython",
    "version": 2
   },
   "file_extension": ".py",
   "mimetype": "text/x-python",
   "name": "python",
   "nbconvert_exporter": "python",
   "pygments_lexer": "ipython2",
   "version": "2.7.11"
  }
 },
 "nbformat": 4,
 "nbformat_minor": 0
}
