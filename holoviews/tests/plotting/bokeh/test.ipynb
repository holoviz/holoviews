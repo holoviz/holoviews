{
 "cells": [
  {
   "cell_type": "code",
   "execution_count": null,
   "metadata": {},
   "outputs": [],
   "source": [
    "import holoviews as hv\n",
    "import numpy as np\n",
    "import pandas as pd\n",
    "hv.extension(\"bokeh\")\n",
    "\n",
    "hv.Bars((np.arange(0, 10), np.random.rand(10)))"
   ]
  },
  {
   "cell_type": "code",
   "execution_count": null,
   "metadata": {},
   "outputs": [],
   "source": [
    "import numpy as np\n",
    "import holoviews as hv\n",
    "hv.extension('bokeh')\n",
    "\n",
    "samples = 100\n",
    "\n",
    "pets = [\"Cat\", \"Dog\", \"Hamster\", \"Rabbit\"]\n",
    "genders = [\"Female\", \"Male\", \"N/A\"]\n",
    "\n",
    "np.random.seed(100)\n",
    "pets_sample = np.random.choice(pets, samples)\n",
    "gender_sample = np.random.choice(genders, samples)\n",
    "\n",
    "bars = (\n",
    "    hv.Bars((pets_sample, gender_sample, np.ones(samples)), [\"Pets\", \"Gender\"])\n",
    "    .aggregate(function=np.sum)\n",
    ")\n",
    "bars"
   ]
  },
  {
   "cell_type": "code",
   "execution_count": null,
   "metadata": {},
   "outputs": [],
   "source": [
    "import numpy as np\n",
    "import holoviews as hv\n",
    "\n",
    "hv.extension(\"bokeh\")\n",
    "\n",
    "samples = 100\n",
    "\n",
    "pets = [\"Cat\", \"Dog\", \"Hamster\", \"Rabbit\"]\n",
    "genders = [\"Female\", \"Male\", \"N/A\"]\n",
    "\n",
    "np.random.seed(100)\n",
    "pets_sample = np.random.choice(pets, samples)\n",
    "gender_sample = np.random.choice(genders, samples)\n",
    "\n",
    "hv.Bars([(\"A\", 1), (\"B\", 2), (\"C\", 3)]).opts(bar_width=1)"
   ]
  },
  {
   "cell_type": "code",
   "execution_count": null,
   "metadata": {},
   "outputs": [],
   "source": [
    "import pandas as pd\n",
    "import holoviews as hv\n",
    "hv.extension(\"bokeh\")\n",
    "\n",
    "df = pd.DataFrame({'x': [1,2,3], 'y': [2,3,4],})\n",
    "p1a = hv.Scatter(df, kdims='x', vdims=['y']).opts(color='red', size=8)\n",
    "df = pd.DataFrame({'x': [1,2,3], 'y': [5,6,7],})\n",
    "p2a = hv.Scatter(df, kdims='x', vdims=['y']).opts(color='green', size=8)\n",
    "pa = hv.NdOverlay({'red':p1a, 'green':p2a}, 'plots').opts(legend_position='right')\n",
    "df = pd.DataFrame({'x': [1,2,3], 'y': [1,1.5,2],})\n",
    "p1b = hv.Scatter(df, kdims='x', vdims=['y']).opts(color='red', size=8)\n",
    "df = pd.DataFrame({'x': [1,2,3], 'y': [3,4,5],})\n",
    "p2b = hv.Scatter(df, kdims='x', vdims=['y']).opts(color='green', size=8)\n",
    "pb = hv.NdOverlay({'red':p1b, 'green':p2b}, 'plots').opts(legend_position='right', show_legend=False)\n",
    "p = pa+pb\n",
    "p"
   ]
  }
 ],
 "metadata": {
  "language_info": {
   "name": "python",
   "pygments_lexer": "ipython3"
  }
 },
 "nbformat": 4,
 "nbformat_minor": 2
}
