{
 "cells": [
  {
   "cell_type": "code",
   "execution_count": null,
   "metadata": {},
   "outputs": [],
   "source": [
    "import numpy as np\n",
    "\n",
    "import panel as pn\n",
    "import holoviews as hv\n",
    "\n",
    "points = hv.Points(np.random.randn(1000, 2))\n",
    "\n",
    "def form(name):\n",
    "    text_input = pn.widgets.TextInput(name='Description')\n",
    "    button = pn.widgets.Button(name='Save'\n",
    "    , on_click=lambda _: layout.param.update(visible=False))\n",
    "    layout = pn.Column(f'# {name}', text_input, button)\n",
    "    return layout\n",
    "\n",
    "hv.streams.BoundsXY(source=points, popup=form('Bounds'))\n",
    "hv.streams.Lasso(source=points, popup=form('Lasso'))\n",
    "hv.streams.Tap(source=points, popup=form('Tap'))\n",
    "\n",
    "points.opts(tools=['box_select', 'lasso_select', 'tap'], width=600, height=600, size=6, color='black', fill_color=None)"
   ]
  },
  {
   "cell_type": "code",
   "execution_count": null,
   "metadata": {},
   "outputs": [],
   "source": [
    "import holoviews as hv\n",
    "import panel as pn\n",
    "import numpy as np\n",
    "pn.extension()\n",
    "hv.extension(\"bokeh\")\n",
    "\n",
    "def popup_distribution(index):\n",
    "    print(index)\n",
    "    x, y = points.iloc[index].data.T\n",
    "    return hv.Distribution((x, y)).opts(\n",
    "        width=100,\n",
    "        height=100,\n",
    "        toolbar=None,\n",
    "        yaxis=\"bare\",\n",
    "        xlabel=\"\",\n",
    "        xticks=[-1, 0, 1],\n",
    "        xlim=(-2, 2),\n",
    "    )\n",
    "\n",
    "\n",
    "points = hv.Points(np.random.randn(1000, 2))\n",
    "\n",
    "hv.streams.Selection1D(\n",
    "    source=points,\n",
    "    popup=popup_distribution,\n",
    ")\n",
    "\n",
    "pn.serve(points.opts(\n",
    "    tools=[\"box_select\", \"lasso_select\"],\n",
    "    active_tools=[\"lasso_select\"],\n",
    "    size=6,\n",
    "    color=\"black\",\n",
    "    fill_color=None,\n",
    "    width=500,\n",
    "    height=500\n",
    "))"
   ]
  },
  {
   "cell_type": "code",
   "execution_count": null,
   "metadata": {},
   "outputs": [],
   "source": [
    "import numpy as np\n",
    "import pandas as pd\n",
    "import holoviews as hv\n",
    "import matplotlib.pyplot as plt\n",
    "from holoviews.element import Bars\n",
    "from holoviews.plotting.mpl import Store\n",
    "import matplotlib.dates as mdates\n",
    "\n",
    "hv.extension(\"bokeh\")\n",
    "\n",
    "hv.Bars(([0, 1, 2, 10], [10, 20, 30, 40]))"
   ]
  },
  {
   "cell_type": "code",
   "execution_count": null,
   "metadata": {},
   "outputs": [],
   "source": [
    "import holoviews as hv\n",
    "import pandas as pd\n",
    "import matplotlib.pyplot as plt\n",
    "import numpy as np\n",
    "# hv.extension(\"matplotlib\")\n",
    "\n",
    "df = pd.DataFrame({\"x\": [1, 2, 3, 4, 5], \"y\": [10, 20, 30, 40, 50]})\n",
    "\n",
    "samples = 100\n",
    "\n",
    "pets = ['Cat', 'Dog', 'Hamster', 'Rabbit']\n",
    "genders = ['Female', 'Male', 'N/A']\n",
    "\n",
    "np.random.seed(100)\n",
    "pets_sample = np.random.choice(pets, samples)\n",
    "gender_sample = np.random.choice(genders, samples)\n",
    "\n",
    "bars = hv.Bars((pets_sample, gender_sample, np.ones(samples)), ['Pets', 'Gender']).aggregate(function=np.sum).opts(align=\"edge\")\n",
    "\n",
    "bars.opts(fig_size=300, aspect=2, show_legend=True, stacked=True)\n",
    "\n",
    "mpl_renderer = Store.renderers[\"matplotlib\"]\n",
    "plot = mpl_renderer.get_plot(bars)\n",
    "ax = plot.handles[\"axis\"]\n",
    "\n",
    "ax.get_xticklabels()"
   ]
  },
  {
   "cell_type": "code",
   "execution_count": null,
   "metadata": {},
   "outputs": [],
   "source": [
    "bars"
   ]
  }
 ],
 "metadata": {
  "language_info": {
   "name": "python",
   "pygments_lexer": "ipython3"
  }
 },
 "nbformat": 4,
 "nbformat_minor": 2
}
