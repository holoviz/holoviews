{
 "cells": [
  {
   "cell_type": "code",
   "execution_count": null,
   "metadata": {},
   "outputs": [],
   "source": [
    "import xarray as xr\n",
    "import panel as pn\n",
    "import holoviews as hv\n",
    "from holoviews.operation.datashader import rasterize\n",
    "import geoviews as gv\n",
    "import cartopy.crs as ccrs\n",
    "\n",
    "hv.extension(\"bokeh\")\n",
    "import hvplot.xarray\n",
    "\n",
    "ds = xr.tutorial.open_dataset(\"air_temperature\").isel(time=0)\n",
    "\n",
    "rasterize(\n",
    "    gv.Image(\n",
    "        ds,\n",
    "        [\"lon\", \"lat\"],\n",
    "        [\"air\"],\n",
    "        crs=ccrs.PlateCarree(),\n",
    "    ).opts(projection=ccrs.GOOGLE_MERCATOR)\n",
    ") * gv.feature.coastline().opts(projection=ccrs.GOOGLE_MERCATOR)"
   ]
  }
 ],
 "metadata": {
  "language_info": {
   "name": "python",
   "pygments_lexer": "ipython3"
  }
 },
 "nbformat": 4,
 "nbformat_minor": 2
}
