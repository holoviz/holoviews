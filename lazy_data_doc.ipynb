{
 "cells": [
  {
   "cell_type": "markdown",
   "metadata": {},
   "source": [
    "### Lazy Data\n",
    "\n",
    "Lazy data, or lazy loading of data, is a technique used in which data is not actually loaded until it is needed.  Computational expressions are stored as an object, but are not evaluated until told to do so.  If used effectively, this allows for a more efficient use of system resources and performance by allowing a user to separate a **list of computations** from actually **performing them**.  For example, the following are a few examples of how storing evaluations lazily can be important:  \n",
    "\n",
    "* You can select different compute engines to do the computations stored in the lazy pipeline (e.g. you can parallelize the computation, you can run it on GPUs, or run it on a remote server, etc.).\n",
    "* You can describe a series of operations where some of them might drastically reduce the size of the problem before computation begins, e.g. by sampling/selecting/slicing a large dataset for a case when only a small portion is actually used.\n",
    "* You can run the operation \"out of core\", i.e., processing only a chunk at a time rather than loading all of the data at once, when the same operation must be done on many datapoints that together would not fit into memory\n"
   ]
  },
  {
   "cell_type": "markdown",
   "metadata": {},
   "source": [
    "Let's look at an example of lazy data in action. If we create a function that generates the Fibonacci sequence for a given number of values, you may produce something like this:"
   ]
  },
  {
   "cell_type": "code",
   "execution_count": 1,
   "metadata": {},
   "outputs": [],
   "source": [
    "def fib_eager(n):\n",
    "    a, b = 0, 1\n",
    "    vals = []\n",
    "    for num in range(n):\n",
    "        vals.append(a)\n",
    "        a, b = b, a + b\n",
    "    return vals"
   ]
  },
  {
   "cell_type": "markdown",
   "metadata": {},
   "source": [
    "Calling this function for a value of ten may give you something like this:"
   ]
  },
  {
   "cell_type": "code",
   "execution_count": 150,
   "metadata": {},
   "outputs": [
    {
     "name": "stdout",
     "output_type": "stream",
     "text": [
      "[0, 1, 1, 2, 3, 5, 8, 13, 21, 34]\n"
     ]
    }
   ],
   "source": [
    "eager = fib_eager(10)\n",
    "print(eager)"
   ]
  },
  {
   "cell_type": "markdown",
   "metadata": {},
   "source": [
    "If you want to generate a lazy sequence of Fibonacci numbers, then you can use the `yield` statement to return a generator instead of the actual result. The computation will be performed until a later time when it is called for. "
   ]
  },
  {
   "cell_type": "code",
   "execution_count": 152,
   "metadata": {},
   "outputs": [],
   "source": [
    "def fib_lazy(n):\n",
    "    a, b = 0, 1\n",
    "    for num in range(n):\n",
    "        yield a\n",
    "        a, b = b, a + b\n"
   ]
  },
  {
   "cell_type": "code",
   "execution_count": 153,
   "metadata": {},
   "outputs": [],
   "source": [
    "lazy = fib_lazy(10)"
   ]
  },
  {
   "cell_type": "code",
   "execution_count": 154,
   "metadata": {},
   "outputs": [
    {
     "name": "stdout",
     "output_type": "stream",
     "text": [
      "<generator object fib_lazy at 0x7fd3edeee9d0>\n"
     ]
    }
   ],
   "source": [
    "print(lazy)"
   ]
  },
  {
   "cell_type": "markdown",
   "metadata": {},
   "source": [
    "If you want to actually see the values, you can loop through and generate each one at a time."
   ]
  },
  {
   "cell_type": "code",
   "execution_count": 155,
   "metadata": {},
   "outputs": [
    {
     "name": "stdout",
     "output_type": "stream",
     "text": [
      "0\n",
      "1\n",
      "1\n",
      "2\n",
      "3\n",
      "5\n",
      "8\n",
      "13\n",
      "21\n",
      "34\n"
     ]
    }
   ],
   "source": [
    "for n in range(10):\n",
    "    print(next(lazy))"
   ]
  },
  {
   "cell_type": "markdown",
   "metadata": {},
   "source": [
    "Let's say you want to only show the first 10 values, but the function is set up to run 1000 times.  In the eager example, in order to get the first 10, you'd have to compute all 1000 values and then return 10.  "
   ]
  },
  {
   "cell_type": "code",
   "execution_count": 156,
   "metadata": {},
   "outputs": [],
   "source": [
    "eager = fib_eager(1000)"
   ]
  },
  {
   "cell_type": "code",
   "execution_count": 157,
   "metadata": {},
   "outputs": [
    {
     "data": {
      "text/plain": [
       "1000"
      ]
     },
     "execution_count": 157,
     "metadata": {},
     "output_type": "execute_result"
    }
   ],
   "source": [
    "len(eager)"
   ]
  },
  {
   "cell_type": "code",
   "execution_count": 158,
   "metadata": {},
   "outputs": [
    {
     "data": {
      "text/plain": [
       "[0, 1, 1, 2, 3, 5, 8, 13, 21, 34]"
      ]
     },
     "execution_count": 158,
     "metadata": {},
     "output_type": "execute_result"
    }
   ],
   "source": [
    "eager[0:10]"
   ]
  },
  {
   "cell_type": "markdown",
   "metadata": {},
   "source": [
    "In the lazy version, you can set it for 1000, and then compute the first 10 values.  The generator returned will not actually compute anything until told on each run through the function."
   ]
  },
  {
   "cell_type": "markdown",
   "metadata": {},
   "source": [
    "### HoloViews and Lazy Data"
   ]
  },
  {
   "cell_type": "markdown",
   "metadata": {},
   "source": [
    "Holoviews is compatible with a few different libraries that make use of lazy evaluations.\n",
    "As explained here: https://holoviz.org/tutorial/Large_Data.html, HoloViews can accept [Dask](https://dask.org/) dataframes just as well as Pandas dataframes.  It has the computational infrastructure to accept lazy data objects, and will evaluate the objects as needed in order to display the relevant information.  In addition, HoloViews has more recently implemented the ability to plot [Ibis](https://ibis-project.org/) objects, making it possible to visualize data stored on a remote database."
   ]
  },
  {
   "cell_type": "markdown",
   "metadata": {},
   "source": [
    "The following a simple example of plotting a set of 100 random points stored in both a Pandas Dataframe and then the same plot is created from a Dask Dataframe."
   ]
  },
  {
   "cell_type": "code",
   "execution_count": 165,
   "metadata": {},
   "outputs": [],
   "source": [
    "import dask.dataframe as dd\n",
    "import pandas as pd\n",
    "import numpy as np\n",
    "import holoviews as hv\n",
    "hv.extension('bokeh')"
   ]
  },
  {
   "cell_type": "markdown",
   "metadata": {},
   "source": [
    "The Pandas dataframe is created."
   ]
  },
  {
   "cell_type": "code",
   "execution_count": 171,
   "metadata": {},
   "outputs": [],
   "source": [
    "df = pd.DataFrame({'x': np.random.normal(size = 100), 'y': np.random.normal(size = 100)})"
   ]
  },
  {
   "cell_type": "code",
   "execution_count": 173,
   "metadata": {},
   "outputs": [
    {
     "data": {
      "text/html": [
       "<div>\n",
       "<style scoped>\n",
       "    .dataframe tbody tr th:only-of-type {\n",
       "        vertical-align: middle;\n",
       "    }\n",
       "\n",
       "    .dataframe tbody tr th {\n",
       "        vertical-align: top;\n",
       "    }\n",
       "\n",
       "    .dataframe thead th {\n",
       "        text-align: right;\n",
       "    }\n",
       "</style>\n",
       "<table border=\"1\" class=\"dataframe\">\n",
       "  <thead>\n",
       "    <tr style=\"text-align: right;\">\n",
       "      <th></th>\n",
       "      <th>x</th>\n",
       "      <th>y</th>\n",
       "    </tr>\n",
       "  </thead>\n",
       "  <tbody>\n",
       "    <tr>\n",
       "      <th>0</th>\n",
       "      <td>-0.063265</td>\n",
       "      <td>-0.547954</td>\n",
       "    </tr>\n",
       "    <tr>\n",
       "      <th>1</th>\n",
       "      <td>-0.648552</td>\n",
       "      <td>1.573911</td>\n",
       "    </tr>\n",
       "    <tr>\n",
       "      <th>2</th>\n",
       "      <td>-1.485326</td>\n",
       "      <td>1.000877</td>\n",
       "    </tr>\n",
       "    <tr>\n",
       "      <th>3</th>\n",
       "      <td>-0.165583</td>\n",
       "      <td>-0.284508</td>\n",
       "    </tr>\n",
       "    <tr>\n",
       "      <th>4</th>\n",
       "      <td>-0.938139</td>\n",
       "      <td>-1.153042</td>\n",
       "    </tr>\n",
       "  </tbody>\n",
       "</table>\n",
       "</div>"
      ],
      "text/plain": [
       "          x         y\n",
       "0 -0.063265 -0.547954\n",
       "1 -0.648552  1.573911\n",
       "2 -1.485326  1.000877\n",
       "3 -0.165583 -0.284508\n",
       "4 -0.938139 -1.153042"
      ]
     },
     "execution_count": 173,
     "metadata": {},
     "output_type": "execute_result"
    }
   ],
   "source": [
    "df.head()"
   ]
  },
  {
   "cell_type": "markdown",
   "metadata": {},
   "source": [
    "Calling holoviews `Points` function will produce the following plot:"
   ]
  },
  {
   "cell_type": "code",
   "execution_count": 188,
   "metadata": {},
   "outputs": [
    {
     "data": {},
     "metadata": {},
     "output_type": "display_data"
    },
    {
     "data": {
      "application/vnd.holoviews_exec.v0+json": "",
      "text/html": [
       "<div id='1191'>\n",
       "\n",
       "\n",
       "\n",
       "\n",
       "\n",
       "  <div class=\"bk-root\" id=\"0ae6dab1-98ba-4594-80b6-87d53280877f\" data-root-id=\"1191\"></div>\n",
       "</div>\n",
       "<script type=\"application/javascript\">(function(root) {\n",
       "  function embed_document(root) {\n",
       "  var docs_json = {\"52ba9156-00fc-4acd-8eb9-221007588e62\":{\"roots\":{\"references\":[{\"attributes\":{\"axis\":{\"id\":\"1204\"},\"grid_line_color\":null,\"ticker\":null},\"id\":\"1207\",\"type\":\"Grid\"},{\"attributes\":{},\"id\":\"1209\",\"type\":\"BasicTicker\"},{\"attributes\":{},\"id\":\"1233\",\"type\":\"BasicTickFormatter\"},{\"attributes\":{\"axis_label\":\"y\",\"bounds\":\"auto\",\"formatter\":{\"id\":\"1235\"},\"major_label_orientation\":\"horizontal\",\"ticker\":{\"id\":\"1209\"}},\"id\":\"1208\",\"type\":\"LinearAxis\"},{\"attributes\":{\"data_source\":{\"id\":\"1224\"},\"glyph\":{\"id\":\"1227\"},\"hover_glyph\":null,\"muted_glyph\":{\"id\":\"1229\"},\"nonselection_glyph\":{\"id\":\"1228\"},\"selection_glyph\":null,\"view\":{\"id\":\"1231\"}},\"id\":\"1230\",\"type\":\"GlyphRenderer\"},{\"attributes\":{\"active_drag\":\"auto\",\"active_inspect\":\"auto\",\"active_multi\":null,\"active_scroll\":\"auto\",\"active_tap\":\"auto\",\"tools\":[{\"id\":\"1212\"},{\"id\":\"1213\"},{\"id\":\"1214\"},{\"id\":\"1215\"},{\"id\":\"1216\"}]},\"id\":\"1218\",\"type\":\"Toolbar\"},{\"attributes\":{\"fill_alpha\":{\"value\":0.1},\"fill_color\":{\"value\":\"#30a2da\"},\"line_alpha\":{\"value\":0.1},\"line_color\":{\"value\":\"#30a2da\"},\"size\":{\"units\":\"screen\",\"value\":2.449489742783178},\"x\":{\"field\":\"x\"},\"y\":{\"field\":\"y\"}},\"id\":\"1228\",\"type\":\"Scatter\"},{\"attributes\":{\"bottom_units\":\"screen\",\"fill_alpha\":0.5,\"fill_color\":\"lightgrey\",\"left_units\":\"screen\",\"level\":\"overlay\",\"line_alpha\":1.0,\"line_color\":\"black\",\"line_dash\":[4,4],\"line_width\":2,\"render_mode\":\"css\",\"right_units\":\"screen\",\"top_units\":\"screen\"},\"id\":\"1217\",\"type\":\"BoxAnnotation\"},{\"attributes\":{\"end\":2.7528534846357964,\"reset_end\":2.7528534846357964,\"reset_start\":-2.297808173669498,\"start\":-2.297808173669498,\"tags\":[[[\"y\",\"y\",null]]]},\"id\":\"1194\",\"type\":\"Range1d\"},{\"attributes\":{},\"id\":\"1212\",\"type\":\"SaveTool\"},{\"attributes\":{\"end\":2.8316135692103206,\"reset_end\":2.8316135692103206,\"reset_start\":-2.788634281648066,\"start\":-2.788634281648066,\"tags\":[[[\"x\",\"x\",null]]]},\"id\":\"1193\",\"type\":\"Range1d\"},{\"attributes\":{},\"id\":\"1225\",\"type\":\"Selection\"},{\"attributes\":{},\"id\":\"1242\",\"type\":\"UnionRenderers\"},{\"attributes\":{\"below\":[{\"id\":\"1204\"}],\"center\":[{\"id\":\"1207\"},{\"id\":\"1211\"}],\"left\":[{\"id\":\"1208\"}],\"margin\":null,\"min_border_bottom\":10,\"min_border_left\":10,\"min_border_right\":10,\"min_border_top\":10,\"plot_height\":300,\"plot_width\":300,\"renderers\":[{\"id\":\"1230\"}],\"sizing_mode\":\"fixed\",\"title\":{\"id\":\"1196\"},\"toolbar\":{\"id\":\"1218\"},\"x_range\":{\"id\":\"1193\"},\"x_scale\":{\"id\":\"1200\"},\"y_range\":{\"id\":\"1194\"},\"y_scale\":{\"id\":\"1202\"}},\"id\":\"1195\",\"subtype\":\"Figure\",\"type\":\"Plot\"},{\"attributes\":{\"children\":[{\"id\":\"1192\"},{\"id\":\"1195\"},{\"id\":\"1244\"}],\"margin\":[0,0,0,0],\"name\":\"Row01652\",\"tags\":[\"embedded\"]},\"id\":\"1191\",\"type\":\"Row\"},{\"attributes\":{\"fill_color\":{\"value\":\"#30a2da\"},\"line_color\":{\"value\":\"#30a2da\"},\"size\":{\"units\":\"screen\",\"value\":2.449489742783178},\"x\":{\"field\":\"x\"},\"y\":{\"field\":\"y\"}},\"id\":\"1227\",\"type\":\"Scatter\"},{\"attributes\":{\"margin\":[5,5,5,5],\"name\":\"HSpacer01656\",\"sizing_mode\":\"stretch_width\"},\"id\":\"1192\",\"type\":\"Spacer\"},{\"attributes\":{},\"id\":\"1213\",\"type\":\"PanTool\"},{\"attributes\":{\"margin\":[5,5,5,5],\"name\":\"HSpacer01657\",\"sizing_mode\":\"stretch_width\"},\"id\":\"1244\",\"type\":\"Spacer\"},{\"attributes\":{\"source\":{\"id\":\"1224\"}},\"id\":\"1231\",\"type\":\"CDSView\"},{\"attributes\":{\"text\":\"\",\"text_color\":{\"value\":\"black\"},\"text_font_size\":{\"value\":\"12pt\"}},\"id\":\"1196\",\"type\":\"Title\"},{\"attributes\":{},\"id\":\"1200\",\"type\":\"LinearScale\"},{\"attributes\":{},\"id\":\"1235\",\"type\":\"BasicTickFormatter\"},{\"attributes\":{\"axis_label\":\"x\",\"bounds\":\"auto\",\"formatter\":{\"id\":\"1233\"},\"major_label_orientation\":\"horizontal\",\"ticker\":{\"id\":\"1205\"}},\"id\":\"1204\",\"type\":\"LinearAxis\"},{\"attributes\":{},\"id\":\"1202\",\"type\":\"LinearScale\"},{\"attributes\":{},\"id\":\"1214\",\"type\":\"WheelZoomTool\"},{\"attributes\":{},\"id\":\"1205\",\"type\":\"BasicTicker\"},{\"attributes\":{\"overlay\":{\"id\":\"1217\"}},\"id\":\"1215\",\"type\":\"BoxZoomTool\"},{\"attributes\":{\"data\":{\"x\":{\"__ndarray__\":\"IRWXBB4ysL9k05hs8MDkv+Ensiblw/e/cPwQT9Exxb+wrMiuOwXuv6e4ezNcgvG/yKHIbE1t+b8lx7ij9OcCQDU2YUObMeI/NmylDNe43b+zuyIUl/CkPxUkIhN+1eC/SZh0ln6D0L9r5UrGJSYBwJHVL06bAPe/5sH5iGDO9D/9y3g3M67hvz88U5xpQ+8/muBVfOIOVD8qngTztMnkP34UJgbNEfI/C9pwsf7DzD/hr836cQC6P3hBcVcuLJ2/voSBdOM/5r8fQv3GBmjwv6NS4e97sPQ/oE5wjyka3b+mvK77vp/qP7n0FAlC0+C/OwlviMp0pL95W/J6B3HFP52tGrR2UdK/AyHLD1fc5j88IQDeiYnQP+pocde6Xvc/YD3cxC0//b84U8prBV/YPzKEaC7a6v2/QPW2EorV6D+PyMSZqeniv0m2gpFsR9U/NJ2rLGQQ7r/mNieKqKy3Pw58+RN4//A/cgNGrC6c+T/vpooVynvav1xQKl3Z5+6/9JeBG2l88j8FlQ9Iutvmv4J+kVIDc/C/cVAHlJZi7b82HXmKLofXv+LUf/MPnAHAKkmp8tsu+j8fFjb765DcP0R+vY5EJfI/tP1LE1vf7D8+TwXLzdznP5WFkIjwdfg/parI5WIWzr8WxyFhTsL2vxujZiyd99k/8n2QuFcZ5T8pz048EnvLv15wCGqvhdi/bMXWTnO07z8EJPEh2onwP/Gj8CZcZ+Y/m6Lno30ctb/ndY075PPkPwT581CDPf4/dKklMMOp+D+7m+HjI0fyP5cy1s2baui/fwuWXZtZ2z+NmFCAQIPBP2y/glMqgeA/DdAZH5Wv1L/BrK1rybTpv34qEyfR2+E/2PeWNCL26r+c/rCwmVHpP0gEAST19d0/5nmIM43p8z9LCCYpoTTsP4HsY98q/+g/QrAG1cNU0L/rzid13iTYv14V7vA6Of+/S07cYLei6r9++37SPTr3P8F3h3zQfuO/hUnMN1rH07+UVyb4Xefpv2ZTGJOFYfA/U+VkHe+PAsDTENqxY7O9v2VkCBw/deY/b3kbyrk1AEA=\",\"dtype\":\"float64\",\"shape\":[100]},\"y\":{\"__ndarray__\":\"5GZVjNaI4b/MVUmgvS75P4dZQWyXA/A/kULgdGI10r96TkCl3HLyvwnblYcfOc2/DMUF0iiTpL8DGlRMN6nxv82Cew/HQea/iSahu0xWyj8z7M1MUhX0v0thziRJyPy/6HQ8ORkt779I+eV6iI2yP7dOzC0SA9c/L83VRd2nAkA/YKS5dcD+P4gmPuYXvdu/Xw15pHvC6z+aEthBHRbTP1KsNi0D2vU/DZbor93D0b/9roCskDzFv5E95uFgFOA/HinQnv5u+z/9LHctGzW7P5TNU0c+p/O/HtQe9NwH/r/9JS5CATzLv/4oBLhbF9m/Nbs+a1Zt8D+dx1ZxKZeuP0B0sczbivW/4LM1YfPVzb8PkDu8cov9P0Ain6xiJqY/X3gfpzfPuz+sO+k/RC/iv4gW2odWAPG/GxHztc4R4z++t/bQafbWv+hLQuQI3Pc/Y6AQ0SaS0L9LqHSXPELmPzQDZxZh3NI/vj5z0T/U1r/cwmFlJmSxv1+SoFiOLbG//OoxTn+L9j+w+sNBmi/sPxR0KPsL3PW/8ht/NW57/z8NVUD66gXkvyFTITd0sr2/TQfzttprAED7r/0vSr71vydW9063v/E//JgchDto5z+Ybo6XP9q5Pz0+glqprwFAvGhnZwfY/L+lnn4CUEuiv2A4hmJyW+u/0FzosybZ7r8tEmruzfGwPzgqgh90+PU/xzdXp59Uhj9gs3IumMbTvy2E2smCT78/u8ZfKVNC9b/FlnBq+fzyv5dJY70Rcv4/nTpotfCf4L/hthGSAhTzP7z8336uX/G/fiL2x8Mrzr8HWhzK6Jfmv4Y+8FOsDOA/omkRdlLU1T+QEXD1XMzNv7CMgXmygqo/ytvXnLHvuj/yWFgxSgrYv5Z8NwaQZv4/MhstJ6h08z8RZxn8l6zlPx15dpSamNG/clXCTYLo3r8PotTGYE3tv6L9m4L6/++/0+ENc7364j//Bi5jF3/3v/b8HY1IpJq/IlAo0xQQ7D+MybPefR3eP2a3jxflsuY/cDO3bjOa2r84/qPqz/7kv59C0cwtMqo/jAvzr6jY2z8=\",\"dtype\":\"float64\",\"shape\":[100]}},\"selected\":{\"id\":\"1225\"},\"selection_policy\":{\"id\":\"1242\"}},\"id\":\"1224\",\"type\":\"ColumnDataSource\"},{\"attributes\":{},\"id\":\"1216\",\"type\":\"ResetTool\"},{\"attributes\":{\"axis\":{\"id\":\"1208\"},\"dimension\":1,\"grid_line_color\":null,\"ticker\":null},\"id\":\"1211\",\"type\":\"Grid\"},{\"attributes\":{\"fill_alpha\":{\"value\":0.2},\"fill_color\":{\"value\":\"#30a2da\"},\"line_alpha\":{\"value\":0.2},\"line_color\":{\"value\":\"#30a2da\"},\"size\":{\"units\":\"screen\",\"value\":2.449489742783178},\"x\":{\"field\":\"x\"},\"y\":{\"field\":\"y\"}},\"id\":\"1229\",\"type\":\"Scatter\"}],\"root_ids\":[\"1191\"]},\"title\":\"Bokeh Application\",\"version\":\"2.0.2\"}};\n",
       "  var render_items = [{\"docid\":\"52ba9156-00fc-4acd-8eb9-221007588e62\",\"root_ids\":[\"1191\"],\"roots\":{\"1191\":\"0ae6dab1-98ba-4594-80b6-87d53280877f\"}}];\n",
       "  root.Bokeh.embed.embed_items_notebook(docs_json, render_items);\n",
       "  }\n",
       "if (root.Bokeh !== undefined) {\n",
       "    embed_document(root);\n",
       "  } else {\n",
       "    var attempts = 0;\n",
       "    var timer = setInterval(function(root) {\n",
       "      if (root.Bokeh !== undefined) {\n",
       "        clearInterval(timer);\n",
       "        embed_document(root);\n",
       "      } else if (document.readyState == \"complete\") {\n",
       "        attempts++;\n",
       "        if (attempts > 100) {\n",
       "          clearInterval(timer);\n",
       "          console.log(\"Bokeh: ERROR: Unable to run BokehJS code because BokehJS library is missing\");\n",
       "        }\n",
       "      }\n",
       "    }, 10, root)\n",
       "  }\n",
       "})(window);</script>"
      ],
      "text/plain": [
       ":Points   [x,y]"
      ]
     },
     "execution_count": 188,
     "metadata": {
      "application/vnd.holoviews_exec.v0+json": {
       "id": "1191"
      }
     },
     "output_type": "execute_result"
    }
   ],
   "source": [
    "hv.Points(data=df)"
   ]
  },
  {
   "cell_type": "markdown",
   "metadata": {},
   "source": [
    "The Dask dataframe is created from the Pandas dataframe.  It is split up between 2 partitions, just for example's sake."
   ]
  },
  {
   "cell_type": "code",
   "execution_count": 176,
   "metadata": {},
   "outputs": [],
   "source": [
    "ddf = dd.from_pandas(df, npartitions=2)"
   ]
  },
  {
   "cell_type": "markdown",
   "metadata": {},
   "source": [
    "As you can see here, the dataframe isn't actually shown unless you call `compute` on the dataframe"
   ]
  },
  {
   "cell_type": "code",
   "execution_count": 177,
   "metadata": {},
   "outputs": [
    {
     "data": {
      "text/html": [
       "<div><strong>Dask DataFrame Structure:</strong></div>\n",
       "<div>\n",
       "<style scoped>\n",
       "    .dataframe tbody tr th:only-of-type {\n",
       "        vertical-align: middle;\n",
       "    }\n",
       "\n",
       "    .dataframe tbody tr th {\n",
       "        vertical-align: top;\n",
       "    }\n",
       "\n",
       "    .dataframe thead th {\n",
       "        text-align: right;\n",
       "    }\n",
       "</style>\n",
       "<table border=\"1\" class=\"dataframe\">\n",
       "  <thead>\n",
       "    <tr style=\"text-align: right;\">\n",
       "      <th></th>\n",
       "      <th>x</th>\n",
       "      <th>y</th>\n",
       "    </tr>\n",
       "    <tr>\n",
       "      <th>npartitions=2</th>\n",
       "      <th></th>\n",
       "      <th></th>\n",
       "    </tr>\n",
       "  </thead>\n",
       "  <tbody>\n",
       "    <tr>\n",
       "      <th>0</th>\n",
       "      <td>float64</td>\n",
       "      <td>float64</td>\n",
       "    </tr>\n",
       "    <tr>\n",
       "      <th>50</th>\n",
       "      <td>...</td>\n",
       "      <td>...</td>\n",
       "    </tr>\n",
       "    <tr>\n",
       "      <th>99</th>\n",
       "      <td>...</td>\n",
       "      <td>...</td>\n",
       "    </tr>\n",
       "  </tbody>\n",
       "</table>\n",
       "</div>\n",
       "<div>Dask Name: from_pandas, 2 tasks</div>"
      ],
      "text/plain": [
       "Dask DataFrame Structure:\n",
       "                     x        y\n",
       "npartitions=2                  \n",
       "0              float64  float64\n",
       "50                 ...      ...\n",
       "99                 ...      ...\n",
       "Dask Name: from_pandas, 2 tasks"
      ]
     },
     "execution_count": 177,
     "metadata": {},
     "output_type": "execute_result"
    }
   ],
   "source": [
    "ddf"
   ]
  },
  {
   "cell_type": "code",
   "execution_count": 186,
   "metadata": {},
   "outputs": [
    {
     "data": {
      "text/html": [
       "<div>\n",
       "<style scoped>\n",
       "    .dataframe tbody tr th:only-of-type {\n",
       "        vertical-align: middle;\n",
       "    }\n",
       "\n",
       "    .dataframe tbody tr th {\n",
       "        vertical-align: top;\n",
       "    }\n",
       "\n",
       "    .dataframe thead th {\n",
       "        text-align: right;\n",
       "    }\n",
       "</style>\n",
       "<table border=\"1\" class=\"dataframe\">\n",
       "  <thead>\n",
       "    <tr style=\"text-align: right;\">\n",
       "      <th></th>\n",
       "      <th>x</th>\n",
       "      <th>y</th>\n",
       "    </tr>\n",
       "  </thead>\n",
       "  <tbody>\n",
       "    <tr>\n",
       "      <th>0</th>\n",
       "      <td>-0.063265</td>\n",
       "      <td>-0.547954</td>\n",
       "    </tr>\n",
       "    <tr>\n",
       "      <th>1</th>\n",
       "      <td>-0.648552</td>\n",
       "      <td>1.573911</td>\n",
       "    </tr>\n",
       "    <tr>\n",
       "      <th>2</th>\n",
       "      <td>-1.485326</td>\n",
       "      <td>1.000877</td>\n",
       "    </tr>\n",
       "    <tr>\n",
       "      <th>3</th>\n",
       "      <td>-0.165583</td>\n",
       "      <td>-0.284508</td>\n",
       "    </tr>\n",
       "    <tr>\n",
       "      <th>4</th>\n",
       "      <td>-0.938139</td>\n",
       "      <td>-1.153042</td>\n",
       "    </tr>\n",
       "    <tr>\n",
       "      <th>...</th>\n",
       "      <td>...</td>\n",
       "      <td>...</td>\n",
       "    </tr>\n",
       "    <tr>\n",
       "      <th>95</th>\n",
       "      <td>1.023809</td>\n",
       "      <td>0.709338</td>\n",
       "    </tr>\n",
       "    <tr>\n",
       "      <th>96</th>\n",
       "      <td>-2.320280</td>\n",
       "      <td>-0.415662</td>\n",
       "    </tr>\n",
       "    <tr>\n",
       "      <th>97</th>\n",
       "      <td>-0.116019</td>\n",
       "      <td>-0.656105</td>\n",
       "    </tr>\n",
       "    <tr>\n",
       "      <th>98</th>\n",
       "      <td>0.701812</td>\n",
       "      <td>0.051164</td>\n",
       "    </tr>\n",
       "    <tr>\n",
       "      <th>99</th>\n",
       "      <td>2.026233</td>\n",
       "      <td>0.435099</td>\n",
       "    </tr>\n",
       "  </tbody>\n",
       "</table>\n",
       "<p>100 rows × 2 columns</p>\n",
       "</div>"
      ],
      "text/plain": [
       "           x         y\n",
       "0  -0.063265 -0.547954\n",
       "1  -0.648552  1.573911\n",
       "2  -1.485326  1.000877\n",
       "3  -0.165583 -0.284508\n",
       "4  -0.938139 -1.153042\n",
       "..       ...       ...\n",
       "95  1.023809  0.709338\n",
       "96 -2.320280 -0.415662\n",
       "97 -0.116019 -0.656105\n",
       "98  0.701812  0.051164\n",
       "99  2.026233  0.435099\n",
       "\n",
       "[100 rows x 2 columns]"
      ]
     },
     "execution_count": 186,
     "metadata": {},
     "output_type": "execute_result"
    }
   ],
   "source": [
    "ddf.compute()"
   ]
  },
  {
   "cell_type": "markdown",
   "metadata": {},
   "source": [
    "The same plot is created now using the Dask dataframe `ddf` instead of the pandas dataframe:"
   ]
  },
  {
   "cell_type": "code",
   "execution_count": 189,
   "metadata": {},
   "outputs": [
    {
     "data": {},
     "metadata": {},
     "output_type": "display_data"
    },
    {
     "data": {
      "application/vnd.holoviews_exec.v0+json": "",
      "text/html": [
       "<div id='1286'>\n",
       "\n",
       "\n",
       "\n",
       "\n",
       "\n",
       "  <div class=\"bk-root\" id=\"46f4b971-ecfc-4d45-9769-9e9014972bf7\" data-root-id=\"1286\"></div>\n",
       "</div>\n",
       "<script type=\"application/javascript\">(function(root) {\n",
       "  function embed_document(root) {\n",
       "  var docs_json = {\"258449c1-9de7-42b0-bad5-338dec69f3b5\":{\"roots\":{\"references\":[{\"attributes\":{\"end\":2.8316135692103206,\"reset_end\":2.8316135692103206,\"reset_start\":-2.788634281648066,\"start\":-2.788634281648066,\"tags\":[[[\"x\",\"x\",null]]]},\"id\":\"1288\",\"type\":\"Range1d\"},{\"attributes\":{\"axis_label\":\"x\",\"bounds\":\"auto\",\"formatter\":{\"id\":\"1328\"},\"major_label_orientation\":\"horizontal\",\"ticker\":{\"id\":\"1300\"}},\"id\":\"1299\",\"type\":\"LinearAxis\"},{\"attributes\":{\"fill_alpha\":{\"value\":0.1},\"fill_color\":{\"value\":\"#30a2da\"},\"line_alpha\":{\"value\":0.1},\"line_color\":{\"value\":\"#30a2da\"},\"size\":{\"units\":\"screen\",\"value\":2.449489742783178},\"x\":{\"field\":\"x\"},\"y\":{\"field\":\"y\"}},\"id\":\"1323\",\"type\":\"Scatter\"},{\"attributes\":{\"children\":[{\"id\":\"1287\"},{\"id\":\"1290\"},{\"id\":\"1339\"}],\"margin\":[0,0,0,0],\"name\":\"Row01735\",\"tags\":[\"embedded\"]},\"id\":\"1286\",\"type\":\"Row\"},{\"attributes\":{\"fill_alpha\":{\"value\":0.2},\"fill_color\":{\"value\":\"#30a2da\"},\"line_alpha\":{\"value\":0.2},\"line_color\":{\"value\":\"#30a2da\"},\"size\":{\"units\":\"screen\",\"value\":2.449489742783178},\"x\":{\"field\":\"x\"},\"y\":{\"field\":\"y\"}},\"id\":\"1324\",\"type\":\"Scatter\"},{\"attributes\":{\"axis\":{\"id\":\"1303\"},\"dimension\":1,\"grid_line_color\":null,\"ticker\":null},\"id\":\"1306\",\"type\":\"Grid\"},{\"attributes\":{\"data\":{\"x\":{\"__ndarray__\":\"IRWXBB4ysL9k05hs8MDkv+Ensiblw/e/cPwQT9Exxb+wrMiuOwXuv6e4ezNcgvG/yKHIbE1t+b8lx7ij9OcCQDU2YUObMeI/NmylDNe43b+zuyIUl/CkPxUkIhN+1eC/SZh0ln6D0L9r5UrGJSYBwJHVL06bAPe/5sH5iGDO9D/9y3g3M67hvz88U5xpQ+8/muBVfOIOVD8qngTztMnkP34UJgbNEfI/C9pwsf7DzD/hr836cQC6P3hBcVcuLJ2/voSBdOM/5r8fQv3GBmjwv6NS4e97sPQ/oE5wjyka3b+mvK77vp/qP7n0FAlC0+C/OwlviMp0pL95W/J6B3HFP52tGrR2UdK/AyHLD1fc5j88IQDeiYnQP+pocde6Xvc/YD3cxC0//b84U8prBV/YPzKEaC7a6v2/QPW2EorV6D+PyMSZqeniv0m2gpFsR9U/NJ2rLGQQ7r/mNieKqKy3Pw58+RN4//A/cgNGrC6c+T/vpooVynvav1xQKl3Z5+6/9JeBG2l88j8FlQ9Iutvmv4J+kVIDc/C/cVAHlJZi7b82HXmKLofXv+LUf/MPnAHAKkmp8tsu+j8fFjb765DcP0R+vY5EJfI/tP1LE1vf7D8+TwXLzdznP5WFkIjwdfg/parI5WIWzr8WxyFhTsL2vxujZiyd99k/8n2QuFcZ5T8pz048EnvLv15wCGqvhdi/bMXWTnO07z8EJPEh2onwP/Gj8CZcZ+Y/m6Lno30ctb/ndY075PPkPwT581CDPf4/dKklMMOp+D+7m+HjI0fyP5cy1s2baui/fwuWXZtZ2z+NmFCAQIPBP2y/glMqgeA/DdAZH5Wv1L/BrK1rybTpv34qEyfR2+E/2PeWNCL26r+c/rCwmVHpP0gEAST19d0/5nmIM43p8z9LCCYpoTTsP4HsY98q/+g/QrAG1cNU0L/rzid13iTYv14V7vA6Of+/S07cYLei6r9++37SPTr3P8F3h3zQfuO/hUnMN1rH07+UVyb4Xefpv2ZTGJOFYfA/U+VkHe+PAsDTENqxY7O9v2VkCBw/deY/b3kbyrk1AEA=\",\"dtype\":\"float64\",\"shape\":[100]},\"y\":{\"__ndarray__\":\"5GZVjNaI4b/MVUmgvS75P4dZQWyXA/A/kULgdGI10r96TkCl3HLyvwnblYcfOc2/DMUF0iiTpL8DGlRMN6nxv82Cew/HQea/iSahu0xWyj8z7M1MUhX0v0thziRJyPy/6HQ8ORkt779I+eV6iI2yP7dOzC0SA9c/L83VRd2nAkA/YKS5dcD+P4gmPuYXvdu/Xw15pHvC6z+aEthBHRbTP1KsNi0D2vU/DZbor93D0b/9roCskDzFv5E95uFgFOA/HinQnv5u+z/9LHctGzW7P5TNU0c+p/O/HtQe9NwH/r/9JS5CATzLv/4oBLhbF9m/Nbs+a1Zt8D+dx1ZxKZeuP0B0sczbivW/4LM1YfPVzb8PkDu8cov9P0Ain6xiJqY/X3gfpzfPuz+sO+k/RC/iv4gW2odWAPG/GxHztc4R4z++t/bQafbWv+hLQuQI3Pc/Y6AQ0SaS0L9LqHSXPELmPzQDZxZh3NI/vj5z0T/U1r/cwmFlJmSxv1+SoFiOLbG//OoxTn+L9j+w+sNBmi/sPxR0KPsL3PW/8ht/NW57/z8NVUD66gXkvyFTITd0sr2/TQfzttprAED7r/0vSr71vydW9063v/E//JgchDto5z+Ybo6XP9q5Pz0+glqprwFAvGhnZwfY/L+lnn4CUEuiv2A4hmJyW+u/0FzosybZ7r8tEmruzfGwPzgqgh90+PU/xzdXp59Uhj9gs3IumMbTvy2E2smCT78/u8ZfKVNC9b/FlnBq+fzyv5dJY70Rcv4/nTpotfCf4L/hthGSAhTzP7z8336uX/G/fiL2x8Mrzr8HWhzK6Jfmv4Y+8FOsDOA/omkRdlLU1T+QEXD1XMzNv7CMgXmygqo/ytvXnLHvuj/yWFgxSgrYv5Z8NwaQZv4/MhstJ6h08z8RZxn8l6zlPx15dpSamNG/clXCTYLo3r8PotTGYE3tv6L9m4L6/++/0+ENc7364j//Bi5jF3/3v/b8HY1IpJq/IlAo0xQQ7D+MybPefR3eP2a3jxflsuY/cDO3bjOa2r84/qPqz/7kv59C0cwtMqo/jAvzr6jY2z8=\",\"dtype\":\"float64\",\"shape\":[100]}},\"selected\":{\"id\":\"1320\"},\"selection_policy\":{\"id\":\"1337\"}},\"id\":\"1319\",\"type\":\"ColumnDataSource\"},{\"attributes\":{},\"id\":\"1300\",\"type\":\"BasicTicker\"},{\"attributes\":{\"axis\":{\"id\":\"1299\"},\"grid_line_color\":null,\"ticker\":null},\"id\":\"1302\",\"type\":\"Grid\"},{\"attributes\":{},\"id\":\"1304\",\"type\":\"BasicTicker\"},{\"attributes\":{\"below\":[{\"id\":\"1299\"}],\"center\":[{\"id\":\"1302\"},{\"id\":\"1306\"}],\"left\":[{\"id\":\"1303\"}],\"margin\":null,\"min_border_bottom\":10,\"min_border_left\":10,\"min_border_right\":10,\"min_border_top\":10,\"plot_height\":300,\"plot_width\":300,\"renderers\":[{\"id\":\"1325\"}],\"sizing_mode\":\"fixed\",\"title\":{\"id\":\"1291\"},\"toolbar\":{\"id\":\"1313\"},\"x_range\":{\"id\":\"1288\"},\"x_scale\":{\"id\":\"1295\"},\"y_range\":{\"id\":\"1289\"},\"y_scale\":{\"id\":\"1297\"}},\"id\":\"1290\",\"subtype\":\"Figure\",\"type\":\"Plot\"},{\"attributes\":{\"axis_label\":\"y\",\"bounds\":\"auto\",\"formatter\":{\"id\":\"1330\"},\"major_label_orientation\":\"horizontal\",\"ticker\":{\"id\":\"1304\"}},\"id\":\"1303\",\"type\":\"LinearAxis\"},{\"attributes\":{\"text\":\"\",\"text_color\":{\"value\":\"black\"},\"text_font_size\":{\"value\":\"12pt\"}},\"id\":\"1291\",\"type\":\"Title\"},{\"attributes\":{\"fill_color\":{\"value\":\"#30a2da\"},\"line_color\":{\"value\":\"#30a2da\"},\"size\":{\"units\":\"screen\",\"value\":2.449489742783178},\"x\":{\"field\":\"x\"},\"y\":{\"field\":\"y\"}},\"id\":\"1322\",\"type\":\"Scatter\"},{\"attributes\":{\"active_drag\":\"auto\",\"active_inspect\":\"auto\",\"active_multi\":null,\"active_scroll\":\"auto\",\"active_tap\":\"auto\",\"tools\":[{\"id\":\"1307\"},{\"id\":\"1308\"},{\"id\":\"1309\"},{\"id\":\"1310\"},{\"id\":\"1311\"}]},\"id\":\"1313\",\"type\":\"Toolbar\"},{\"attributes\":{\"end\":2.7528534846357964,\"reset_end\":2.7528534846357964,\"reset_start\":-2.297808173669498,\"start\":-2.297808173669498,\"tags\":[[[\"y\",\"y\",null]]]},\"id\":\"1289\",\"type\":\"Range1d\"},{\"attributes\":{\"bottom_units\":\"screen\",\"fill_alpha\":0.5,\"fill_color\":\"lightgrey\",\"left_units\":\"screen\",\"level\":\"overlay\",\"line_alpha\":1.0,\"line_color\":\"black\",\"line_dash\":[4,4],\"line_width\":2,\"render_mode\":\"css\",\"right_units\":\"screen\",\"top_units\":\"screen\"},\"id\":\"1312\",\"type\":\"BoxAnnotation\"},{\"attributes\":{\"data_source\":{\"id\":\"1319\"},\"glyph\":{\"id\":\"1322\"},\"hover_glyph\":null,\"muted_glyph\":{\"id\":\"1324\"},\"nonselection_glyph\":{\"id\":\"1323\"},\"selection_glyph\":null,\"view\":{\"id\":\"1326\"}},\"id\":\"1325\",\"type\":\"GlyphRenderer\"},{\"attributes\":{\"source\":{\"id\":\"1319\"}},\"id\":\"1326\",\"type\":\"CDSView\"},{\"attributes\":{},\"id\":\"1307\",\"type\":\"SaveTool\"},{\"attributes\":{},\"id\":\"1328\",\"type\":\"BasicTickFormatter\"},{\"attributes\":{\"margin\":[5,5,5,5],\"name\":\"HSpacer01740\",\"sizing_mode\":\"stretch_width\"},\"id\":\"1339\",\"type\":\"Spacer\"},{\"attributes\":{},\"id\":\"1308\",\"type\":\"PanTool\"},{\"attributes\":{},\"id\":\"1337\",\"type\":\"UnionRenderers\"},{\"attributes\":{},\"id\":\"1309\",\"type\":\"WheelZoomTool\"},{\"attributes\":{},\"id\":\"1320\",\"type\":\"Selection\"},{\"attributes\":{},\"id\":\"1330\",\"type\":\"BasicTickFormatter\"},{\"attributes\":{\"overlay\":{\"id\":\"1312\"}},\"id\":\"1310\",\"type\":\"BoxZoomTool\"},{\"attributes\":{},\"id\":\"1295\",\"type\":\"LinearScale\"},{\"attributes\":{},\"id\":\"1311\",\"type\":\"ResetTool\"},{\"attributes\":{\"margin\":[5,5,5,5],\"name\":\"HSpacer01739\",\"sizing_mode\":\"stretch_width\"},\"id\":\"1287\",\"type\":\"Spacer\"},{\"attributes\":{},\"id\":\"1297\",\"type\":\"LinearScale\"}],\"root_ids\":[\"1286\"]},\"title\":\"Bokeh Application\",\"version\":\"2.0.2\"}};\n",
       "  var render_items = [{\"docid\":\"258449c1-9de7-42b0-bad5-338dec69f3b5\",\"root_ids\":[\"1286\"],\"roots\":{\"1286\":\"46f4b971-ecfc-4d45-9769-9e9014972bf7\"}}];\n",
       "  root.Bokeh.embed.embed_items_notebook(docs_json, render_items);\n",
       "  }\n",
       "if (root.Bokeh !== undefined) {\n",
       "    embed_document(root);\n",
       "  } else {\n",
       "    var attempts = 0;\n",
       "    var timer = setInterval(function(root) {\n",
       "      if (root.Bokeh !== undefined) {\n",
       "        clearInterval(timer);\n",
       "        embed_document(root);\n",
       "      } else if (document.readyState == \"complete\") {\n",
       "        attempts++;\n",
       "        if (attempts > 100) {\n",
       "          clearInterval(timer);\n",
       "          console.log(\"Bokeh: ERROR: Unable to run BokehJS code because BokehJS library is missing\");\n",
       "        }\n",
       "      }\n",
       "    }, 10, root)\n",
       "  }\n",
       "})(window);</script>"
      ],
      "text/plain": [
       ":Points   [x,y]"
      ]
     },
     "execution_count": 189,
     "metadata": {
      "application/vnd.holoviews_exec.v0+json": {
       "id": "1286"
      }
     },
     "output_type": "execute_result"
    }
   ],
   "source": [
    "hv.Points(data=ddf).compute()"
   ]
  },
  {
   "cell_type": "markdown",
   "metadata": {},
   "source": [
    "### Persist vs Compute\n",
    "\n",
    "When using lazy evaluation of data, there are 2 different calls you can make on the lazy data objects--`.compute()` or `.persist()`.  The call to `.compute()` is just like it sounds, this is the call to run the computation stored in your lazy object.  This function will compute the result and instead of a task graph, you will get the actual computation returned to you.  A Dask (or Ibis) dataframe computed would result in a single Pandas dataframe on your local computer. This should only be done if the result can fit into memory.\n",
    "\n"
   ]
  },
  {
   "cell_type": "markdown",
   "metadata": {},
   "source": [
    "### When would you want to use .persist() when using HoloViews?\n",
    "\n",
    "In some cases, it may be useful to obtain results mid-way through a computation, but leave the results split up among the different parallel processes that make up the entire computation.  If you have a Dask cluster that is running a computation on several partitions of a large Dask dataframe, you can use `.persist()` to compute something on each of the partitions in the cluster.  The result of each of those partitions will be stored on their respective nodes.  The object returned to you will now point to those running processes, where the computation is stored in memory.  The object you see is still a lazy object, but some part of the computation is persisting in memory split among many nodes.  The benefit of this is that you do not have to keep running the same computation over and over again every time you need to do a different computation or plot further down the task chain.\n",
    "\n",
    "Doing any computations before plotting (aggregating or reducing your data, for example), calling .persist() on these computations will avoid evaluating that portion of the task graph repeatedly, e.g. as a user zooms or pans on the plot.  These computations will be stored in memory on the cluster nodes, ready to be used when needed for your various plots.  \n",
    "\n",
    "### When do you use .compute()?  \n",
    "\n",
    "Some methods you may use will not support data being stored on multiple nodes.  You may need to perform a sort on the entire dataset or get an index location with `.iloc()`, and these require putting all the data on one node.  Ideally, you would specify a series of evaluations that could reduce your data (by aggregating, selecting, slicing, etc.), then call `.compute()` to obtain a result that will fit on a single machine's memory, even though it originated from a large distributed dataset.\n"
   ]
  }
 ],
 "metadata": {
  "kernelspec": {
   "display_name": "Python 3",
   "language": "python",
   "name": "python3"
  },
  "language_info": {
   "codemirror_mode": {
    "name": "ipython",
    "version": 3
   },
   "file_extension": ".py",
   "mimetype": "text/x-python",
   "name": "python",
   "nbconvert_exporter": "python",
   "pygments_lexer": "ipython3",
   "version": "3.7.7"
  }
 },
 "nbformat": 4,
 "nbformat_minor": 4
}
