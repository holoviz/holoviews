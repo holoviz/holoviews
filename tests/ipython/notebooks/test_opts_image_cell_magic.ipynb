{
 "cells": [
  {
   "cell_type": "code",
   "execution_count": null,
   "metadata": {},
   "outputs": [],
   "source": [
    "%%opts Image [xaxis=None] (cmap='viridis')\n",
    "hv.Image(np.random.rand(20,20))"
   ]
  }
 ],
 "metadata": {
  "language_info": {
   "name": "python",
   "pygments_lexer": "ipython3"
  }
 },
 "nbformat": 4,
 "nbformat_minor": 2
}
